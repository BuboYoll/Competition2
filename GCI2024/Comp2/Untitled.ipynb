{
 "cells": [
  {
   "cell_type": "code",
   "execution_count": 1,
   "id": "8c454f36-bd91-4d81-92d2-010eef3bce13",
   "metadata": {},
   "outputs": [],
   "source": [
    "import numpy as np\n",
    "import pandas as pd\n",
    "import matplotlib.pyplot as plt\n",
    "import seaborn as sns\n",
    "import warnings\n",
    "import lightgbm as lgb\n",
    "from sklearn.model_selection import train_test_split\n",
    "from sklearn.preprocessing import StandardScaler, OneHotEncoder\n",
    "from sklearn.metrics import roc_auc_score\n",
    "from sklearn.impute import SimpleImputer\n",
    "from sklearn.linear_model import LogisticRegression\n",
    "from sklearn.metrics import roc_auc_score, make_scorer\n",
    "from sklearn.preprocessing import LabelEncoder\n",
    "from xgboost import XGBClassifier\n",
    "from skopt import BayesSearchCV\n",
    "from skopt.space import Real, Integer\n",
    "from skopt.space import Categorical\n",
    "import torch\n",
    "import torch.nn as nn\n",
    "import torch.optim as optim\n",
    "from torch.utils.data import DataLoader, TensorDataset\n",
    "from sklearn.model_selection import GridSearchCV\n",
    "from xgboost import XGBClassifier"
   ]
  },
  {
   "cell_type": "code",
   "execution_count": 2,
   "id": "2465ced8-2229-4bb1-9a3b-483fa51e9b46",
   "metadata": {},
   "outputs": [
    {
     "data": {
      "text/html": [
       "<div>\n",
       "<style scoped>\n",
       "    .dataframe tbody tr th:only-of-type {\n",
       "        vertical-align: middle;\n",
       "    }\n",
       "\n",
       "    .dataframe tbody tr th {\n",
       "        vertical-align: top;\n",
       "    }\n",
       "\n",
       "    .dataframe thead th {\n",
       "        text-align: right;\n",
       "    }\n",
       "</style>\n",
       "<table border=\"1\" class=\"dataframe\">\n",
       "  <thead>\n",
       "    <tr style=\"text-align: right;\">\n",
       "      <th></th>\n",
       "      <th>SK_ID_CURR</th>\n",
       "      <th>TARGET</th>\n",
       "      <th>NAME_CONTRACT_TYPE</th>\n",
       "      <th>CODE_GENDER</th>\n",
       "      <th>FLAG_OWN_CAR</th>\n",
       "      <th>FLAG_OWN_REALTY</th>\n",
       "      <th>CNT_CHILDREN</th>\n",
       "      <th>AMT_INCOME_TOTAL</th>\n",
       "      <th>AMT_CREDIT</th>\n",
       "      <th>AMT_ANNUITY</th>\n",
       "      <th>...</th>\n",
       "      <th>EXT_SOURCE_3</th>\n",
       "      <th>OBS_30_CNT_SOCIAL_CIRCLE</th>\n",
       "      <th>DEF_30_CNT_SOCIAL_CIRCLE</th>\n",
       "      <th>OBS_60_CNT_SOCIAL_CIRCLE</th>\n",
       "      <th>DEF_60_CNT_SOCIAL_CIRCLE</th>\n",
       "      <th>DAYS_LAST_PHONE_CHANGE</th>\n",
       "      <th>AMT_REQ_CREDIT_BUREAU_HOUR</th>\n",
       "      <th>AMT_REQ_CREDIT_BUREAU_MON</th>\n",
       "      <th>AMT_REQ_CREDIT_BUREAU_QRT</th>\n",
       "      <th>AMT_REQ_CREDIT_BUREAU_YEAR</th>\n",
       "    </tr>\n",
       "  </thead>\n",
       "  <tbody>\n",
       "    <tr>\n",
       "      <th>0</th>\n",
       "      <td>0</td>\n",
       "      <td>0</td>\n",
       "      <td>Cash loans</td>\n",
       "      <td>F</td>\n",
       "      <td>N</td>\n",
       "      <td>N</td>\n",
       "      <td>0</td>\n",
       "      <td>112500.0</td>\n",
       "      <td>755190.0</td>\n",
       "      <td>36328.5</td>\n",
       "      <td>...</td>\n",
       "      <td>NaN</td>\n",
       "      <td>0.0</td>\n",
       "      <td>0.0</td>\n",
       "      <td>0.0</td>\n",
       "      <td>0.0</td>\n",
       "      <td>-292.0</td>\n",
       "      <td>NaN</td>\n",
       "      <td>NaN</td>\n",
       "      <td>NaN</td>\n",
       "      <td>NaN</td>\n",
       "    </tr>\n",
       "    <tr>\n",
       "      <th>1</th>\n",
       "      <td>1</td>\n",
       "      <td>0</td>\n",
       "      <td>Cash loans</td>\n",
       "      <td>F</td>\n",
       "      <td>N</td>\n",
       "      <td>Y</td>\n",
       "      <td>0</td>\n",
       "      <td>225000.0</td>\n",
       "      <td>585000.0</td>\n",
       "      <td>16893.0</td>\n",
       "      <td>...</td>\n",
       "      <td>0.553165</td>\n",
       "      <td>0.0</td>\n",
       "      <td>0.0</td>\n",
       "      <td>0.0</td>\n",
       "      <td>0.0</td>\n",
       "      <td>-617.0</td>\n",
       "      <td>0.0</td>\n",
       "      <td>0.0</td>\n",
       "      <td>0.0</td>\n",
       "      <td>1.0</td>\n",
       "    </tr>\n",
       "    <tr>\n",
       "      <th>2</th>\n",
       "      <td>2</td>\n",
       "      <td>0</td>\n",
       "      <td>Cash loans</td>\n",
       "      <td>F</td>\n",
       "      <td>N</td>\n",
       "      <td>Y</td>\n",
       "      <td>0</td>\n",
       "      <td>54000.0</td>\n",
       "      <td>334152.0</td>\n",
       "      <td>18256.5</td>\n",
       "      <td>...</td>\n",
       "      <td>NaN</td>\n",
       "      <td>4.0</td>\n",
       "      <td>0.0</td>\n",
       "      <td>4.0</td>\n",
       "      <td>0.0</td>\n",
       "      <td>-542.0</td>\n",
       "      <td>NaN</td>\n",
       "      <td>NaN</td>\n",
       "      <td>NaN</td>\n",
       "      <td>NaN</td>\n",
       "    </tr>\n",
       "    <tr>\n",
       "      <th>3</th>\n",
       "      <td>3</td>\n",
       "      <td>0</td>\n",
       "      <td>Cash loans</td>\n",
       "      <td>F</td>\n",
       "      <td>N</td>\n",
       "      <td>Y</td>\n",
       "      <td>0</td>\n",
       "      <td>67500.0</td>\n",
       "      <td>152820.0</td>\n",
       "      <td>8901.0</td>\n",
       "      <td>...</td>\n",
       "      <td>0.767523</td>\n",
       "      <td>0.0</td>\n",
       "      <td>0.0</td>\n",
       "      <td>0.0</td>\n",
       "      <td>0.0</td>\n",
       "      <td>0.0</td>\n",
       "      <td>0.0</td>\n",
       "      <td>0.0</td>\n",
       "      <td>0.0</td>\n",
       "      <td>0.0</td>\n",
       "    </tr>\n",
       "    <tr>\n",
       "      <th>4</th>\n",
       "      <td>4</td>\n",
       "      <td>1</td>\n",
       "      <td>Cash loans</td>\n",
       "      <td>M</td>\n",
       "      <td>N</td>\n",
       "      <td>N</td>\n",
       "      <td>0</td>\n",
       "      <td>157500.0</td>\n",
       "      <td>271066.5</td>\n",
       "      <td>21546.0</td>\n",
       "      <td>...</td>\n",
       "      <td>0.669057</td>\n",
       "      <td>0.0</td>\n",
       "      <td>0.0</td>\n",
       "      <td>0.0</td>\n",
       "      <td>0.0</td>\n",
       "      <td>-1243.0</td>\n",
       "      <td>0.0</td>\n",
       "      <td>0.0</td>\n",
       "      <td>0.0</td>\n",
       "      <td>4.0</td>\n",
       "    </tr>\n",
       "  </tbody>\n",
       "</table>\n",
       "<p>5 rows × 51 columns</p>\n",
       "</div>"
      ],
      "text/plain": [
       "   SK_ID_CURR  TARGET NAME_CONTRACT_TYPE CODE_GENDER FLAG_OWN_CAR  \\\n",
       "0           0       0         Cash loans           F            N   \n",
       "1           1       0         Cash loans           F            N   \n",
       "2           2       0         Cash loans           F            N   \n",
       "3           3       0         Cash loans           F            N   \n",
       "4           4       1         Cash loans           M            N   \n",
       "\n",
       "  FLAG_OWN_REALTY  CNT_CHILDREN  AMT_INCOME_TOTAL  AMT_CREDIT  AMT_ANNUITY  \\\n",
       "0               N             0          112500.0    755190.0      36328.5   \n",
       "1               Y             0          225000.0    585000.0      16893.0   \n",
       "2               Y             0           54000.0    334152.0      18256.5   \n",
       "3               Y             0           67500.0    152820.0       8901.0   \n",
       "4               N             0          157500.0    271066.5      21546.0   \n",
       "\n",
       "   ...  EXT_SOURCE_3 OBS_30_CNT_SOCIAL_CIRCLE DEF_30_CNT_SOCIAL_CIRCLE  \\\n",
       "0  ...           NaN                      0.0                      0.0   \n",
       "1  ...      0.553165                      0.0                      0.0   \n",
       "2  ...           NaN                      4.0                      0.0   \n",
       "3  ...      0.767523                      0.0                      0.0   \n",
       "4  ...      0.669057                      0.0                      0.0   \n",
       "\n",
       "  OBS_60_CNT_SOCIAL_CIRCLE DEF_60_CNT_SOCIAL_CIRCLE DAYS_LAST_PHONE_CHANGE  \\\n",
       "0                      0.0                      0.0                 -292.0   \n",
       "1                      0.0                      0.0                 -617.0   \n",
       "2                      4.0                      0.0                 -542.0   \n",
       "3                      0.0                      0.0                    0.0   \n",
       "4                      0.0                      0.0                -1243.0   \n",
       "\n",
       "   AMT_REQ_CREDIT_BUREAU_HOUR  AMT_REQ_CREDIT_BUREAU_MON  \\\n",
       "0                         NaN                        NaN   \n",
       "1                         0.0                        0.0   \n",
       "2                         NaN                        NaN   \n",
       "3                         0.0                        0.0   \n",
       "4                         0.0                        0.0   \n",
       "\n",
       "   AMT_REQ_CREDIT_BUREAU_QRT  AMT_REQ_CREDIT_BUREAU_YEAR  \n",
       "0                        NaN                         NaN  \n",
       "1                        0.0                         1.0  \n",
       "2                        NaN                         NaN  \n",
       "3                        0.0                         0.0  \n",
       "4                        0.0                         4.0  \n",
       "\n",
       "[5 rows x 51 columns]"
      ]
     },
     "execution_count": 2,
     "metadata": {},
     "output_type": "execute_result"
    }
   ],
   "source": [
    "#load data\n",
    "train = pd.DataFrame(pd.read_csv('./input/train.csv'))\n",
    "test = pd.DataFrame(pd.read_csv('./input/test.csv'))\n",
    "train.head()"
   ]
  },
  {
   "cell_type": "code",
   "execution_count": 3,
   "id": "ebb8fa1a-019c-4e4c-9694-884e49bb70d5",
   "metadata": {},
   "outputs": [
    {
     "data": {
      "text/plain": [
       "SK_ID_CURR                     0\n",
       "TARGET                         0\n",
       "NAME_CONTRACT_TYPE             0\n",
       "CODE_GENDER                    0\n",
       "CNT_CHILDREN                   0\n",
       "AMT_INCOME_TOTAL               0\n",
       "AMT_CREDIT                     0\n",
       "NAME_INCOME_TYPE               0\n",
       "NAME_EDUCATION_TYPE            0\n",
       "NAME_FAMILY_STATUS             0\n",
       "NAME_HOUSING_TYPE              0\n",
       "REGION_POPULATION_RELATIVE     0\n",
       "DAYS_BIRTH                     0\n",
       "DAYS_EMPLOYED                  0\n",
       "DAYS_REGISTRATION              0\n",
       "DAYS_ID_PUBLISH                0\n",
       "FLAG_MOBIL                     0\n",
       "FLAG_EMP_PHONE                 0\n",
       "FLAG_WORK_PHONE                0\n",
       "FLAG_CONT_MOBILE               0\n",
       "FLAG_PHONE                     0\n",
       "FLAG_EMAIL                     0\n",
       "REGION_RATING_CLIENT           0\n",
       "REGION_RATING_CLIENT_W_CITY    0\n",
       "REG_REGION_NOT_LIVE_REGION     0\n",
       "REG_REGION_NOT_WORK_REGION     0\n",
       "LIVE_REGION_NOT_WORK_REGION    0\n",
       "REG_CITY_NOT_LIVE_CITY         0\n",
       "REG_CITY_NOT_WORK_CITY         0\n",
       "LIVE_CITY_NOT_WORK_CITY        0\n",
       "ORGANIZATION_TYPE              0\n",
       "dtype: int64"
      ]
     },
     "execution_count": 3,
     "metadata": {},
     "output_type": "execute_result"
    }
   ],
   "source": [
    "train.isna().sum()[train.isna().sum()==0]"
   ]
  },
  {
   "cell_type": "code",
   "execution_count": 4,
   "id": "2e4d3f7e-419e-4f65-9c30-7f0b488cff63",
   "metadata": {},
   "outputs": [
    {
     "data": {
      "text/html": [
       "<div>\n",
       "<style scoped>\n",
       "    .dataframe tbody tr th:only-of-type {\n",
       "        vertical-align: middle;\n",
       "    }\n",
       "\n",
       "    .dataframe tbody tr th {\n",
       "        vertical-align: top;\n",
       "    }\n",
       "\n",
       "    .dataframe thead th {\n",
       "        text-align: right;\n",
       "    }\n",
       "</style>\n",
       "<table border=\"1\" class=\"dataframe\">\n",
       "  <thead>\n",
       "    <tr style=\"text-align: right;\">\n",
       "      <th></th>\n",
       "      <th>SK_ID_CURR</th>\n",
       "      <th>NAME_CONTRACT_TYPE</th>\n",
       "      <th>CODE_GENDER</th>\n",
       "      <th>FLAG_OWN_CAR</th>\n",
       "      <th>FLAG_OWN_REALTY</th>\n",
       "      <th>CNT_CHILDREN</th>\n",
       "      <th>AMT_INCOME_TOTAL</th>\n",
       "      <th>AMT_CREDIT</th>\n",
       "      <th>AMT_ANNUITY</th>\n",
       "      <th>AMT_GOODS_PRICE</th>\n",
       "      <th>...</th>\n",
       "      <th>EXT_SOURCE_3</th>\n",
       "      <th>OBS_30_CNT_SOCIAL_CIRCLE</th>\n",
       "      <th>DEF_30_CNT_SOCIAL_CIRCLE</th>\n",
       "      <th>OBS_60_CNT_SOCIAL_CIRCLE</th>\n",
       "      <th>DEF_60_CNT_SOCIAL_CIRCLE</th>\n",
       "      <th>DAYS_LAST_PHONE_CHANGE</th>\n",
       "      <th>AMT_REQ_CREDIT_BUREAU_HOUR</th>\n",
       "      <th>AMT_REQ_CREDIT_BUREAU_MON</th>\n",
       "      <th>AMT_REQ_CREDIT_BUREAU_QRT</th>\n",
       "      <th>AMT_REQ_CREDIT_BUREAU_YEAR</th>\n",
       "    </tr>\n",
       "  </thead>\n",
       "  <tbody>\n",
       "    <tr>\n",
       "      <th>0</th>\n",
       "      <td>171202</td>\n",
       "      <td>Cash loans</td>\n",
       "      <td>F</td>\n",
       "      <td>N</td>\n",
       "      <td>N</td>\n",
       "      <td>1</td>\n",
       "      <td>144000.0</td>\n",
       "      <td>961146.0</td>\n",
       "      <td>28233.0</td>\n",
       "      <td>688500.0</td>\n",
       "      <td>...</td>\n",
       "      <td>NaN</td>\n",
       "      <td>2.0</td>\n",
       "      <td>0.0</td>\n",
       "      <td>2.0</td>\n",
       "      <td>0.0</td>\n",
       "      <td>-1.0</td>\n",
       "      <td>NaN</td>\n",
       "      <td>NaN</td>\n",
       "      <td>NaN</td>\n",
       "      <td>NaN</td>\n",
       "    </tr>\n",
       "    <tr>\n",
       "      <th>1</th>\n",
       "      <td>171203</td>\n",
       "      <td>Cash loans</td>\n",
       "      <td>F</td>\n",
       "      <td>N</td>\n",
       "      <td>N</td>\n",
       "      <td>0</td>\n",
       "      <td>103500.0</td>\n",
       "      <td>296280.0</td>\n",
       "      <td>16069.5</td>\n",
       "      <td>225000.0</td>\n",
       "      <td>...</td>\n",
       "      <td>NaN</td>\n",
       "      <td>5.0</td>\n",
       "      <td>0.0</td>\n",
       "      <td>5.0</td>\n",
       "      <td>0.0</td>\n",
       "      <td>-212.0</td>\n",
       "      <td>NaN</td>\n",
       "      <td>NaN</td>\n",
       "      <td>NaN</td>\n",
       "      <td>NaN</td>\n",
       "    </tr>\n",
       "    <tr>\n",
       "      <th>2</th>\n",
       "      <td>171204</td>\n",
       "      <td>Cash loans</td>\n",
       "      <td>F</td>\n",
       "      <td>N</td>\n",
       "      <td>Y</td>\n",
       "      <td>1</td>\n",
       "      <td>180000.0</td>\n",
       "      <td>183694.5</td>\n",
       "      <td>11236.5</td>\n",
       "      <td>139500.0</td>\n",
       "      <td>...</td>\n",
       "      <td>0.389339</td>\n",
       "      <td>7.0</td>\n",
       "      <td>0.0</td>\n",
       "      <td>7.0</td>\n",
       "      <td>0.0</td>\n",
       "      <td>-428.0</td>\n",
       "      <td>0.0</td>\n",
       "      <td>1.0</td>\n",
       "      <td>1.0</td>\n",
       "      <td>1.0</td>\n",
       "    </tr>\n",
       "    <tr>\n",
       "      <th>3</th>\n",
       "      <td>171205</td>\n",
       "      <td>Revolving loans</td>\n",
       "      <td>F</td>\n",
       "      <td>N</td>\n",
       "      <td>Y</td>\n",
       "      <td>2</td>\n",
       "      <td>225000.0</td>\n",
       "      <td>450000.0</td>\n",
       "      <td>22500.0</td>\n",
       "      <td>450000.0</td>\n",
       "      <td>...</td>\n",
       "      <td>0.217629</td>\n",
       "      <td>2.0</td>\n",
       "      <td>0.0</td>\n",
       "      <td>2.0</td>\n",
       "      <td>0.0</td>\n",
       "      <td>-442.0</td>\n",
       "      <td>0.0</td>\n",
       "      <td>0.0</td>\n",
       "      <td>0.0</td>\n",
       "      <td>3.0</td>\n",
       "    </tr>\n",
       "    <tr>\n",
       "      <th>4</th>\n",
       "      <td>171206</td>\n",
       "      <td>Cash loans</td>\n",
       "      <td>F</td>\n",
       "      <td>Y</td>\n",
       "      <td>Y</td>\n",
       "      <td>2</td>\n",
       "      <td>144000.0</td>\n",
       "      <td>545040.0</td>\n",
       "      <td>26640.0</td>\n",
       "      <td>450000.0</td>\n",
       "      <td>...</td>\n",
       "      <td>NaN</td>\n",
       "      <td>2.0</td>\n",
       "      <td>0.0</td>\n",
       "      <td>2.0</td>\n",
       "      <td>0.0</td>\n",
       "      <td>-1333.0</td>\n",
       "      <td>0.0</td>\n",
       "      <td>0.0</td>\n",
       "      <td>0.0</td>\n",
       "      <td>3.0</td>\n",
       "    </tr>\n",
       "  </tbody>\n",
       "</table>\n",
       "<p>5 rows × 50 columns</p>\n",
       "</div>"
      ],
      "text/plain": [
       "   SK_ID_CURR NAME_CONTRACT_TYPE CODE_GENDER FLAG_OWN_CAR FLAG_OWN_REALTY  \\\n",
       "0      171202         Cash loans           F            N               N   \n",
       "1      171203         Cash loans           F            N               N   \n",
       "2      171204         Cash loans           F            N               Y   \n",
       "3      171205    Revolving loans           F            N               Y   \n",
       "4      171206         Cash loans           F            Y               Y   \n",
       "\n",
       "   CNT_CHILDREN  AMT_INCOME_TOTAL  AMT_CREDIT  AMT_ANNUITY  AMT_GOODS_PRICE  \\\n",
       "0             1          144000.0    961146.0      28233.0         688500.0   \n",
       "1             0          103500.0    296280.0      16069.5         225000.0   \n",
       "2             1          180000.0    183694.5      11236.5         139500.0   \n",
       "3             2          225000.0    450000.0      22500.0         450000.0   \n",
       "4             2          144000.0    545040.0      26640.0         450000.0   \n",
       "\n",
       "   ... EXT_SOURCE_3 OBS_30_CNT_SOCIAL_CIRCLE DEF_30_CNT_SOCIAL_CIRCLE  \\\n",
       "0  ...          NaN                      2.0                      0.0   \n",
       "1  ...          NaN                      5.0                      0.0   \n",
       "2  ...     0.389339                      7.0                      0.0   \n",
       "3  ...     0.217629                      2.0                      0.0   \n",
       "4  ...          NaN                      2.0                      0.0   \n",
       "\n",
       "  OBS_60_CNT_SOCIAL_CIRCLE DEF_60_CNT_SOCIAL_CIRCLE  DAYS_LAST_PHONE_CHANGE  \\\n",
       "0                      2.0                      0.0                    -1.0   \n",
       "1                      5.0                      0.0                  -212.0   \n",
       "2                      7.0                      0.0                  -428.0   \n",
       "3                      2.0                      0.0                  -442.0   \n",
       "4                      2.0                      0.0                 -1333.0   \n",
       "\n",
       "   AMT_REQ_CREDIT_BUREAU_HOUR  AMT_REQ_CREDIT_BUREAU_MON  \\\n",
       "0                         NaN                        NaN   \n",
       "1                         NaN                        NaN   \n",
       "2                         0.0                        1.0   \n",
       "3                         0.0                        0.0   \n",
       "4                         0.0                        0.0   \n",
       "\n",
       "   AMT_REQ_CREDIT_BUREAU_QRT  AMT_REQ_CREDIT_BUREAU_YEAR  \n",
       "0                        NaN                         NaN  \n",
       "1                        NaN                         NaN  \n",
       "2                        1.0                         1.0  \n",
       "3                        0.0                         3.0  \n",
       "4                        0.0                         3.0  \n",
       "\n",
       "[5 rows x 50 columns]"
      ]
     },
     "execution_count": 4,
     "metadata": {},
     "output_type": "execute_result"
    }
   ],
   "source": [
    "test.head()"
   ]
  },
  {
   "cell_type": "markdown",
   "id": "3b896613-2b76-42be-b3e1-6e016100d548",
   "metadata": {},
   "source": [
    "# LightGBM"
   ]
  },
  {
   "cell_type": "code",
   "execution_count": 28,
   "id": "385961e4-b007-4ea5-8705-8fcaa2b7d6cf",
   "metadata": {},
   "outputs": [
    {
     "name": "stdout",
     "output_type": "stream",
     "text": [
      "shape of train_g is (171202, 51)\n",
      "shape of test_g is (61500, 50)\n"
     ]
    }
   ],
   "source": [
    "train_g, test_g = train.copy(), test.copy()\n",
    "print(f'shape of train_g is {train_g.shape}')\n",
    "print(f'shape of test_g is {test_g.shape}')"
   ]
  },
  {
   "cell_type": "code",
   "execution_count": 29,
   "id": "e6b94aca-22a4-41b2-8579-8c3b0daaaf1f",
   "metadata": {},
   "outputs": [
    {
     "data": {
      "text/plain": [
       "Index(['NAME_CONTRACT_TYPE', 'CODE_GENDER', 'FLAG_OWN_CAR', 'FLAG_OWN_REALTY',\n",
       "       'NAME_TYPE_SUITE', 'NAME_INCOME_TYPE', 'NAME_EDUCATION_TYPE',\n",
       "       'NAME_FAMILY_STATUS', 'NAME_HOUSING_TYPE', 'OCCUPATION_TYPE',\n",
       "       'ORGANIZATION_TYPE'],\n",
       "      dtype='object')"
      ]
     },
     "execution_count": 29,
     "metadata": {},
     "output_type": "execute_result"
    }
   ],
   "source": [
    "train_g.select_dtypes('object').columns"
   ]
  },
  {
   "cell_type": "code",
   "execution_count": 30,
   "id": "4cf90a56-c34e-4a6a-962f-499f014248a0",
   "metadata": {},
   "outputs": [],
   "source": [
    "def to_category(df):\n",
    "    changed = []\n",
    "    for col1 in df.columns:\n",
    "        if df[col1].dtype == 'object':\n",
    "            df[col1] = df[col1].astype('category')\n",
    "            changed.append(col1)\n",
    "    return changed"
   ]
  },
  {
   "cell_type": "code",
   "execution_count": 31,
   "id": "4791f6cf-7d4d-4406-b020-1e0524927a8b",
   "metadata": {},
   "outputs": [
    {
     "data": {
      "text/plain": [
       "['NAME_CONTRACT_TYPE',\n",
       " 'CODE_GENDER',\n",
       " 'FLAG_OWN_CAR',\n",
       " 'FLAG_OWN_REALTY',\n",
       " 'NAME_TYPE_SUITE',\n",
       " 'NAME_INCOME_TYPE',\n",
       " 'NAME_EDUCATION_TYPE',\n",
       " 'NAME_FAMILY_STATUS',\n",
       " 'NAME_HOUSING_TYPE',\n",
       " 'OCCUPATION_TYPE',\n",
       " 'ORGANIZATION_TYPE']"
      ]
     },
     "execution_count": 31,
     "metadata": {},
     "output_type": "execute_result"
    }
   ],
   "source": [
    "to_category(train_g)"
   ]
  },
  {
   "cell_type": "code",
   "execution_count": 37,
   "id": "bb4d2031-acac-4146-bbae-a0f5871d0d29",
   "metadata": {},
   "outputs": [],
   "source": [
    "category_f = ['NAME_CONTRACT_TYPE',\n",
    " 'CODE_GENDER',\n",
    " 'FLAG_OWN_CAR',\n",
    " 'FLAG_OWN_REALTY',\n",
    " 'NAME_TYPE_SUITE',\n",
    " 'NAME_INCOME_TYPE',\n",
    " 'NAME_EDUCATION_TYPE',\n",
    " 'NAME_FAMILY_STATUS',\n",
    " 'NAME_HOUSING_TYPE',\n",
    " 'OCCUPATION_TYPE',\n",
    " 'ORGANIZATION_TYPE']"
   ]
  },
  {
   "cell_type": "code",
   "execution_count": 32,
   "id": "68434897-455b-4e51-b338-3a68dc38b57e",
   "metadata": {},
   "outputs": [
    {
     "data": {
      "text/plain": [
       "['NAME_CONTRACT_TYPE',\n",
       " 'CODE_GENDER',\n",
       " 'FLAG_OWN_CAR',\n",
       " 'FLAG_OWN_REALTY',\n",
       " 'NAME_TYPE_SUITE',\n",
       " 'NAME_INCOME_TYPE',\n",
       " 'NAME_EDUCATION_TYPE',\n",
       " 'NAME_FAMILY_STATUS',\n",
       " 'NAME_HOUSING_TYPE',\n",
       " 'OCCUPATION_TYPE',\n",
       " 'ORGANIZATION_TYPE']"
      ]
     },
     "execution_count": 32,
     "metadata": {},
     "output_type": "execute_result"
    }
   ],
   "source": [
    "to_category(test_g)"
   ]
  },
  {
   "cell_type": "code",
   "execution_count": 33,
   "id": "a9d5c2ce-1e5a-4733-9166-08e47d4c9bbe",
   "metadata": {},
   "outputs": [],
   "source": [
    "X, y = train_g.drop('TARGET', axis = 1), train_g['TARGET']"
   ]
  },
  {
   "cell_type": "code",
   "execution_count": 36,
   "id": "40482e8c-ee2e-40e4-b22e-199eda98ecf4",
   "metadata": {},
   "outputs": [],
   "source": [
    "X_train_lgbm, X_valid_lgbm, y_train_lgbm, y_valid_lgbm = train_test_split(\n",
    "    X, y, random_state = 42, test_size = 0.2\n",
    ")"
   ]
  },
  {
   "cell_type": "code",
   "execution_count": 66,
   "id": "9845e5f6-7dd1-448c-97d9-aa27afb61be3",
   "metadata": {},
   "outputs": [
    {
     "data": {
      "text/plain": [
       "42036     1\n",
       "98268     1\n",
       "157689    1\n",
       "127458    1\n",
       "39343     1\n",
       "         ..\n",
       "84654     1\n",
       "130608    1\n",
       "59735     1\n",
       "126324    1\n",
       "54886     1\n",
       "Name: TARGET, Length: 11021, dtype: int64"
      ]
     },
     "execution_count": 66,
     "metadata": {},
     "output_type": "execute_result"
    }
   ],
   "source": [
    "y_train_lgbm[y_train_lgbm==1]"
   ]
  },
  {
   "cell_type": "code",
   "execution_count": 50,
   "id": "07240915-24a2-4c23-9661-fd055923e63a",
   "metadata": {},
   "outputs": [],
   "source": [
    "train_data = lgb.Dataset(X_train_lgbm, label=y_train_lgbm, categorical_feature=category_f,free_raw_data=False)\n",
    "test_data = lgb.Dataset(X_valid_lgbm, label=y_valid_lgbm, categorical_feature=category_f, reference=train_data,free_raw_data=False)"
   ]
  },
  {
   "cell_type": "code",
   "execution_count": 76,
   "id": "3806dc18-1623-4d91-ae6e-e4d578c30d28",
   "metadata": {},
   "outputs": [],
   "source": [
    "params = {\n",
    "    'objective': 'binary',      # 二分类问题\n",
    "    'metric': 'auc',   # 二分类错误率\n",
    "    'boosting_type': 'gbdt',    # 基于梯度的决策树\n",
    "    'num_leaves': 31,           # 树的叶子数\n",
    "    'learning_rate': 0.08,      # 学习率\n",
    "    'feature_fraction': 1.0,   # 特征选择的比例\n",
    "    'bagging_fraction': 1.0,    # 随机选择数据的比例\n",
    "    'bagging_freq': 5,          # 多少次迭代进行一次bagging\n",
    "    'max_depth': -1,             # 最大深度\n",
    "    'early_stopping_round': 10,\n",
    "}"
   ]
  },
  {
   "cell_type": "code",
   "execution_count": 77,
   "id": "95ddc697-ad64-4ac0-9c4e-b05bde1aeee8",
   "metadata": {},
   "outputs": [
    {
     "name": "stdout",
     "output_type": "stream",
     "text": [
      "[LightGBM] [Info] Number of positive: 11021, number of negative: 125940\n",
      "[LightGBM] [Info] Auto-choosing row-wise multi-threading, the overhead of testing was 0.012112 seconds.\n",
      "You can set `force_row_wise=true` to remove the overhead.\n",
      "And if memory is not enough, you can set `force_col_wise=true`.\n",
      "[LightGBM] [Info] Total Bins 3639\n",
      "[LightGBM] [Info] Number of data points in the train set: 136961, number of used features: 49\n",
      "[LightGBM] [Info] [binary:BoostFromScore]: pavg=0.080468 -> initscore=-2.436003\n",
      "[LightGBM] [Info] Start training from score -2.436003\n",
      "Training until validation scores don't improve for 10 rounds\n",
      "Early stopping, best iteration is:\n",
      "[78]\tvalid_0's auc: 0.754561\n"
     ]
    }
   ],
   "source": [
    "# 训练模型\n",
    "num_round = 200  # 训练轮数\n",
    "bst = lgb.train(params, train_data, num_round, valid_sets=[test_data])"
   ]
  },
  {
   "cell_type": "code",
   "execution_count": null,
   "id": "41182bc2-e15b-464a-a210-048a1033d03b",
   "metadata": {},
   "outputs": [],
   "source": []
  },
  {
   "cell_type": "code",
   "execution_count": 43,
   "id": "680671b8-cd23-47b1-93b3-78a2da9b1087",
   "metadata": {},
   "outputs": [
    {
     "data": {
      "text/plain": [
       "\u001b[1;31mSignature:\u001b[0m\n",
       "\u001b[0mlgb\u001b[0m\u001b[1;33m.\u001b[0m\u001b[0mtrain\u001b[0m\u001b[1;33m(\u001b[0m\u001b[1;33m\n",
       "\u001b[0m    \u001b[0mparams\u001b[0m\u001b[1;33m:\u001b[0m \u001b[0mDict\u001b[0m\u001b[1;33m[\u001b[0m\u001b[0mstr\u001b[0m\u001b[1;33m,\u001b[0m \u001b[0mAny\u001b[0m\u001b[1;33m]\u001b[0m\u001b[1;33m,\u001b[0m\u001b[1;33m\n",
       "\u001b[0m    \u001b[0mtrain_set\u001b[0m\u001b[1;33m:\u001b[0m \u001b[0mlightgbm\u001b[0m\u001b[1;33m.\u001b[0m\u001b[0mbasic\u001b[0m\u001b[1;33m.\u001b[0m\u001b[0mDataset\u001b[0m\u001b[1;33m,\u001b[0m\u001b[1;33m\n",
       "\u001b[0m    \u001b[0mnum_boost_round\u001b[0m\u001b[1;33m:\u001b[0m \u001b[0mint\u001b[0m \u001b[1;33m=\u001b[0m \u001b[1;36m100\u001b[0m\u001b[1;33m,\u001b[0m\u001b[1;33m\n",
       "\u001b[0m    \u001b[0mvalid_sets\u001b[0m\u001b[1;33m:\u001b[0m \u001b[0mOptional\u001b[0m\u001b[1;33m[\u001b[0m\u001b[0mList\u001b[0m\u001b[1;33m[\u001b[0m\u001b[0mlightgbm\u001b[0m\u001b[1;33m.\u001b[0m\u001b[0mbasic\u001b[0m\u001b[1;33m.\u001b[0m\u001b[0mDataset\u001b[0m\u001b[1;33m]\u001b[0m\u001b[1;33m]\u001b[0m \u001b[1;33m=\u001b[0m \u001b[1;32mNone\u001b[0m\u001b[1;33m,\u001b[0m\u001b[1;33m\n",
       "\u001b[0m    \u001b[0mvalid_names\u001b[0m\u001b[1;33m:\u001b[0m \u001b[0mOptional\u001b[0m\u001b[1;33m[\u001b[0m\u001b[0mList\u001b[0m\u001b[1;33m[\u001b[0m\u001b[0mstr\u001b[0m\u001b[1;33m]\u001b[0m\u001b[1;33m]\u001b[0m \u001b[1;33m=\u001b[0m \u001b[1;32mNone\u001b[0m\u001b[1;33m,\u001b[0m\u001b[1;33m\n",
       "\u001b[0m    \u001b[0mfeval\u001b[0m\u001b[1;33m:\u001b[0m \u001b[0mUnion\u001b[0m\u001b[1;33m[\u001b[0m\u001b[0mCallable\u001b[0m\u001b[1;33m[\u001b[0m\u001b[1;33m[\u001b[0m\u001b[0mnumpy\u001b[0m\u001b[1;33m.\u001b[0m\u001b[0mndarray\u001b[0m\u001b[1;33m,\u001b[0m \u001b[0mlightgbm\u001b[0m\u001b[1;33m.\u001b[0m\u001b[0mbasic\u001b[0m\u001b[1;33m.\u001b[0m\u001b[0mDataset\u001b[0m\u001b[1;33m]\u001b[0m\u001b[1;33m,\u001b[0m \u001b[0mTuple\u001b[0m\u001b[1;33m[\u001b[0m\u001b[0mstr\u001b[0m\u001b[1;33m,\u001b[0m \u001b[0mfloat\u001b[0m\u001b[1;33m,\u001b[0m \u001b[0mbool\u001b[0m\u001b[1;33m]\u001b[0m\u001b[1;33m]\u001b[0m\u001b[1;33m,\u001b[0m \u001b[0mCallable\u001b[0m\u001b[1;33m[\u001b[0m\u001b[1;33m[\u001b[0m\u001b[0mnumpy\u001b[0m\u001b[1;33m.\u001b[0m\u001b[0mndarray\u001b[0m\u001b[1;33m,\u001b[0m \u001b[0mlightgbm\u001b[0m\u001b[1;33m.\u001b[0m\u001b[0mbasic\u001b[0m\u001b[1;33m.\u001b[0m\u001b[0mDataset\u001b[0m\u001b[1;33m]\u001b[0m\u001b[1;33m,\u001b[0m \u001b[0mList\u001b[0m\u001b[1;33m[\u001b[0m\u001b[0mTuple\u001b[0m\u001b[1;33m[\u001b[0m\u001b[0mstr\u001b[0m\u001b[1;33m,\u001b[0m \u001b[0mfloat\u001b[0m\u001b[1;33m,\u001b[0m \u001b[0mbool\u001b[0m\u001b[1;33m]\u001b[0m\u001b[1;33m]\u001b[0m\u001b[1;33m]\u001b[0m\u001b[1;33m,\u001b[0m \u001b[0mList\u001b[0m\u001b[1;33m[\u001b[0m\u001b[0mUnion\u001b[0m\u001b[1;33m[\u001b[0m\u001b[0mCallable\u001b[0m\u001b[1;33m[\u001b[0m\u001b[1;33m[\u001b[0m\u001b[0mnumpy\u001b[0m\u001b[1;33m.\u001b[0m\u001b[0mndarray\u001b[0m\u001b[1;33m,\u001b[0m \u001b[0mlightgbm\u001b[0m\u001b[1;33m.\u001b[0m\u001b[0mbasic\u001b[0m\u001b[1;33m.\u001b[0m\u001b[0mDataset\u001b[0m\u001b[1;33m]\u001b[0m\u001b[1;33m,\u001b[0m \u001b[0mTuple\u001b[0m\u001b[1;33m[\u001b[0m\u001b[0mstr\u001b[0m\u001b[1;33m,\u001b[0m \u001b[0mfloat\u001b[0m\u001b[1;33m,\u001b[0m \u001b[0mbool\u001b[0m\u001b[1;33m]\u001b[0m\u001b[1;33m]\u001b[0m\u001b[1;33m,\u001b[0m \u001b[0mCallable\u001b[0m\u001b[1;33m[\u001b[0m\u001b[1;33m[\u001b[0m\u001b[0mnumpy\u001b[0m\u001b[1;33m.\u001b[0m\u001b[0mndarray\u001b[0m\u001b[1;33m,\u001b[0m \u001b[0mlightgbm\u001b[0m\u001b[1;33m.\u001b[0m\u001b[0mbasic\u001b[0m\u001b[1;33m.\u001b[0m\u001b[0mDataset\u001b[0m\u001b[1;33m]\u001b[0m\u001b[1;33m,\u001b[0m \u001b[0mList\u001b[0m\u001b[1;33m[\u001b[0m\u001b[0mTuple\u001b[0m\u001b[1;33m[\u001b[0m\u001b[0mstr\u001b[0m\u001b[1;33m,\u001b[0m \u001b[0mfloat\u001b[0m\u001b[1;33m,\u001b[0m \u001b[0mbool\u001b[0m\u001b[1;33m]\u001b[0m\u001b[1;33m]\u001b[0m\u001b[1;33m]\u001b[0m\u001b[1;33m]\u001b[0m\u001b[1;33m]\u001b[0m\u001b[1;33m,\u001b[0m \u001b[0mNoneType\u001b[0m\u001b[1;33m]\u001b[0m \u001b[1;33m=\u001b[0m \u001b[1;32mNone\u001b[0m\u001b[1;33m,\u001b[0m\u001b[1;33m\n",
       "\u001b[0m    \u001b[0minit_model\u001b[0m\u001b[1;33m:\u001b[0m \u001b[0mUnion\u001b[0m\u001b[1;33m[\u001b[0m\u001b[0mstr\u001b[0m\u001b[1;33m,\u001b[0m \u001b[0mpathlib\u001b[0m\u001b[1;33m.\u001b[0m\u001b[0mPath\u001b[0m\u001b[1;33m,\u001b[0m \u001b[0mlightgbm\u001b[0m\u001b[1;33m.\u001b[0m\u001b[0mbasic\u001b[0m\u001b[1;33m.\u001b[0m\u001b[0mBooster\u001b[0m\u001b[1;33m,\u001b[0m \u001b[0mNoneType\u001b[0m\u001b[1;33m]\u001b[0m \u001b[1;33m=\u001b[0m \u001b[1;32mNone\u001b[0m\u001b[1;33m,\u001b[0m\u001b[1;33m\n",
       "\u001b[0m    \u001b[0mfeature_name\u001b[0m\u001b[1;33m:\u001b[0m \u001b[0mUnion\u001b[0m\u001b[1;33m[\u001b[0m\u001b[0mList\u001b[0m\u001b[1;33m[\u001b[0m\u001b[0mstr\u001b[0m\u001b[1;33m]\u001b[0m\u001b[1;33m,\u001b[0m \u001b[0mForwardRef\u001b[0m\u001b[1;33m(\u001b[0m\u001b[1;34m\"Literal['auto']\"\u001b[0m\u001b[1;33m)\u001b[0m\u001b[1;33m]\u001b[0m \u001b[1;33m=\u001b[0m \u001b[1;34m'auto'\u001b[0m\u001b[1;33m,\u001b[0m\u001b[1;33m\n",
       "\u001b[0m    \u001b[0mcategorical_feature\u001b[0m\u001b[1;33m:\u001b[0m \u001b[0mUnion\u001b[0m\u001b[1;33m[\u001b[0m\u001b[0mList\u001b[0m\u001b[1;33m[\u001b[0m\u001b[0mstr\u001b[0m\u001b[1;33m]\u001b[0m\u001b[1;33m,\u001b[0m \u001b[0mList\u001b[0m\u001b[1;33m[\u001b[0m\u001b[0mint\u001b[0m\u001b[1;33m]\u001b[0m\u001b[1;33m,\u001b[0m \u001b[0mForwardRef\u001b[0m\u001b[1;33m(\u001b[0m\u001b[1;34m\"Literal['auto']\"\u001b[0m\u001b[1;33m)\u001b[0m\u001b[1;33m]\u001b[0m \u001b[1;33m=\u001b[0m \u001b[1;34m'auto'\u001b[0m\u001b[1;33m,\u001b[0m\u001b[1;33m\n",
       "\u001b[0m    \u001b[0mkeep_training_booster\u001b[0m\u001b[1;33m:\u001b[0m \u001b[0mbool\u001b[0m \u001b[1;33m=\u001b[0m \u001b[1;32mFalse\u001b[0m\u001b[1;33m,\u001b[0m\u001b[1;33m\n",
       "\u001b[0m    \u001b[0mcallbacks\u001b[0m\u001b[1;33m:\u001b[0m \u001b[0mOptional\u001b[0m\u001b[1;33m[\u001b[0m\u001b[0mList\u001b[0m\u001b[1;33m[\u001b[0m\u001b[0mCallable\u001b[0m\u001b[1;33m]\u001b[0m\u001b[1;33m]\u001b[0m \u001b[1;33m=\u001b[0m \u001b[1;32mNone\u001b[0m\u001b[1;33m,\u001b[0m\u001b[1;33m\n",
       "\u001b[0m\u001b[1;33m)\u001b[0m \u001b[1;33m->\u001b[0m \u001b[0mlightgbm\u001b[0m\u001b[1;33m.\u001b[0m\u001b[0mbasic\u001b[0m\u001b[1;33m.\u001b[0m\u001b[0mBooster\u001b[0m\u001b[1;33m\u001b[0m\u001b[1;33m\u001b[0m\u001b[0m\n",
       "\u001b[1;31mDocstring:\u001b[0m\n",
       "Perform the training with given parameters.\n",
       "\n",
       "Parameters\n",
       "----------\n",
       "params : dict\n",
       "    Parameters for training. Values passed through ``params`` take precedence over those\n",
       "    supplied via arguments.\n",
       "train_set : Dataset\n",
       "    Data to be trained on.\n",
       "num_boost_round : int, optional (default=100)\n",
       "    Number of boosting iterations.\n",
       "valid_sets : list of Dataset, or None, optional (default=None)\n",
       "    List of data to be evaluated on during training.\n",
       "valid_names : list of str, or None, optional (default=None)\n",
       "    Names of ``valid_sets``.\n",
       "feval : callable, list of callable, or None, optional (default=None)\n",
       "    Customized evaluation function.\n",
       "    Each evaluation function should accept two parameters: preds, eval_data,\n",
       "    and return (eval_name, eval_result, is_higher_better) or list of such tuples.\n",
       "\n",
       "        preds : numpy 1-D array or numpy 2-D array (for multi-class task)\n",
       "            The predicted values.\n",
       "            For multi-class task, preds are numpy 2-D array of shape = [n_samples, n_classes].\n",
       "            If custom objective function is used, predicted values are returned before any transformation,\n",
       "            e.g. they are raw margin instead of probability of positive class for binary task in this case.\n",
       "        eval_data : Dataset\n",
       "            A ``Dataset`` to evaluate.\n",
       "        eval_name : str\n",
       "            The name of evaluation function (without whitespaces).\n",
       "        eval_result : float\n",
       "            The eval result.\n",
       "        is_higher_better : bool\n",
       "            Is eval result higher better, e.g. AUC is ``is_higher_better``.\n",
       "\n",
       "    To ignore the default metric corresponding to the used objective,\n",
       "    set the ``metric`` parameter to the string ``\"None\"`` in ``params``.\n",
       "init_model : str, pathlib.Path, Booster or None, optional (default=None)\n",
       "    Filename of LightGBM model or Booster instance used for continue training.\n",
       "feature_name : list of str, or 'auto', optional (default=\"auto\")\n",
       "    **Deprecated.** Set ``feature_name`` on ``train_set`` instead.\n",
       "    Feature names.\n",
       "    If 'auto' and data is pandas DataFrame, data columns names are used.\n",
       "categorical_feature : list of str or int, or 'auto', optional (default=\"auto\")\n",
       "    **Deprecated.** Set ``categorical_feature`` on ``train_set`` instead.\n",
       "    Categorical features.\n",
       "    If list of int, interpreted as indices.\n",
       "    If list of str, interpreted as feature names (need to specify ``feature_name`` as well).\n",
       "    If 'auto' and data is pandas DataFrame, pandas unordered categorical columns are used.\n",
       "    All values in categorical features will be cast to int32 and thus should be less than int32 max value (2147483647).\n",
       "    Large values could be memory consuming. Consider using consecutive integers starting from zero.\n",
       "    All negative values in categorical features will be treated as missing values.\n",
       "    The output cannot be monotonically constrained with respect to a categorical feature.\n",
       "    Floating point numbers in categorical features will be rounded towards 0.\n",
       "keep_training_booster : bool, optional (default=False)\n",
       "    Whether the returned Booster will be used to keep training.\n",
       "    If False, the returned value will be converted into _InnerPredictor before returning.\n",
       "    This means you won't be able to use ``eval``, ``eval_train`` or ``eval_valid`` methods of the returned Booster.\n",
       "    When your model is very large and cause the memory error,\n",
       "    you can try to set this param to ``True`` to avoid the model conversion performed during the internal call of ``model_to_string``.\n",
       "    You can still use _InnerPredictor as ``init_model`` for future continue training.\n",
       "callbacks : list of callable, or None, optional (default=None)\n",
       "    List of callback functions that are applied at each iteration.\n",
       "    See Callbacks in Python API for more information.\n",
       "\n",
       "Note\n",
       "----\n",
       "A custom objective function can be provided for the ``objective`` parameter.\n",
       "It should accept two parameters: preds, train_data and return (grad, hess).\n",
       "\n",
       "    preds : numpy 1-D array or numpy 2-D array (for multi-class task)\n",
       "        The predicted values.\n",
       "        Predicted values are returned before any transformation,\n",
       "        e.g. they are raw margin instead of probability of positive class for binary task.\n",
       "    train_data : Dataset\n",
       "        The training dataset.\n",
       "    grad : numpy 1-D array or numpy 2-D array (for multi-class task)\n",
       "        The value of the first order derivative (gradient) of the loss\n",
       "        with respect to the elements of preds for each sample point.\n",
       "    hess : numpy 1-D array or numpy 2-D array (for multi-class task)\n",
       "        The value of the second order derivative (Hessian) of the loss\n",
       "        with respect to the elements of preds for each sample point.\n",
       "\n",
       "For multi-class task, preds are numpy 2-D array of shape = [n_samples, n_classes],\n",
       "and grad and hess should be returned in the same format.\n",
       "\n",
       "Returns\n",
       "-------\n",
       "booster : Booster\n",
       "    The trained Booster model.\n",
       "\u001b[1;31mFile:\u001b[0m      d:\\apps\\miniconda3\\envs\\dl\\lib\\site-packages\\lightgbm\\engine.py\n",
       "\u001b[1;31mType:\u001b[0m      function"
      ]
     },
     "metadata": {},
     "output_type": "display_data"
    }
   ],
   "source": [
    "?lgb.train"
   ]
  },
  {
   "cell_type": "markdown",
   "id": "29abad7c-b3bf-4870-ac0a-1ed2fdfcbb55",
   "metadata": {
    "jp-MarkdownHeadingCollapsed": true
   },
   "source": [
    "# Naive Feature using"
   ]
  },
  {
   "cell_type": "markdown",
   "id": "aca8129c-8ae7-488a-bcbc-7fff196d7834",
   "metadata": {},
   "source": [
    "**check the object data in train and test data**"
   ]
  },
  {
   "cell_type": "code",
   "execution_count": 4,
   "id": "fcb1c398-c7a7-4be7-a302-c30331a5a85d",
   "metadata": {},
   "outputs": [
    {
     "name": "stdout",
     "output_type": "stream",
     "text": [
      "the object types in train NAME_CONTRACT_TYPE      2\n",
      "CODE_GENDER             3\n",
      "FLAG_OWN_CAR            2\n",
      "FLAG_OWN_REALTY         2\n",
      "NAME_TYPE_SUITE         7\n",
      "NAME_INCOME_TYPE        8\n",
      "NAME_EDUCATION_TYPE     5\n",
      "NAME_FAMILY_STATUS      6\n",
      "NAME_HOUSING_TYPE       6\n",
      "OCCUPATION_TYPE        18\n",
      "ORGANIZATION_TYPE      58\n",
      "dtype: int64\n",
      "\n",
      "the object types in test NAME_CONTRACT_TYPE      2\n",
      "CODE_GENDER             2\n",
      "FLAG_OWN_CAR            2\n",
      "FLAG_OWN_REALTY         2\n",
      "NAME_TYPE_SUITE         7\n",
      "NAME_INCOME_TYPE        8\n",
      "NAME_EDUCATION_TYPE     5\n",
      "NAME_FAMILY_STATUS      5\n",
      "NAME_HOUSING_TYPE       6\n",
      "OCCUPATION_TYPE        18\n",
      "ORGANIZATION_TYPE      58\n",
      "dtype: int64\n",
      "\n"
     ]
    }
   ],
   "source": [
    "#select the columns whose dtypes is object\n",
    "t1 = train.select_dtypes('object')\n",
    "#count the number of unique values\n",
    "print(f'the object types in train {t1.apply(pd.Series.nunique, axis = 0)}\\n')\n",
    "t2 = test.select_dtypes('object')\n",
    "print(f'the object types in test {t2.apply(pd.Series.nunique, axis = 0)}\\n')"
   ]
  },
  {
   "cell_type": "code",
   "execution_count": 135,
   "id": "c6036ceb-4698-413a-9ca8-86da2df3326d",
   "metadata": {},
   "outputs": [
    {
     "data": {
      "text/plain": [
       "CODE_GENDER\n",
       "F      112549\n",
       "M       58649\n",
       "XNA         4\n",
       "Name: count, dtype: int64"
      ]
     },
     "execution_count": 135,
     "metadata": {},
     "output_type": "execute_result"
    }
   ],
   "source": [
    "train['CODE_GENDER'].value_counts()"
   ]
  },
  {
   "cell_type": "markdown",
   "id": "7b6af978-71eb-4584-8046-bdadb143333e",
   "metadata": {},
   "source": [
    "**see the name family status**"
   ]
  },
  {
   "cell_type": "code",
   "execution_count": 6,
   "id": "147e62ea-efbd-41ab-bf8f-ddb6b9acf574",
   "metadata": {},
   "outputs": [
    {
     "data": {
      "image/png": "[encoded data removed]",
      "text/plain": [
       "<Figure size 800x600 with 1 Axes>"
      ]
     },
     "metadata": {},
     "output_type": "display_data"
    }
   ],
   "source": [
    "fig, ax = plt.subplots(figsize = (8,6))\n",
    "\n",
    "sns.countplot(data=train, x='NAME_FAMILY_STATUS', hue='TARGET', ax=ax)\n",
    "\n",
    "plt.xticks(rotation = 75)\n",
    "plt.show()"
   ]
  },
  {
   "cell_type": "code",
   "execution_count": 7,
   "id": "a3ab8451-6ad9-4985-bd2c-0cbbb4d7c161",
   "metadata": {},
   "outputs": [
    {
     "name": "stdout",
     "output_type": "stream",
     "text": [
      "the values in n_train is NAME_FAMILY_STATUS\n",
      "Married                 109323\n",
      "Single / not married     25285\n",
      "Civil marriage           16652\n",
      "Separated                10988\n",
      "Widow                     8952\n",
      "Unknown                      2\n",
      "Name: count, dtype: int64\n",
      "\n",
      "the values in n_test is NAME_FAMILY_STATUS\n",
      "Married                 38946\n",
      "Single / not married     9334\n",
      "Civil marriage           6098\n",
      "Separated                4008\n",
      "Widow                    3114\n",
      "Name: count, dtype: int64\n",
      "\n"
     ]
    }
   ],
   "source": [
    "#see unknown number\n",
    "print(f\"the values in n_train is {train['NAME_FAMILY_STATUS'].value_counts()}\\n\")\n",
    "print(f\"the values in n_test is {test['NAME_FAMILY_STATUS'].value_counts()}\\n\")"
   ]
  },
  {
   "cell_type": "code",
   "execution_count": 9,
   "id": "d1425b81-3b0f-40a4-a82a-02b8d4614468",
   "metadata": {},
   "outputs": [],
   "source": [
    "#check the rario\n",
    "def default_ratio(df, col):\n",
    "    default_nums = df.groupby(col)['TARGET'].sum()\n",
    "    series = df[col].value_counts()\n",
    "    return default_nums / series"
   ]
  },
  {
   "cell_type": "code",
   "execution_count": 10,
   "id": "d395e86a-2d61-4cbb-81a6-5a6ec374f973",
   "metadata": {},
   "outputs": [
    {
     "name": "stdout",
     "output_type": "stream",
     "text": [
      "default ratio of NAME_INCOME_TYPE in n_train is: \n",
      "NAME_FAMILY_STATUS\n",
      "Civil marriage          0.098727\n",
      "Married                 0.075565\n",
      "Separated               0.082727\n",
      "Single / not married    0.098556\n",
      "Unknown                 0.000000\n",
      "Widow                   0.057529\n",
      "dtype: float64\n",
      "\n"
     ]
    }
   ],
   "source": [
    "print(f\"default ratio of NAME_INCOME_TYPE in n_train is: \\n{default_ratio(train, 'NAME_FAMILY_STATUS')}\\n\")"
   ]
  },
  {
   "cell_type": "markdown",
   "id": "b19a07d7-3943-4461-9472-a6ef71443663",
   "metadata": {},
   "source": [
    "**see if the shape is the same**"
   ]
  },
  {
   "cell_type": "markdown",
   "id": "1792ed06-7777-4c6c-aaec-598f9e5c04ca",
   "metadata": {},
   "source": [
    "**check the 'NAME_TYPE_SUITE'**"
   ]
  },
  {
   "cell_type": "code",
   "execution_count": 61,
   "id": "c593b1ab-11d8-42db-a705-7ea69b3c01f9",
   "metadata": {},
   "outputs": [
    {
     "data": {
      "text/plain": [
       "NAME_TYPE_SUITE\n",
       "Unaccompanied      138442\n",
       "Family              22355\n",
       "Spouse, partner      6288\n",
       "Children             1775\n",
       "Other_B               955\n",
       "Other_A               492\n",
       "Group of people       144\n",
       "Name: count, dtype: int64"
      ]
     },
     "execution_count": 61,
     "metadata": {},
     "output_type": "execute_result"
    }
   ],
   "source": [
    "n_train['NAME_TYPE_SUITE'].value_counts()"
   ]
  },
  {
   "cell_type": "code",
   "execution_count": 63,
   "id": "568a0616-98ea-429f-ab0d-f1bb51c702f7",
   "metadata": {},
   "outputs": [
    {
     "data": {
      "text/plain": [
       "NAME_TYPE_SUITE\n",
       "Unaccompanied      49771\n",
       "Family              7860\n",
       "Spouse, partner     2348\n",
       "Children             671\n",
       "Other_B              359\n",
       "Other_A              185\n",
       "Group of people       58\n",
       "Name: count, dtype: int64"
      ]
     },
     "execution_count": 63,
     "metadata": {},
     "output_type": "execute_result"
    }
   ],
   "source": [
    "n_test['NAME_TYPE_SUITE'].value_counts()"
   ]
  },
  {
   "cell_type": "code",
   "execution_count": 66,
   "id": "dfb1d6f9-bb15-4e51-98fd-b1f141671010",
   "metadata": {},
   "outputs": [
    {
     "data": {
      "image/png": "[encoded data removed]",
      "text/plain": [
       "<Figure size 800x600 with 1 Axes>"
      ]
     },
     "metadata": {},
     "output_type": "display_data"
    }
   ],
   "source": [
    "fig, ax = plt.subplots(figsize = (8,6))\n",
    "\n",
    "sns.countplot(data=n_train, x='NAME_TYPE_SUITE', hue='TARGET', ax=ax)\n",
    "\n",
    "plt.xticks(rotation = 75)\n",
    "plt.show()"
   ]
  },
  {
   "cell_type": "markdown",
   "id": "9d45f395-21fa-46e8-b18d-0b4c616fe092",
   "metadata": {},
   "source": [
    "**check the NAME_INCOME_TYPE**"
   ]
  },
  {
   "cell_type": "code",
   "execution_count": 68,
   "id": "613e1c69-541a-4d5b-806b-e1352d2a4cbf",
   "metadata": {},
   "outputs": [
    {
     "data": {
      "text/plain": [
       "NAME_INCOME_TYPE\n",
       "Working                 88265\n",
       "Commercial associate    40004\n",
       "Pensioner               30895\n",
       "State servant           12007\n",
       "Unemployed                 10\n",
       "Student                     9\n",
       "Businessman                 3\n",
       "Maternity leave             3\n",
       "Name: count, dtype: int64"
      ]
     },
     "execution_count": 68,
     "metadata": {},
     "output_type": "execute_result"
    }
   ],
   "source": [
    "n_train['NAME_INCOME_TYPE'].value_counts()"
   ]
  },
  {
   "cell_type": "code",
   "execution_count": 69,
   "id": "ab357a2c-ef3f-4e56-84ed-712abd020ac3",
   "metadata": {},
   "outputs": [
    {
     "data": {
      "text/plain": [
       "NAME_INCOME_TYPE\n",
       "Working                 32460\n",
       "Commercial associate    14253\n",
       "Pensioner               10560\n",
       "State servant            4215\n",
       "Unemployed                  6\n",
       "Student                     4\n",
       "Maternity leave             1\n",
       "Businessman                 1\n",
       "Name: count, dtype: int64"
      ]
     },
     "execution_count": 69,
     "metadata": {},
     "output_type": "execute_result"
    }
   ],
   "source": [
    "n_test['NAME_INCOME_TYPE'].value_counts()"
   ]
  },
  {
   "cell_type": "code",
   "execution_count": 72,
   "id": "eb1e1e66-d69b-4191-8f0c-b8a8595bbb81",
   "metadata": {},
   "outputs": [
    {
     "data": {
      "text/plain": [
       "NAME_INCOME_TYPE\n",
       "Businessman                0\n",
       "Commercial associate    3009\n",
       "Maternity leave            1\n",
       "Pensioner               1674\n",
       "State servant            707\n",
       "Student                    0\n",
       "Unemployed                 2\n",
       "Working                 8428\n",
       "Name: TARGET, dtype: int64"
      ]
     },
     "execution_count": 72,
     "metadata": {},
     "output_type": "execute_result"
    }
   ],
   "source": [
    "default_nums = n_train.groupby('NAME_INCOME_TYPE')['TARGET'].sum()\n",
    "default_nums"
   ]
  },
  {
   "cell_type": "code",
   "execution_count": 81,
   "id": "a5365287-1c00-41bb-ae7c-cb281a0683bf",
   "metadata": {},
   "outputs": [
    {
     "name": "stdout",
     "output_type": "stream",
     "text": [
      "default ratio of NAME_INCOME_TYPE in n_train is: \n",
      "NAME_INCOME_TYPE\n",
      "Businessman             0.000000\n",
      "Commercial associate    0.075217\n",
      "Maternity leave         0.333333\n",
      "Pensioner               0.054184\n",
      "State servant           0.058882\n",
      "Student                 0.000000\n",
      "Unemployed              0.200000\n",
      "Working                 0.095485\n",
      "dtype: float64\n",
      "\n"
     ]
    }
   ],
   "source": [
    "print(f\"default ratio of NAME_INCOME_TYPE in n_train is: \\n{default_ratio(n_train, 'NAME_INCOME_TYPE')}\\n\")"
   ]
  },
  {
   "cell_type": "markdown",
   "id": "c064e51a-d003-4012-8849-0a5138e6916f",
   "metadata": {},
   "source": [
    "**NAME_EDUCATION_TYPE**"
   ]
  },
  {
   "cell_type": "code",
   "execution_count": 10,
   "id": "021ae011-9a2c-4df6-9d4a-ecc4f6ce102c",
   "metadata": {},
   "outputs": [
    {
     "name": "stdout",
     "output_type": "stream",
     "text": [
      "default ratio of NAME_INCOME_TYPE in n_train is: \n",
      "NAME_EDUCATION_TYPE\n",
      "Academic degree                  0.009901\n",
      "Higher education                 0.053694\n",
      "Incomplete higher                0.087215\n",
      "Lower secondary                  0.110694\n",
      "Secondary / secondary special    0.089220\n",
      "dtype: float64\n",
      "\n"
     ]
    }
   ],
   "source": [
    "print(f\"default ratio of NAME_INCOME_TYPE in n_train is: \\n{default_ratio(n_train, 'NAME_EDUCATION_TYPE')}\\n\")"
   ]
  },
  {
   "cell_type": "markdown",
   "id": "c900ad1f-a836-4596-a251-876a9ca4b083",
   "metadata": {},
   "source": [
    "**NAME_HOUSING_TYPE**"
   ]
  },
  {
   "cell_type": "code",
   "execution_count": 11,
   "id": "30c7ca97-ec02-4eea-8858-8e309a581d27",
   "metadata": {},
   "outputs": [
    {
     "name": "stdout",
     "output_type": "stream",
     "text": [
      "default ratio of NAME_INCOME_TYPE in n_train is: \n",
      "NAME_HOUSING_TYPE\n",
      "Co-op apartment        0.085484\n",
      "House / apartment      0.077841\n",
      "Municipal apartment    0.083561\n",
      "Office apartment       0.065097\n",
      "Rented apartment       0.129481\n",
      "With parents           0.117996\n",
      "dtype: float64\n",
      "\n"
     ]
    }
   ],
   "source": [
    "print(f\"default ratio of NAME_INCOME_TYPE in n_train is: \\n{default_ratio(n_train, 'NAME_HOUSING_TYPE')}\\n\")"
   ]
  },
  {
   "cell_type": "markdown",
   "id": "8253463c-fcb0-4749-ab02-8bd5c5bdfff9",
   "metadata": {},
   "source": [
    "**OCCUPATION_TYPE**"
   ]
  },
  {
   "cell_type": "code",
   "execution_count": 84,
   "id": "84a94e5f-d0f3-4da3-bb52-0702eaea6ea4",
   "metadata": {},
   "outputs": [
    {
     "name": "stdout",
     "output_type": "stream",
     "text": [
      "default ratio of NAME_INCOME_TYPE in n_train is: \n",
      "OCCUPATION_TYPE\n",
      "Accountants              0.046140\n",
      "Cleaning staff           0.094663\n",
      "Cooking staff            0.103788\n",
      "Core staff               0.063589\n",
      "Drivers                  0.117357\n",
      "HR staff                 0.071197\n",
      "High skill tech staff    0.060141\n",
      "IT staff                 0.071895\n",
      "Laborers                 0.103994\n",
      "Low-skill Laborers       0.162489\n",
      "Managers                 0.061245\n",
      "Medicine staff           0.066400\n",
      "Private service staff    0.068634\n",
      "Realty agents            0.074519\n",
      "Sales staff              0.096386\n",
      "Secretaries              0.082677\n",
      "Security staff           0.109542\n",
      "Waiters/barmen staff     0.128514\n",
      "dtype: float64\n",
      "\n"
     ]
    }
   ],
   "source": [
    "print(f\"default ratio of NAME_INCOME_TYPE in n_train is: \\n{default_ratio(n_train, 'OCCUPATION_TYPE')}\\n\")"
   ]
  },
  {
   "cell_type": "markdown",
   "id": "ae406ec9-85b3-4f31-94e0-0d6106b7838c",
   "metadata": {},
   "source": [
    "### **处理异常和nan值**"
   ]
  },
  {
   "cell_type": "code",
   "execution_count": 214,
   "id": "1ab5d223-069e-4fce-9537-87b6c4638634",
   "metadata": {},
   "outputs": [
    {
     "data": {
      "image/png": "[encoded data removed]",
      "text/plain": [
       "<Figure size 1500x800 with 2 Axes>"
      ]
     },
     "metadata": {},
     "output_type": "display_data"
    }
   ],
   "source": [
    "fig, (ax1, ax2) = plt.subplots(1,2, figsize=(15,8))\n",
    "sns.histplot(data=train, x='DAYS_EMPLOYED', bins = 10, ax=ax1)\n",
    "\n",
    "sns.kdeplot(data=train.loc[train['TARGET']==1, 'DAYS_BIRTH']/-365, label = 'Target = 1', ax=ax2)\n",
    "sns.kdeplot(data=train.loc[train['TARGET']==0, 'DAYS_BIRTH']/-365, label = 'Target = 0', ax=ax2)\n",
    "\n",
    "plt.legend()\n",
    "plt.show()"
   ]
  },
  {
   "cell_type": "code",
   "execution_count": 11,
   "id": "77a95994-9ae1-415a-9052-678b6c1be1ad",
   "metadata": {},
   "outputs": [
    {
     "data": {
      "text/plain": [
       "SK_ID_CURR                          0\n",
       "TARGET                              0\n",
       "NAME_CONTRACT_TYPE                  0\n",
       "CODE_GENDER                         0\n",
       "FLAG_OWN_CAR                    34241\n",
       "FLAG_OWN_REALTY                 34241\n",
       "CNT_CHILDREN                        0\n",
       "AMT_INCOME_TOTAL                    0\n",
       "AMT_CREDIT                          0\n",
       "AMT_ANNUITY                         6\n",
       "AMT_GOODS_PRICE                   163\n",
       "NAME_TYPE_SUITE                   747\n",
       "NAME_INCOME_TYPE                    0\n",
       "NAME_EDUCATION_TYPE                 0\n",
       "NAME_FAMILY_STATUS                  0\n",
       "NAME_HOUSING_TYPE                   0\n",
       "REGION_POPULATION_RELATIVE          0\n",
       "DAYS_BIRTH                          0\n",
       "DAYS_EMPLOYED                       0\n",
       "DAYS_REGISTRATION                   0\n",
       "DAYS_ID_PUBLISH                     0\n",
       "OWN_CAR_AGE                    112992\n",
       "FLAG_MOBIL                          0\n",
       "FLAG_EMP_PHONE                      0\n",
       "FLAG_WORK_PHONE                     0\n",
       "FLAG_CONT_MOBILE                    0\n",
       "FLAG_PHONE                          0\n",
       "FLAG_EMAIL                          0\n",
       "OCCUPATION_TYPE                 53745\n",
       "CNT_FAM_MEMBERS                     2\n",
       "REGION_RATING_CLIENT                0\n",
       "REGION_RATING_CLIENT_W_CITY         0\n",
       "REG_REGION_NOT_LIVE_REGION          0\n",
       "REG_REGION_NOT_WORK_REGION          0\n",
       "LIVE_REGION_NOT_WORK_REGION         0\n",
       "REG_CITY_NOT_LIVE_CITY              0\n",
       "REG_CITY_NOT_WORK_CITY              0\n",
       "LIVE_CITY_NOT_WORK_CITY             0\n",
       "ORGANIZATION_TYPE                   0\n",
       "EXT_SOURCE_1                   118928\n",
       "EXT_SOURCE_2                      369\n",
       "EXT_SOURCE_3                    54586\n",
       "OBS_30_CNT_SOCIAL_CIRCLE          560\n",
       "DEF_30_CNT_SOCIAL_CIRCLE          560\n",
       "OBS_60_CNT_SOCIAL_CIRCLE          560\n",
       "DEF_60_CNT_SOCIAL_CIRCLE          560\n",
       "DAYS_LAST_PHONE_CHANGE              1\n",
       "AMT_REQ_CREDIT_BUREAU_HOUR      23116\n",
       "AMT_REQ_CREDIT_BUREAU_MON       23116\n",
       "AMT_REQ_CREDIT_BUREAU_QRT       23116\n",
       "AMT_REQ_CREDIT_BUREAU_YEAR      23116\n",
       "dtype: int64"
      ]
     },
     "execution_count": 11,
     "metadata": {},
     "output_type": "execute_result"
    }
   ],
   "source": [
    "train.isna().sum()"
   ]
  },
  {
   "cell_type": "code",
   "execution_count": 18,
   "id": "fa1da151-a571-4fa8-a6a2-f5dcb47b9901",
   "metadata": {},
   "outputs": [
    {
     "data": {
      "text/plain": [
       "SK_ID_CURR                         0\n",
       "NAME_CONTRACT_TYPE                 0\n",
       "CODE_GENDER                        0\n",
       "FLAG_OWN_CAR                   12334\n",
       "FLAG_OWN_REALTY                12334\n",
       "CNT_CHILDREN                       0\n",
       "AMT_INCOME_TOTAL                   0\n",
       "AMT_CREDIT                         0\n",
       "AMT_ANNUITY                        3\n",
       "AMT_GOODS_PRICE                   53\n",
       "NAME_TYPE_SUITE                  248\n",
       "NAME_INCOME_TYPE                   0\n",
       "NAME_EDUCATION_TYPE                0\n",
       "NAME_FAMILY_STATUS                 0\n",
       "NAME_HOUSING_TYPE                  0\n",
       "REGION_POPULATION_RELATIVE         0\n",
       "DAYS_BIRTH                         0\n",
       "DAYS_EMPLOYED                      0\n",
       "DAYS_REGISTRATION                  0\n",
       "DAYS_ID_PUBLISH                    0\n",
       "OWN_CAR_AGE                    40909\n",
       "FLAG_MOBIL                         0\n",
       "FLAG_EMP_PHONE                     0\n",
       "FLAG_WORK_PHONE                    0\n",
       "FLAG_CONT_MOBILE                   0\n",
       "FLAG_PHONE                         0\n",
       "FLAG_EMAIL                         0\n",
       "OCCUPATION_TYPE                18734\n",
       "CNT_FAM_MEMBERS                    0\n",
       "REGION_RATING_CLIENT               0\n",
       "REGION_RATING_CLIENT_W_CITY        0\n",
       "REG_REGION_NOT_LIVE_REGION         0\n",
       "REG_REGION_NOT_WORK_REGION         0\n",
       "LIVE_REGION_NOT_WORK_REGION        0\n",
       "REG_CITY_NOT_LIVE_CITY             0\n",
       "REG_CITY_NOT_WORK_CITY             0\n",
       "LIVE_CITY_NOT_WORK_CITY            0\n",
       "ORGANIZATION_TYPE                  0\n",
       "EXT_SOURCE_1                   42912\n",
       "EXT_SOURCE_2                     130\n",
       "EXT_SOURCE_3                   19690\n",
       "OBS_30_CNT_SOCIAL_CIRCLE         181\n",
       "DEF_30_CNT_SOCIAL_CIRCLE         181\n",
       "OBS_60_CNT_SOCIAL_CIRCLE         181\n",
       "DEF_60_CNT_SOCIAL_CIRCLE         181\n",
       "DAYS_LAST_PHONE_CHANGE             0\n",
       "AMT_REQ_CREDIT_BUREAU_HOUR      8513\n",
       "AMT_REQ_CREDIT_BUREAU_MON       8513\n",
       "AMT_REQ_CREDIT_BUREAU_QRT       8513\n",
       "AMT_REQ_CREDIT_BUREAU_YEAR      8513\n",
       "dtype: int64"
      ]
     },
     "execution_count": 18,
     "metadata": {},
     "output_type": "execute_result"
    }
   ],
   "source": [
    "test.isna().sum()"
   ]
  },
  {
   "cell_type": "markdown",
   "id": "81cabeab-bc3c-4155-a05b-70fca42f2972",
   "metadata": {},
   "source": [
    "**check amt annuity**"
   ]
  },
  {
   "cell_type": "code",
   "execution_count": 12,
   "id": "43ed7b1c-f94d-42a4-8715-eb60f4778c94",
   "metadata": {},
   "outputs": [
    {
     "data": {
      "text/html": [
       "<div>\n",
       "<style scoped>\n",
       "    .dataframe tbody tr th:only-of-type {\n",
       "        vertical-align: middle;\n",
       "    }\n",
       "\n",
       "    .dataframe tbody tr th {\n",
       "        vertical-align: top;\n",
       "    }\n",
       "\n",
       "    .dataframe thead th {\n",
       "        text-align: right;\n",
       "    }\n",
       "</style>\n",
       "<table border=\"1\" class=\"dataframe\">\n",
       "  <thead>\n",
       "    <tr style=\"text-align: right;\">\n",
       "      <th></th>\n",
       "      <th>SK_ID_CURR</th>\n",
       "      <th>TARGET</th>\n",
       "      <th>NAME_CONTRACT_TYPE</th>\n",
       "      <th>CODE_GENDER</th>\n",
       "      <th>FLAG_OWN_CAR</th>\n",
       "      <th>FLAG_OWN_REALTY</th>\n",
       "      <th>CNT_CHILDREN</th>\n",
       "      <th>AMT_INCOME_TOTAL</th>\n",
       "      <th>AMT_CREDIT</th>\n",
       "      <th>AMT_ANNUITY</th>\n",
       "      <th>...</th>\n",
       "      <th>EXT_SOURCE_3</th>\n",
       "      <th>OBS_30_CNT_SOCIAL_CIRCLE</th>\n",
       "      <th>DEF_30_CNT_SOCIAL_CIRCLE</th>\n",
       "      <th>OBS_60_CNT_SOCIAL_CIRCLE</th>\n",
       "      <th>DEF_60_CNT_SOCIAL_CIRCLE</th>\n",
       "      <th>DAYS_LAST_PHONE_CHANGE</th>\n",
       "      <th>AMT_REQ_CREDIT_BUREAU_HOUR</th>\n",
       "      <th>AMT_REQ_CREDIT_BUREAU_MON</th>\n",
       "      <th>AMT_REQ_CREDIT_BUREAU_QRT</th>\n",
       "      <th>AMT_REQ_CREDIT_BUREAU_YEAR</th>\n",
       "    </tr>\n",
       "  </thead>\n",
       "  <tbody>\n",
       "    <tr>\n",
       "      <th>12203</th>\n",
       "      <td>12203</td>\n",
       "      <td>0</td>\n",
       "      <td>Cash loans</td>\n",
       "      <td>F</td>\n",
       "      <td>N</td>\n",
       "      <td>N</td>\n",
       "      <td>0</td>\n",
       "      <td>202500.0</td>\n",
       "      <td>539100.0</td>\n",
       "      <td>NaN</td>\n",
       "      <td>...</td>\n",
       "      <td>0.452534</td>\n",
       "      <td>1.0</td>\n",
       "      <td>0.0</td>\n",
       "      <td>1.0</td>\n",
       "      <td>0.0</td>\n",
       "      <td>-199.0</td>\n",
       "      <td>0.0</td>\n",
       "      <td>1.0</td>\n",
       "      <td>0.0</td>\n",
       "      <td>1.0</td>\n",
       "    </tr>\n",
       "    <tr>\n",
       "      <th>21815</th>\n",
       "      <td>21815</td>\n",
       "      <td>0</td>\n",
       "      <td>Cash loans</td>\n",
       "      <td>M</td>\n",
       "      <td>Y</td>\n",
       "      <td>N</td>\n",
       "      <td>0</td>\n",
       "      <td>202500.0</td>\n",
       "      <td>360000.0</td>\n",
       "      <td>NaN</td>\n",
       "      <td>...</td>\n",
       "      <td>0.177704</td>\n",
       "      <td>0.0</td>\n",
       "      <td>0.0</td>\n",
       "      <td>0.0</td>\n",
       "      <td>0.0</td>\n",
       "      <td>-743.0</td>\n",
       "      <td>0.0</td>\n",
       "      <td>0.0</td>\n",
       "      <td>0.0</td>\n",
       "      <td>6.0</td>\n",
       "    </tr>\n",
       "    <tr>\n",
       "      <th>50207</th>\n",
       "      <td>50207</td>\n",
       "      <td>0</td>\n",
       "      <td>Cash loans</td>\n",
       "      <td>F</td>\n",
       "      <td>N</td>\n",
       "      <td>Y</td>\n",
       "      <td>0</td>\n",
       "      <td>157500.0</td>\n",
       "      <td>792000.0</td>\n",
       "      <td>NaN</td>\n",
       "      <td>...</td>\n",
       "      <td>0.651260</td>\n",
       "      <td>0.0</td>\n",
       "      <td>0.0</td>\n",
       "      <td>0.0</td>\n",
       "      <td>0.0</td>\n",
       "      <td>-322.0</td>\n",
       "      <td>0.0</td>\n",
       "      <td>0.0</td>\n",
       "      <td>1.0</td>\n",
       "      <td>1.0</td>\n",
       "    </tr>\n",
       "    <tr>\n",
       "      <th>134001</th>\n",
       "      <td>134001</td>\n",
       "      <td>0</td>\n",
       "      <td>Cash loans</td>\n",
       "      <td>F</td>\n",
       "      <td>NaN</td>\n",
       "      <td>NaN</td>\n",
       "      <td>0</td>\n",
       "      <td>315000.0</td>\n",
       "      <td>628069.5</td>\n",
       "      <td>NaN</td>\n",
       "      <td>...</td>\n",
       "      <td>NaN</td>\n",
       "      <td>1.0</td>\n",
       "      <td>0.0</td>\n",
       "      <td>1.0</td>\n",
       "      <td>0.0</td>\n",
       "      <td>-1255.0</td>\n",
       "      <td>0.0</td>\n",
       "      <td>0.0</td>\n",
       "      <td>0.0</td>\n",
       "      <td>2.0</td>\n",
       "    </tr>\n",
       "    <tr>\n",
       "      <th>165603</th>\n",
       "      <td>165603</td>\n",
       "      <td>0</td>\n",
       "      <td>Cash loans</td>\n",
       "      <td>M</td>\n",
       "      <td>N</td>\n",
       "      <td>N</td>\n",
       "      <td>0</td>\n",
       "      <td>180000.0</td>\n",
       "      <td>450000.0</td>\n",
       "      <td>NaN</td>\n",
       "      <td>...</td>\n",
       "      <td>0.372334</td>\n",
       "      <td>1.0</td>\n",
       "      <td>0.0</td>\n",
       "      <td>1.0</td>\n",
       "      <td>0.0</td>\n",
       "      <td>-2.0</td>\n",
       "      <td>0.0</td>\n",
       "      <td>0.0</td>\n",
       "      <td>1.0</td>\n",
       "      <td>1.0</td>\n",
       "    </tr>\n",
       "    <tr>\n",
       "      <th>168512</th>\n",
       "      <td>168512</td>\n",
       "      <td>0</td>\n",
       "      <td>Cash loans</td>\n",
       "      <td>M</td>\n",
       "      <td>N</td>\n",
       "      <td>N</td>\n",
       "      <td>0</td>\n",
       "      <td>171000.0</td>\n",
       "      <td>486000.0</td>\n",
       "      <td>NaN</td>\n",
       "      <td>...</td>\n",
       "      <td>NaN</td>\n",
       "      <td>0.0</td>\n",
       "      <td>0.0</td>\n",
       "      <td>0.0</td>\n",
       "      <td>0.0</td>\n",
       "      <td>-295.0</td>\n",
       "      <td>0.0</td>\n",
       "      <td>1.0</td>\n",
       "      <td>0.0</td>\n",
       "      <td>2.0</td>\n",
       "    </tr>\n",
       "  </tbody>\n",
       "</table>\n",
       "<p>6 rows × 51 columns</p>\n",
       "</div>"
      ],
      "text/plain": [
       "        SK_ID_CURR  TARGET NAME_CONTRACT_TYPE CODE_GENDER FLAG_OWN_CAR  \\\n",
       "12203        12203       0         Cash loans           F            N   \n",
       "21815        21815       0         Cash loans           M            Y   \n",
       "50207        50207       0         Cash loans           F            N   \n",
       "134001      134001       0         Cash loans           F          NaN   \n",
       "165603      165603       0         Cash loans           M            N   \n",
       "168512      168512       0         Cash loans           M            N   \n",
       "\n",
       "       FLAG_OWN_REALTY  CNT_CHILDREN  AMT_INCOME_TOTAL  AMT_CREDIT  \\\n",
       "12203                N             0          202500.0    539100.0   \n",
       "21815                N             0          202500.0    360000.0   \n",
       "50207                Y             0          157500.0    792000.0   \n",
       "134001             NaN             0          315000.0    628069.5   \n",
       "165603               N             0          180000.0    450000.0   \n",
       "168512               N             0          171000.0    486000.0   \n",
       "\n",
       "        AMT_ANNUITY  ...  EXT_SOURCE_3 OBS_30_CNT_SOCIAL_CIRCLE  \\\n",
       "12203           NaN  ...      0.452534                      1.0   \n",
       "21815           NaN  ...      0.177704                      0.0   \n",
       "50207           NaN  ...      0.651260                      0.0   \n",
       "134001          NaN  ...           NaN                      1.0   \n",
       "165603          NaN  ...      0.372334                      1.0   \n",
       "168512          NaN  ...           NaN                      0.0   \n",
       "\n",
       "       DEF_30_CNT_SOCIAL_CIRCLE OBS_60_CNT_SOCIAL_CIRCLE  \\\n",
       "12203                       0.0                      1.0   \n",
       "21815                       0.0                      0.0   \n",
       "50207                       0.0                      0.0   \n",
       "134001                      0.0                      1.0   \n",
       "165603                      0.0                      1.0   \n",
       "168512                      0.0                      0.0   \n",
       "\n",
       "       DEF_60_CNT_SOCIAL_CIRCLE DAYS_LAST_PHONE_CHANGE  \\\n",
       "12203                       0.0                 -199.0   \n",
       "21815                       0.0                 -743.0   \n",
       "50207                       0.0                 -322.0   \n",
       "134001                      0.0                -1255.0   \n",
       "165603                      0.0                   -2.0   \n",
       "168512                      0.0                 -295.0   \n",
       "\n",
       "        AMT_REQ_CREDIT_BUREAU_HOUR  AMT_REQ_CREDIT_BUREAU_MON  \\\n",
       "12203                          0.0                        1.0   \n",
       "21815                          0.0                        0.0   \n",
       "50207                          0.0                        0.0   \n",
       "134001                         0.0                        0.0   \n",
       "165603                         0.0                        0.0   \n",
       "168512                         0.0                        1.0   \n",
       "\n",
       "        AMT_REQ_CREDIT_BUREAU_QRT  AMT_REQ_CREDIT_BUREAU_YEAR  \n",
       "12203                         0.0                         1.0  \n",
       "21815                         0.0                         6.0  \n",
       "50207                         1.0                         1.0  \n",
       "134001                        0.0                         2.0  \n",
       "165603                        1.0                         1.0  \n",
       "168512                        0.0                         2.0  \n",
       "\n",
       "[6 rows x 51 columns]"
      ]
     },
     "execution_count": 12,
     "metadata": {},
     "output_type": "execute_result"
    }
   ],
   "source": [
    "train[train['AMT_ANNUITY'].isna()]"
   ]
  },
  {
   "cell_type": "code",
   "execution_count": 13,
   "id": "60483929-2ae5-4b46-8786-3e81038ce05a",
   "metadata": {},
   "outputs": [
    {
     "data": {
      "text/html": [
       "<div>\n",
       "<style scoped>\n",
       "    .dataframe tbody tr th:only-of-type {\n",
       "        vertical-align: middle;\n",
       "    }\n",
       "\n",
       "    .dataframe tbody tr th {\n",
       "        vertical-align: top;\n",
       "    }\n",
       "\n",
       "    .dataframe thead th {\n",
       "        text-align: right;\n",
       "    }\n",
       "</style>\n",
       "<table border=\"1\" class=\"dataframe\">\n",
       "  <thead>\n",
       "    <tr style=\"text-align: right;\">\n",
       "      <th></th>\n",
       "      <th>SK_ID_CURR</th>\n",
       "      <th>TARGET</th>\n",
       "      <th>NAME_CONTRACT_TYPE</th>\n",
       "      <th>CODE_GENDER</th>\n",
       "      <th>FLAG_OWN_CAR</th>\n",
       "      <th>FLAG_OWN_REALTY</th>\n",
       "      <th>CNT_CHILDREN</th>\n",
       "      <th>AMT_INCOME_TOTAL</th>\n",
       "      <th>AMT_CREDIT</th>\n",
       "      <th>AMT_ANNUITY</th>\n",
       "      <th>...</th>\n",
       "      <th>EXT_SOURCE_3</th>\n",
       "      <th>OBS_30_CNT_SOCIAL_CIRCLE</th>\n",
       "      <th>DEF_30_CNT_SOCIAL_CIRCLE</th>\n",
       "      <th>OBS_60_CNT_SOCIAL_CIRCLE</th>\n",
       "      <th>DEF_60_CNT_SOCIAL_CIRCLE</th>\n",
       "      <th>DAYS_LAST_PHONE_CHANGE</th>\n",
       "      <th>AMT_REQ_CREDIT_BUREAU_HOUR</th>\n",
       "      <th>AMT_REQ_CREDIT_BUREAU_MON</th>\n",
       "      <th>AMT_REQ_CREDIT_BUREAU_QRT</th>\n",
       "      <th>AMT_REQ_CREDIT_BUREAU_YEAR</th>\n",
       "    </tr>\n",
       "  </thead>\n",
       "  <tbody>\n",
       "    <tr>\n",
       "      <th>47453</th>\n",
       "      <td>47453</td>\n",
       "      <td>0</td>\n",
       "      <td>Revolving loans</td>\n",
       "      <td>F</td>\n",
       "      <td>N</td>\n",
       "      <td>Y</td>\n",
       "      <td>0</td>\n",
       "      <td>202500.0</td>\n",
       "      <td>585000.0</td>\n",
       "      <td>29250.0</td>\n",
       "      <td>...</td>\n",
       "      <td>0.670652</td>\n",
       "      <td>1.0</td>\n",
       "      <td>0.0</td>\n",
       "      <td>1.0</td>\n",
       "      <td>0.0</td>\n",
       "      <td>-654.0</td>\n",
       "      <td>0.0</td>\n",
       "      <td>0.0</td>\n",
       "      <td>0.0</td>\n",
       "      <td>1.0</td>\n",
       "    </tr>\n",
       "    <tr>\n",
       "      <th>74592</th>\n",
       "      <td>74592</td>\n",
       "      <td>0</td>\n",
       "      <td>Revolving loans</td>\n",
       "      <td>M</td>\n",
       "      <td>N</td>\n",
       "      <td>Y</td>\n",
       "      <td>0</td>\n",
       "      <td>450000.0</td>\n",
       "      <td>675000.0</td>\n",
       "      <td>33750.0</td>\n",
       "      <td>...</td>\n",
       "      <td>NaN</td>\n",
       "      <td>3.0</td>\n",
       "      <td>0.0</td>\n",
       "      <td>3.0</td>\n",
       "      <td>0.0</td>\n",
       "      <td>-876.0</td>\n",
       "      <td>NaN</td>\n",
       "      <td>NaN</td>\n",
       "      <td>NaN</td>\n",
       "      <td>NaN</td>\n",
       "    </tr>\n",
       "  </tbody>\n",
       "</table>\n",
       "<p>2 rows × 51 columns</p>\n",
       "</div>"
      ],
      "text/plain": [
       "       SK_ID_CURR  TARGET NAME_CONTRACT_TYPE CODE_GENDER FLAG_OWN_CAR  \\\n",
       "47453       47453       0    Revolving loans           F            N   \n",
       "74592       74592       0    Revolving loans           M            N   \n",
       "\n",
       "      FLAG_OWN_REALTY  CNT_CHILDREN  AMT_INCOME_TOTAL  AMT_CREDIT  \\\n",
       "47453               Y             0          202500.0    585000.0   \n",
       "74592               Y             0          450000.0    675000.0   \n",
       "\n",
       "       AMT_ANNUITY  ...  EXT_SOURCE_3 OBS_30_CNT_SOCIAL_CIRCLE  \\\n",
       "47453      29250.0  ...      0.670652                      1.0   \n",
       "74592      33750.0  ...           NaN                      3.0   \n",
       "\n",
       "      DEF_30_CNT_SOCIAL_CIRCLE OBS_60_CNT_SOCIAL_CIRCLE  \\\n",
       "47453                      0.0                      1.0   \n",
       "74592                      0.0                      3.0   \n",
       "\n",
       "      DEF_60_CNT_SOCIAL_CIRCLE DAYS_LAST_PHONE_CHANGE  \\\n",
       "47453                      0.0                 -654.0   \n",
       "74592                      0.0                 -876.0   \n",
       "\n",
       "       AMT_REQ_CREDIT_BUREAU_HOUR  AMT_REQ_CREDIT_BUREAU_MON  \\\n",
       "47453                         0.0                        0.0   \n",
       "74592                         NaN                        NaN   \n",
       "\n",
       "       AMT_REQ_CREDIT_BUREAU_QRT  AMT_REQ_CREDIT_BUREAU_YEAR  \n",
       "47453                        0.0                         1.0  \n",
       "74592                        NaN                         NaN  \n",
       "\n",
       "[2 rows x 51 columns]"
      ]
     },
     "execution_count": 13,
     "metadata": {},
     "output_type": "execute_result"
    }
   ],
   "source": [
    "train[train['CNT_FAM_MEMBERS'].isna()]"
   ]
  },
  {
   "cell_type": "markdown",
   "id": "eacc6e2d-f98f-4a62-8357-2068eff352d6",
   "metadata": {
    "jp-MarkdownHeadingCollapsed": true
   },
   "source": [
    "## Feature engineering"
   ]
  },
  {
   "cell_type": "code",
   "execution_count": 4,
   "id": "f32631d2-24e1-41d0-833c-4b0f557b3a40",
   "metadata": {},
   "outputs": [],
   "source": [
    "n_train, n_test = train.copy(), test.copy()"
   ]
  },
  {
   "cell_type": "code",
   "execution_count": 5,
   "id": "0457f7a9-98ae-45a8-a8b7-59d7979f1050",
   "metadata": {},
   "outputs": [],
   "source": [
    "n_train = n_train.dropna(subset = ['CNT_FAM_MEMBERS', 'DAYS_LAST_PHONE_CHANGE'])"
   ]
  },
  {
   "cell_type": "code",
   "execution_count": 7,
   "id": "646c67b2-1485-4eff-b54f-4efa6a5c071e",
   "metadata": {},
   "outputs": [
    {
     "data": {
      "text/plain": [
       "(171195, 51)"
      ]
     },
     "execution_count": 7,
     "metadata": {},
     "output_type": "execute_result"
    }
   ],
   "source": [
    "#drop the nan in code gende\n",
    "n_train = n_train[n_train['CODE_GENDER'] != 'XNA']\n",
    "#drop the unknown values\n",
    "n_train = n_train[n_train['NAME_FAMILY_STATUS'] != 'Unknown']\n",
    "n_train.shape"
   ]
  },
  {
   "cell_type": "code",
   "execution_count": 8,
   "id": "6635bc55-1d06-4f74-a77a-c7de4a393206",
   "metadata": {},
   "outputs": [
    {
     "name": "stdout",
     "output_type": "stream",
     "text": [
      "shape of n_train is (171195, 51)\n",
      "\n",
      " shape of n_train is (61500, 50)\n"
     ]
    }
   ],
   "source": [
    "print(f'shape of n_train is {n_train.shape}')\n",
    "print(f'\\n shape of n_train is {n_test.shape}')"
   ]
  },
  {
   "cell_type": "code",
   "execution_count": 9,
   "id": "c947d9af-dca8-4dc3-a147-05ee49d562d4",
   "metadata": {},
   "outputs": [
    {
     "name": "stdout",
     "output_type": "stream",
     "text": [
      "the object types in train: \n",
      " NAME_CONTRACT_TYPE      2\n",
      "CODE_GENDER             2\n",
      "FLAG_OWN_CAR            2\n",
      "FLAG_OWN_REALTY         2\n",
      "NAME_TYPE_SUITE         7\n",
      "NAME_INCOME_TYPE        8\n",
      "NAME_EDUCATION_TYPE     5\n",
      "NAME_FAMILY_STATUS      5\n",
      "NAME_HOUSING_TYPE       6\n",
      "OCCUPATION_TYPE        18\n",
      "ORGANIZATION_TYPE      58\n",
      "dtype: int64\n",
      "\n",
      "the object types in test: \n",
      " NAME_CONTRACT_TYPE      2\n",
      "CODE_GENDER             2\n",
      "FLAG_OWN_CAR            2\n",
      "FLAG_OWN_REALTY         2\n",
      "NAME_TYPE_SUITE         7\n",
      "NAME_INCOME_TYPE        8\n",
      "NAME_EDUCATION_TYPE     5\n",
      "NAME_FAMILY_STATUS      5\n",
      "NAME_HOUSING_TYPE       6\n",
      "OCCUPATION_TYPE        18\n",
      "ORGANIZATION_TYPE      58\n",
      "dtype: int64\n",
      "\n"
     ]
    }
   ],
   "source": [
    "t3 = n_train.select_dtypes('object')\n",
    "#count the number of unique values\n",
    "print(f'the object types in train: \\n {t3.apply(pd.Series.nunique, axis = 0)}\\n')\n",
    "t4 = n_test.select_dtypes('object')\n",
    "print(f'the object types in test: \\n {t4.apply(pd.Series.nunique, axis = 0)}\\n')"
   ]
  },
  {
   "cell_type": "code",
   "execution_count": 10,
   "id": "e9140e78-ff93-44be-8d5f-414508db180c",
   "metadata": {},
   "outputs": [],
   "source": [
    "n_test['DAYS_EMPLOYED'] = n_test['DAYS_EMPLOYED'].replace(365243, np.nan)\n",
    "n_train['DAYS_EMPLOYED'] = n_train['DAYS_EMPLOYED'].replace(365243, np.nan)"
   ]
  },
  {
   "cell_type": "code",
   "execution_count": 11,
   "id": "cef95e73-8095-4137-9e12-7c712c7cb858",
   "metadata": {},
   "outputs": [],
   "source": [
    "#encoding\n",
    "#encoding need to fill NaN: for le->'null', for dummies->dummy_na = True\n",
    "def encoding(df):\n",
    "    encoded_f = []\n",
    "    le = LabelEncoder()\n",
    "    obj_f = df.columns[df.dtypes == 'object']\n",
    "    lb_count, oh_count = 0, 0\n",
    "    df['DAYS_EMPLOYED'] = df['DAYS_EMPLOYED'].replace(365243, np.nan)\n",
    "    for col in obj_f:\n",
    "        #label encoding\n",
    "        if df[col].nunique()<=2:\n",
    "            df[col] = le.fit_transform(df[col].fillna('NULL'))\n",
    "            encoded_f.append(col)\n",
    "            lb_count+= 1\n",
    "        else:\n",
    "        #one hot encodign\n",
    "            df = pd.get_dummies(df, dtype = int, columns = [col])\n",
    "            encoded_f.append(col)\n",
    "            oh_count += 1\n",
    "    return df, encoded_f, lb_count, oh_count"
   ]
  },
  {
   "cell_type": "code",
   "execution_count": 12,
   "id": "763e333a-b4a3-49a2-981c-a96333ff60a2",
   "metadata": {},
   "outputs": [
    {
     "name": "stdout",
     "output_type": "stream",
     "text": [
      "4 features is label encoded \n",
      "\n",
      "7 features is onehot encoded\n"
     ]
    }
   ],
   "source": [
    "n_train, _ , lb, oh= encoding(n_train)\n",
    "n_train.shape\n",
    "print(f'{lb} features is label encoded \\n')\n",
    "print(f'{oh} features is onehot encoded')"
   ]
  },
  {
   "cell_type": "code",
   "execution_count": 13,
   "id": "a153cb07-b579-4ce9-b943-b9ee9094612f",
   "metadata": {},
   "outputs": [
    {
     "data": {
      "text/plain": [
       "(171195, 151)"
      ]
     },
     "execution_count": 13,
     "metadata": {},
     "output_type": "execute_result"
    }
   ],
   "source": [
    "n_train.shape"
   ]
  },
  {
   "cell_type": "code",
   "execution_count": 14,
   "id": "a9e797af-a9ec-4d4c-8e09-a15fbbbc93e9",
   "metadata": {},
   "outputs": [
    {
     "name": "stdout",
     "output_type": "stream",
     "text": [
      "shape of n_test is (61500, 150)\n",
      "4 features is label encoded \n",
      "\n",
      "7 features is onehot encoded\n"
     ]
    }
   ],
   "source": [
    "n_test, _ , lb, oh= encoding(n_test)\n",
    "print(f'shape of n_test is {n_test.shape}')\n",
    "print(f'{lb} features is label encoded \\n')\n",
    "print(f'{oh} features is onehot encoded')"
   ]
  },
  {
   "cell_type": "code",
   "execution_count": 15,
   "id": "98cfcc5b-7e76-46f4-bc9b-4489205ec092",
   "metadata": {},
   "outputs": [
    {
     "name": "stdout",
     "output_type": "stream",
     "text": [
      "shape of train data(171195, 150)\n",
      "\n",
      " shape of test data(61500, 150)\n"
     ]
    }
   ],
   "source": [
    "target = n_train['TARGET']\n",
    "n_train = n_train.drop(columns = ['TARGET'])\n",
    "print(f'shape of train data{n_train.shape}')\n",
    "print(f'\\n shape of test data{n_test.shape}')"
   ]
  },
  {
   "cell_type": "code",
   "execution_count": 16,
   "id": "123a6484-2c43-4bfa-ab32-2822082c4cb9",
   "metadata": {},
   "outputs": [],
   "source": [
    "n_train['CREDIT_INCOME_PERCENT'] = n_train['AMT_CREDIT'] / n_train['AMT_INCOME_TOTAL']\n",
    "n_train['ANNUITY_INCOME_PERCENT'] = n_train['AMT_ANNUITY'] / n_train['AMT_INCOME_TOTAL']\n",
    "n_train['CREDIT_TERM'] = n_train['AMT_ANNUITY'] / n_train['AMT_CREDIT']\n",
    "n_train['DAYS_EMPLOYED_PERCENT'] =n_train['DAYS_EMPLOYED'] / n_train['DAYS_BIRTH']"
   ]
  },
  {
   "cell_type": "code",
   "execution_count": 17,
   "id": "3d8c93dd-7878-43ce-8f86-c2a8deb5f043",
   "metadata": {},
   "outputs": [],
   "source": [
    "n_train['OWN_CAR_AGE_PERCENT'] = n_train['OWN_CAR_AGE'] / n_train['DAYS_BIRTH']\n",
    "n_train['PERSONAL_MON_PERCENT'] = n_train['AMT_ANNUITY'] / n_train['CNT_FAM_MEMBERS']"
   ]
  },
  {
   "cell_type": "code",
   "execution_count": 18,
   "id": "819969f5-5fd4-46b3-bc37-2d5f0d1267b6",
   "metadata": {},
   "outputs": [],
   "source": [
    "n_test['CREDIT_INCOME_PERCENT'] = n_test['AMT_CREDIT'] / n_test['AMT_INCOME_TOTAL']\n",
    "n_test['ANNUITY_INCOME_PERCENT'] = n_test['AMT_ANNUITY'] / n_test['AMT_INCOME_TOTAL']\n",
    "n_test['CREDIT_TERM'] = n_test['AMT_ANNUITY'] / n_test['AMT_CREDIT']\n",
    "n_test['DAYS_EMPLOYED_PERCENT'] = n_test['DAYS_EMPLOYED'] / n_test['DAYS_BIRTH']"
   ]
  },
  {
   "cell_type": "code",
   "execution_count": 19,
   "id": "6f8edd28-1b6d-4db1-8f3d-4bdc2f381144",
   "metadata": {},
   "outputs": [],
   "source": [
    "n_test['OWN_CAR_AGE_PERCENT'] = n_test['OWN_CAR_AGE'] / n_test['DAYS_BIRTH']\n",
    "n_test['PERSONAL_MON_PERCENT'] = n_test['AMT_ANNUITY'] / n_test['CNT_FAM_MEMBERS']"
   ]
  },
  {
   "cell_type": "code",
   "execution_count": 20,
   "id": "230e18b4-ab00-4ae6-9fcc-0b0c15e8efc4",
   "metadata": {},
   "outputs": [
    {
     "data": {
      "text/plain": [
       "(171195, 156)"
      ]
     },
     "execution_count": 20,
     "metadata": {},
     "output_type": "execute_result"
    }
   ],
   "source": [
    "n_train.shape"
   ]
  },
  {
   "cell_type": "code",
   "execution_count": 21,
   "id": "12b8f56f-5b08-40ec-be97-9327a9f8f0d3",
   "metadata": {},
   "outputs": [
    {
     "data": {
      "text/plain": [
       "(61500, 156)"
      ]
     },
     "execution_count": 21,
     "metadata": {},
     "output_type": "execute_result"
    }
   ],
   "source": [
    "n_test.shape"
   ]
  },
  {
   "cell_type": "code",
   "execution_count": 129,
   "id": "fdf2f191-8cad-4b50-b3be-4f9cacf34eea",
   "metadata": {},
   "outputs": [
    {
     "data": {
      "text/plain": [
       "11.38709210621518"
      ]
     },
     "execution_count": 129,
     "metadata": {},
     "output_type": "execute_result"
    }
   ],
   "source": [
    "train[train['TARGET']==0].shape[0]/train[train['TARGET']==1].shape[0]"
   ]
  },
  {
   "cell_type": "code",
   "execution_count": 22,
   "id": "b2de81a0-7d1f-43d3-a2af-c816aa155506",
   "metadata": {},
   "outputs": [],
   "source": [
    "#split\n",
    "X_train1, X_valid1, y_train1, y_valid1 = train_test_split(\n",
    "    n_train, target, test_size = 0.3, stratify = target, random_state = 0\n",
    ")"
   ]
  },
  {
   "cell_type": "code",
   "execution_count": 177,
   "id": "5dbbd89b-2153-461f-8e17-5f7cbaffdbdd",
   "metadata": {
    "collapsed": true,
    "jupyter": {
     "outputs_hidden": true
    }
   },
   "outputs": [
    {
     "name": "stdout",
     "output_type": "stream",
     "text": [
      "Best Parameters: {'gamma': 0.1, 'learning_rate': 0.05, 'max_depth': 3, 'n_estimators': 800, 'scale_pos_weight': 11.38709}\n",
      "Best AUC Score: 0.7567757120425984\n"
     ]
    }
   ],
   "source": [
    "#hyperparameters searching\n",
    "from sklearn.model_selection import GridSearchCV\n",
    "xgb1 = XGBClassifier()\n",
    "\n",
    "# 定义超参数网格\n",
    "param_grid = {\n",
    "    'max_depth': [3],\n",
    "    'learning_rate': [0.01, 0.05, 0.1, 0.15],\n",
    "    'n_estimators': [800, 900, 1000, 1100],\n",
    "    'gamma': [0.1,0.2],\n",
    "    'scale_pos_weight' : [11.38709]\n",
    "}\n",
    "\n",
    "# \n",
    "grid_search = GridSearchCV(\n",
    "    estimator=xgb1,\n",
    "    param_grid=param_grid,\n",
    "    scoring='roc_auc',\n",
    "    cv=3\n",
    ")\n",
    "\n",
    "# \n",
    "grid_search.fit(X_train1, y_train1)\n",
    "\n",
    "# \n",
    "print(\"Best Parameters:\", grid_search.best_params_)\n",
    "print(\"Best AUC Score:\", grid_search.best_score_)"
   ]
  },
  {
   "cell_type": "code",
   "execution_count": 67,
   "id": "4884d9b1-8a85-4f14-b07c-1fdc9c069ec8",
   "metadata": {
    "scrolled": true
   },
   "outputs": [
    {
     "name": "stdout",
     "output_type": "stream",
     "text": [
      "AUC on train is 0.8014808825616685\n",
      "AUC on valid is 0.7569714287302357\n"
     ]
    }
   ],
   "source": [
    "xgb1 = XGBClassifier(\n",
    "learning_rate = 0.05, max_depth = 3, n_estimators = 800\n",
    ")\n",
    "\n",
    "xgb1.fit(X_train1, y_train1)\n",
    "\n",
    "pred_train1 = xgb1.predict_proba(X_train1)[:, 1]\n",
    "pred_valid1 = xgb1.predict_proba(X_valid1)[:, 1]\n",
    "\n",
    "print(f'AUC on train is {roc_auc_score(y_train1, pred_train1)}')\n",
    "print(f'AUC on valid is {roc_auc_score(y_valid1, pred_valid1)}')"
   ]
  },
  {
   "cell_type": "markdown",
   "id": "05c8ac8c-4298-4ea7-aa5a-faa4d83e2d28",
   "metadata": {
    "jp-MarkdownHeadingCollapsed": true
   },
   "source": [
    "### Percentile selection"
   ]
  },
  {
   "cell_type": "code",
   "execution_count": 98,
   "id": "5a75a331-bead-4310-96f7-f6e87e9bc0eb",
   "metadata": {},
   "outputs": [],
   "source": [
    "X_train_per, X_valid_per, y_train_per, y_valid_per = train_test_split(\n",
    "    n_train, target, stratify = target, random_state = 42, test_size = 0.25\n",
    ")"
   ]
  },
  {
   "cell_type": "code",
   "execution_count": 100,
   "id": "559e977e-06ee-4a9e-bffc-69fd4feaa964",
   "metadata": {},
   "outputs": [
    {
     "name": "stdout",
     "output_type": "stream",
     "text": [
      "auc on train set is: 0.7995129575016073\n",
      "auc on valid set is: 0.7543652956239197\n"
     ]
    }
   ],
   "source": [
    "xgb_per = XGBClassifier(\n",
    "learning_rate = 0.05, max_depth = 3, n_estimators = 800\n",
    ")\n",
    "\n",
    "xgb_per.fit(X_train_per, y_train_per)\n",
    "\n",
    "pred_train_per = xgb_per.predict_proba(X_train_per)[:,1]\n",
    "pred_valid_per = xgb_per.predict_proba(X_valid_per)[:,1]\n",
    "\n",
    "print(f'auc on train set is: {roc_auc_score(y_train_per, pred_train_per)}')\n",
    "print(f'auc on valid set is: {roc_auc_score(y_valid_per, pred_valid_per)}')"
   ]
  },
  {
   "cell_type": "markdown",
   "id": "001642b5-7065-4d4c-9f6d-500ab2a383cb",
   "metadata": {},
   "source": [
    "**feature selection**"
   ]
  },
  {
   "cell_type": "code",
   "execution_count": 101,
   "id": "ee153f8d-c674-4dc1-9260-a2a042038448",
   "metadata": {},
   "outputs": [],
   "source": [
    "from sklearn import feature_selection"
   ]
  },
  {
   "cell_type": "code",
   "execution_count": 102,
   "id": "9c195c86-df6a-480c-bfa9-af8c26374f96",
   "metadata": {},
   "outputs": [
    {
     "ename": "ValueError",
     "evalue": "Input X contains NaN.\nSelectPercentile does not accept missing values encoded as NaN natively. For supervised learning, you might want to consider sklearn.ensemble.HistGradientBoostingClassifier and Regressor which accept missing values encoded as NaNs natively. Alternatively, it is possible to preprocess the data, for instance by using an imputer transformer in a pipeline or drop samples with missing values. See https://scikit-learn.org/stable/modules/impute.html You can find a list of all estimators that handle NaN values at the following page: https://scikit-learn.org/stable/modules/impute.html#estimators-that-handle-nan-values",
     "output_type": "error",
     "traceback": [
      "\u001b[1;31m---------------------------------------------------------------------------\u001b[0m",
      "\u001b[1;31mValueError\u001b[0m                                Traceback (most recent call last)",
      "Cell \u001b[1;32mIn[102], line 3\u001b[0m\n\u001b[0;32m      1\u001b[0m fs \u001b[38;5;241m=\u001b[39m feature_selection\u001b[38;5;241m.\u001b[39mSelectPercentile(feature_selection\u001b[38;5;241m.\u001b[39mchi2, percentile \u001b[38;5;241m=\u001b[39m \u001b[38;5;241m20\u001b[39m)\n\u001b[0;32m      2\u001b[0m \u001b[38;5;66;03m#feature selection\u001b[39;00m\n\u001b[1;32m----> 3\u001b[0m X_train_20 \u001b[38;5;241m=\u001b[39m fs\u001b[38;5;241m.\u001b[39mfit_transform(X_train_per, y_train_per)\n\u001b[0;32m      4\u001b[0m \u001b[38;5;66;03m#fit model\u001b[39;00m\n\u001b[0;32m      5\u001b[0m xgb_per\u001b[38;5;241m.\u001b[39mfit(X_train_20, y_train)\n",
      "File \u001b[1;32mD:\\Apps\\miniconda3\\envs\\dl\\Lib\\site-packages\\sklearn\\utils\\_set_output.py:316\u001b[0m, in \u001b[0;36m_wrap_method_output.<locals>.wrapped\u001b[1;34m(self, X, *args, **kwargs)\u001b[0m\n\u001b[0;32m    314\u001b[0m \u001b[38;5;129m@wraps\u001b[39m(f)\n\u001b[0;32m    315\u001b[0m \u001b[38;5;28;01mdef\u001b[39;00m \u001b[38;5;21mwrapped\u001b[39m(\u001b[38;5;28mself\u001b[39m, X, \u001b[38;5;241m*\u001b[39margs, \u001b[38;5;241m*\u001b[39m\u001b[38;5;241m*\u001b[39mkwargs):\n\u001b[1;32m--> 316\u001b[0m     data_to_wrap \u001b[38;5;241m=\u001b[39m f(\u001b[38;5;28mself\u001b[39m, X, \u001b[38;5;241m*\u001b[39margs, \u001b[38;5;241m*\u001b[39m\u001b[38;5;241m*\u001b[39mkwargs)\n\u001b[0;32m    317\u001b[0m     \u001b[38;5;28;01mif\u001b[39;00m \u001b[38;5;28misinstance\u001b[39m(data_to_wrap, \u001b[38;5;28mtuple\u001b[39m):\n\u001b[0;32m    318\u001b[0m         \u001b[38;5;66;03m# only wrap the first output for cross decomposition\u001b[39;00m\n\u001b[0;32m    319\u001b[0m         return_tuple \u001b[38;5;241m=\u001b[39m (\n\u001b[0;32m    320\u001b[0m             _wrap_data_with_container(method, data_to_wrap[\u001b[38;5;241m0\u001b[39m], X, \u001b[38;5;28mself\u001b[39m),\n\u001b[0;32m    321\u001b[0m             \u001b[38;5;241m*\u001b[39mdata_to_wrap[\u001b[38;5;241m1\u001b[39m:],\n\u001b[0;32m    322\u001b[0m         )\n",
      "File \u001b[1;32mD:\\Apps\\miniconda3\\envs\\dl\\Lib\\site-packages\\sklearn\\base.py:1101\u001b[0m, in \u001b[0;36mTransformerMixin.fit_transform\u001b[1;34m(self, X, y, **fit_params)\u001b[0m\n\u001b[0;32m   1098\u001b[0m     \u001b[38;5;28;01mreturn\u001b[39;00m \u001b[38;5;28mself\u001b[39m\u001b[38;5;241m.\u001b[39mfit(X, \u001b[38;5;241m*\u001b[39m\u001b[38;5;241m*\u001b[39mfit_params)\u001b[38;5;241m.\u001b[39mtransform(X)\n\u001b[0;32m   1099\u001b[0m \u001b[38;5;28;01melse\u001b[39;00m:\n\u001b[0;32m   1100\u001b[0m     \u001b[38;5;66;03m# fit method of arity 2 (supervised transformation)\u001b[39;00m\n\u001b[1;32m-> 1101\u001b[0m     \u001b[38;5;28;01mreturn\u001b[39;00m \u001b[38;5;28mself\u001b[39m\u001b[38;5;241m.\u001b[39mfit(X, y, \u001b[38;5;241m*\u001b[39m\u001b[38;5;241m*\u001b[39mfit_params)\u001b[38;5;241m.\u001b[39mtransform(X)\n",
      "File \u001b[1;32mD:\\Apps\\miniconda3\\envs\\dl\\Lib\\site-packages\\sklearn\\base.py:1473\u001b[0m, in \u001b[0;36m_fit_context.<locals>.decorator.<locals>.wrapper\u001b[1;34m(estimator, *args, **kwargs)\u001b[0m\n\u001b[0;32m   1466\u001b[0m     estimator\u001b[38;5;241m.\u001b[39m_validate_params()\n\u001b[0;32m   1468\u001b[0m \u001b[38;5;28;01mwith\u001b[39;00m config_context(\n\u001b[0;32m   1469\u001b[0m     skip_parameter_validation\u001b[38;5;241m=\u001b[39m(\n\u001b[0;32m   1470\u001b[0m         prefer_skip_nested_validation \u001b[38;5;129;01mor\u001b[39;00m global_skip_validation\n\u001b[0;32m   1471\u001b[0m     )\n\u001b[0;32m   1472\u001b[0m ):\n\u001b[1;32m-> 1473\u001b[0m     \u001b[38;5;28;01mreturn\u001b[39;00m fit_method(estimator, \u001b[38;5;241m*\u001b[39margs, \u001b[38;5;241m*\u001b[39m\u001b[38;5;241m*\u001b[39mkwargs)\n",
      "File \u001b[1;32mD:\\Apps\\miniconda3\\envs\\dl\\Lib\\site-packages\\sklearn\\feature_selection\\_univariate_selection.py:562\u001b[0m, in \u001b[0;36m_BaseFilter.fit\u001b[1;34m(self, X, y)\u001b[0m\n\u001b[0;32m    560\u001b[0m     X \u001b[38;5;241m=\u001b[39m \u001b[38;5;28mself\u001b[39m\u001b[38;5;241m.\u001b[39m_validate_data(X, accept_sparse\u001b[38;5;241m=\u001b[39m[\u001b[38;5;124m\"\u001b[39m\u001b[38;5;124mcsr\u001b[39m\u001b[38;5;124m\"\u001b[39m, \u001b[38;5;124m\"\u001b[39m\u001b[38;5;124mcsc\u001b[39m\u001b[38;5;124m\"\u001b[39m])\n\u001b[0;32m    561\u001b[0m \u001b[38;5;28;01melse\u001b[39;00m:\n\u001b[1;32m--> 562\u001b[0m     X, y \u001b[38;5;241m=\u001b[39m \u001b[38;5;28mself\u001b[39m\u001b[38;5;241m.\u001b[39m_validate_data(\n\u001b[0;32m    563\u001b[0m         X, y, accept_sparse\u001b[38;5;241m=\u001b[39m[\u001b[38;5;124m\"\u001b[39m\u001b[38;5;124mcsr\u001b[39m\u001b[38;5;124m\"\u001b[39m, \u001b[38;5;124m\"\u001b[39m\u001b[38;5;124mcsc\u001b[39m\u001b[38;5;124m\"\u001b[39m], multi_output\u001b[38;5;241m=\u001b[39m\u001b[38;5;28;01mTrue\u001b[39;00m\n\u001b[0;32m    564\u001b[0m     )\n\u001b[0;32m    566\u001b[0m \u001b[38;5;28mself\u001b[39m\u001b[38;5;241m.\u001b[39m_check_params(X, y)\n\u001b[0;32m    567\u001b[0m score_func_ret \u001b[38;5;241m=\u001b[39m \u001b[38;5;28mself\u001b[39m\u001b[38;5;241m.\u001b[39mscore_func(X, y)\n",
      "File \u001b[1;32mD:\\Apps\\miniconda3\\envs\\dl\\Lib\\site-packages\\sklearn\\base.py:650\u001b[0m, in \u001b[0;36mBaseEstimator._validate_data\u001b[1;34m(self, X, y, reset, validate_separately, cast_to_ndarray, **check_params)\u001b[0m\n\u001b[0;32m    648\u001b[0m         y \u001b[38;5;241m=\u001b[39m check_array(y, input_name\u001b[38;5;241m=\u001b[39m\u001b[38;5;124m\"\u001b[39m\u001b[38;5;124my\u001b[39m\u001b[38;5;124m\"\u001b[39m, \u001b[38;5;241m*\u001b[39m\u001b[38;5;241m*\u001b[39mcheck_y_params)\n\u001b[0;32m    649\u001b[0m     \u001b[38;5;28;01melse\u001b[39;00m:\n\u001b[1;32m--> 650\u001b[0m         X, y \u001b[38;5;241m=\u001b[39m check_X_y(X, y, \u001b[38;5;241m*\u001b[39m\u001b[38;5;241m*\u001b[39mcheck_params)\n\u001b[0;32m    651\u001b[0m     out \u001b[38;5;241m=\u001b[39m X, y\n\u001b[0;32m    653\u001b[0m \u001b[38;5;28;01mif\u001b[39;00m \u001b[38;5;129;01mnot\u001b[39;00m no_val_X \u001b[38;5;129;01mand\u001b[39;00m check_params\u001b[38;5;241m.\u001b[39mget(\u001b[38;5;124m\"\u001b[39m\u001b[38;5;124mensure_2d\u001b[39m\u001b[38;5;124m\"\u001b[39m, \u001b[38;5;28;01mTrue\u001b[39;00m):\n",
      "File \u001b[1;32mD:\\Apps\\miniconda3\\envs\\dl\\Lib\\site-packages\\sklearn\\utils\\validation.py:1301\u001b[0m, in \u001b[0;36mcheck_X_y\u001b[1;34m(X, y, accept_sparse, accept_large_sparse, dtype, order, copy, force_writeable, force_all_finite, ensure_2d, allow_nd, multi_output, ensure_min_samples, ensure_min_features, y_numeric, estimator)\u001b[0m\n\u001b[0;32m   1296\u001b[0m         estimator_name \u001b[38;5;241m=\u001b[39m _check_estimator_name(estimator)\n\u001b[0;32m   1297\u001b[0m     \u001b[38;5;28;01mraise\u001b[39;00m \u001b[38;5;167;01mValueError\u001b[39;00m(\n\u001b[0;32m   1298\u001b[0m         \u001b[38;5;124mf\u001b[39m\u001b[38;5;124m\"\u001b[39m\u001b[38;5;132;01m{\u001b[39;00mestimator_name\u001b[38;5;132;01m}\u001b[39;00m\u001b[38;5;124m requires y to be passed, but the target y is None\u001b[39m\u001b[38;5;124m\"\u001b[39m\n\u001b[0;32m   1299\u001b[0m     )\n\u001b[1;32m-> 1301\u001b[0m X \u001b[38;5;241m=\u001b[39m check_array(\n\u001b[0;32m   1302\u001b[0m     X,\n\u001b[0;32m   1303\u001b[0m     accept_sparse\u001b[38;5;241m=\u001b[39maccept_sparse,\n\u001b[0;32m   1304\u001b[0m     accept_large_sparse\u001b[38;5;241m=\u001b[39maccept_large_sparse,\n\u001b[0;32m   1305\u001b[0m     dtype\u001b[38;5;241m=\u001b[39mdtype,\n\u001b[0;32m   1306\u001b[0m     order\u001b[38;5;241m=\u001b[39morder,\n\u001b[0;32m   1307\u001b[0m     copy\u001b[38;5;241m=\u001b[39mcopy,\n\u001b[0;32m   1308\u001b[0m     force_writeable\u001b[38;5;241m=\u001b[39mforce_writeable,\n\u001b[0;32m   1309\u001b[0m     force_all_finite\u001b[38;5;241m=\u001b[39mforce_all_finite,\n\u001b[0;32m   1310\u001b[0m     ensure_2d\u001b[38;5;241m=\u001b[39mensure_2d,\n\u001b[0;32m   1311\u001b[0m     allow_nd\u001b[38;5;241m=\u001b[39mallow_nd,\n\u001b[0;32m   1312\u001b[0m     ensure_min_samples\u001b[38;5;241m=\u001b[39mensure_min_samples,\n\u001b[0;32m   1313\u001b[0m     ensure_min_features\u001b[38;5;241m=\u001b[39mensure_min_features,\n\u001b[0;32m   1314\u001b[0m     estimator\u001b[38;5;241m=\u001b[39mestimator,\n\u001b[0;32m   1315\u001b[0m     input_name\u001b[38;5;241m=\u001b[39m\u001b[38;5;124m\"\u001b[39m\u001b[38;5;124mX\u001b[39m\u001b[38;5;124m\"\u001b[39m,\n\u001b[0;32m   1316\u001b[0m )\n\u001b[0;32m   1318\u001b[0m y \u001b[38;5;241m=\u001b[39m _check_y(y, multi_output\u001b[38;5;241m=\u001b[39mmulti_output, y_numeric\u001b[38;5;241m=\u001b[39my_numeric, estimator\u001b[38;5;241m=\u001b[39mestimator)\n\u001b[0;32m   1320\u001b[0m check_consistent_length(X, y)\n",
      "File \u001b[1;32mD:\\Apps\\miniconda3\\envs\\dl\\Lib\\site-packages\\sklearn\\utils\\validation.py:1064\u001b[0m, in \u001b[0;36mcheck_array\u001b[1;34m(array, accept_sparse, accept_large_sparse, dtype, order, copy, force_writeable, force_all_finite, ensure_2d, allow_nd, ensure_min_samples, ensure_min_features, estimator, input_name)\u001b[0m\n\u001b[0;32m   1058\u001b[0m     \u001b[38;5;28;01mraise\u001b[39;00m \u001b[38;5;167;01mValueError\u001b[39;00m(\n\u001b[0;32m   1059\u001b[0m         \u001b[38;5;124m\"\u001b[39m\u001b[38;5;124mFound array with dim \u001b[39m\u001b[38;5;132;01m%d\u001b[39;00m\u001b[38;5;124m. \u001b[39m\u001b[38;5;132;01m%s\u001b[39;00m\u001b[38;5;124m expected <= 2.\u001b[39m\u001b[38;5;124m\"\u001b[39m\n\u001b[0;32m   1060\u001b[0m         \u001b[38;5;241m%\u001b[39m (array\u001b[38;5;241m.\u001b[39mndim, estimator_name)\n\u001b[0;32m   1061\u001b[0m     )\n\u001b[0;32m   1063\u001b[0m \u001b[38;5;28;01mif\u001b[39;00m force_all_finite:\n\u001b[1;32m-> 1064\u001b[0m     _assert_all_finite(\n\u001b[0;32m   1065\u001b[0m         array,\n\u001b[0;32m   1066\u001b[0m         input_name\u001b[38;5;241m=\u001b[39minput_name,\n\u001b[0;32m   1067\u001b[0m         estimator_name\u001b[38;5;241m=\u001b[39mestimator_name,\n\u001b[0;32m   1068\u001b[0m         allow_nan\u001b[38;5;241m=\u001b[39mforce_all_finite \u001b[38;5;241m==\u001b[39m \u001b[38;5;124m\"\u001b[39m\u001b[38;5;124mallow-nan\u001b[39m\u001b[38;5;124m\"\u001b[39m,\n\u001b[0;32m   1069\u001b[0m     )\n\u001b[0;32m   1071\u001b[0m \u001b[38;5;28;01mif\u001b[39;00m copy:\n\u001b[0;32m   1072\u001b[0m     \u001b[38;5;28;01mif\u001b[39;00m _is_numpy_namespace(xp):\n\u001b[0;32m   1073\u001b[0m         \u001b[38;5;66;03m# only make a copy if `array` and `array_orig` may share memory`\u001b[39;00m\n",
      "File \u001b[1;32mD:\\Apps\\miniconda3\\envs\\dl\\Lib\\site-packages\\sklearn\\utils\\validation.py:123\u001b[0m, in \u001b[0;36m_assert_all_finite\u001b[1;34m(X, allow_nan, msg_dtype, estimator_name, input_name)\u001b[0m\n\u001b[0;32m    120\u001b[0m \u001b[38;5;28;01mif\u001b[39;00m first_pass_isfinite:\n\u001b[0;32m    121\u001b[0m     \u001b[38;5;28;01mreturn\u001b[39;00m\n\u001b[1;32m--> 123\u001b[0m _assert_all_finite_element_wise(\n\u001b[0;32m    124\u001b[0m     X,\n\u001b[0;32m    125\u001b[0m     xp\u001b[38;5;241m=\u001b[39mxp,\n\u001b[0;32m    126\u001b[0m     allow_nan\u001b[38;5;241m=\u001b[39mallow_nan,\n\u001b[0;32m    127\u001b[0m     msg_dtype\u001b[38;5;241m=\u001b[39mmsg_dtype,\n\u001b[0;32m    128\u001b[0m     estimator_name\u001b[38;5;241m=\u001b[39mestimator_name,\n\u001b[0;32m    129\u001b[0m     input_name\u001b[38;5;241m=\u001b[39minput_name,\n\u001b[0;32m    130\u001b[0m )\n",
      "File \u001b[1;32mD:\\Apps\\miniconda3\\envs\\dl\\Lib\\site-packages\\sklearn\\utils\\validation.py:172\u001b[0m, in \u001b[0;36m_assert_all_finite_element_wise\u001b[1;34m(X, xp, allow_nan, msg_dtype, estimator_name, input_name)\u001b[0m\n\u001b[0;32m    155\u001b[0m \u001b[38;5;28;01mif\u001b[39;00m estimator_name \u001b[38;5;129;01mand\u001b[39;00m input_name \u001b[38;5;241m==\u001b[39m \u001b[38;5;124m\"\u001b[39m\u001b[38;5;124mX\u001b[39m\u001b[38;5;124m\"\u001b[39m \u001b[38;5;129;01mand\u001b[39;00m has_nan_error:\n\u001b[0;32m    156\u001b[0m     \u001b[38;5;66;03m# Improve the error message on how to handle missing values in\u001b[39;00m\n\u001b[0;32m    157\u001b[0m     \u001b[38;5;66;03m# scikit-learn.\u001b[39;00m\n\u001b[0;32m    158\u001b[0m     msg_err \u001b[38;5;241m+\u001b[39m\u001b[38;5;241m=\u001b[39m (\n\u001b[0;32m    159\u001b[0m         \u001b[38;5;124mf\u001b[39m\u001b[38;5;124m\"\u001b[39m\u001b[38;5;130;01m\\n\u001b[39;00m\u001b[38;5;132;01m{\u001b[39;00mestimator_name\u001b[38;5;132;01m}\u001b[39;00m\u001b[38;5;124m does not accept missing values\u001b[39m\u001b[38;5;124m\"\u001b[39m\n\u001b[0;32m    160\u001b[0m         \u001b[38;5;124m\"\u001b[39m\u001b[38;5;124m encoded as NaN natively. For supervised learning, you might want\u001b[39m\u001b[38;5;124m\"\u001b[39m\n\u001b[1;32m   (...)\u001b[0m\n\u001b[0;32m    170\u001b[0m         \u001b[38;5;124m\"\u001b[39m\u001b[38;5;124m#estimators-that-handle-nan-values\u001b[39m\u001b[38;5;124m\"\u001b[39m\n\u001b[0;32m    171\u001b[0m     )\n\u001b[1;32m--> 172\u001b[0m \u001b[38;5;28;01mraise\u001b[39;00m \u001b[38;5;167;01mValueError\u001b[39;00m(msg_err)\n",
      "\u001b[1;31mValueError\u001b[0m: Input X contains NaN.\nSelectPercentile does not accept missing values encoded as NaN natively. For supervised learning, you might want to consider sklearn.ensemble.HistGradientBoostingClassifier and Regressor which accept missing values encoded as NaNs natively. Alternatively, it is possible to preprocess the data, for instance by using an imputer transformer in a pipeline or drop samples with missing values. See https://scikit-learn.org/stable/modules/impute.html You can find a list of all estimators that handle NaN values at the following page: https://scikit-learn.org/stable/modules/impute.html#estimators-that-handle-nan-values"
     ]
    }
   ],
   "source": [
    "fs = feature_selection.SelectPercentile(feature_selection.chi2, percentile = 20)\n",
    "#feature selection\n",
    "X_train_20 = fs.fit_transform(X_train_per, y_train_per)\n",
    "#fit model\n",
    "xgb_per.fit(X_train_20, y_train)\n",
    "#transform valid and test data\n",
    "X_valid_20 = fs.transform(X_valid_per)\n",
    "#predict on valid_20\n",
    "pred_valid_20 = xgb_per.predict_proba(X_valid_20)[:,1]\n",
    "#print\n",
    "print(f'auc on valid set is: {roc_auc_score(y_valid_per, pred_valid_20)}')"
   ]
  },
  {
   "cell_type": "markdown",
   "id": "7a21fc09-22b4-4001-a9e1-39a7ea37a70f",
   "metadata": {},
   "source": [
    "### Feature_importance selected model has same performance"
   ]
  },
  {
   "cell_type": "code",
   "execution_count": 31,
   "id": "0f0fdb46-223f-44c0-a9ce-1d9adbe234f0",
   "metadata": {},
   "outputs": [
    {
     "data": {
      "text/plain": [
       "array([0.00521238, 0.03844498, 0.0296435 , 0.00494631, 0.00794937,\n",
       "       0.00705768, 0.00531078, 0.01078011, 0.01081492, 0.01346411,\n",
       "       0.00511424, 0.01115877, 0.02578983, 0.00608304, 0.00851038,\n",
       "       0.01406708, 0.        , 0.        , 0.00557964, 0.00164857,\n",
       "       0.00354274, 0.        , 0.00504034, 0.0061427 , 0.01131339,\n",
       "       0.0039514 , 0.00490779, 0.00490605, 0.01122049, 0.00638473,\n",
       "       0.00347536, 0.01704644, 0.07354284, 0.05544398, 0.00465313,\n",
       "       0.0166037 , 0.00616885, 0.00622708, 0.00825607, 0.00737981,\n",
       "       0.00380024, 0.0062764 , 0.00674044, 0.        , 0.00633871,\n",
       "       0.00182285, 0.        , 0.00660964, 0.00632104, 0.00372396,\n",
       "       0.        , 0.00386164, 0.        , 0.        , 0.00892225,\n",
       "       0.        , 0.        , 0.02074287, 0.00198766, 0.08114925,\n",
       "       0.00603073, 0.00463365, 0.01264402, 0.00631206, 0.01137121,\n",
       "       0.00579631, 0.00722498, 0.00557899, 0.00459988, 0.00897038,\n",
       "       0.00555269, 0.00600974, 0.00514565, 0.00680004, 0.00548896,\n",
       "       0.00473883, 0.00524622, 0.00866714, 0.01127007, 0.        ,\n",
       "       0.00347233, 0.        , 0.00759221, 0.        , 0.        ,\n",
       "       0.00141712, 0.        , 0.00153197, 0.00863182, 0.00139897,\n",
       "       0.00547323, 0.00336025, 0.        , 0.00408935, 0.0049733 ,\n",
       "       0.0059753 , 0.00121624, 0.00225378, 0.        , 0.0050423 ,\n",
       "       0.        , 0.00115951, 0.        , 0.00497765, 0.00491774,\n",
       "       0.        , 0.00470818, 0.        , 0.        , 0.00416691,\n",
       "       0.        , 0.        , 0.00717563, 0.00324813, 0.00275183,\n",
       "       0.        , 0.00171214, 0.        , 0.00372427, 0.        ,\n",
       "       0.00301701, 0.00123663, 0.00752178, 0.00646244, 0.00299097,\n",
       "       0.00321496, 0.00537224, 0.        , 0.00396421, 0.        ,\n",
       "       0.        , 0.00346159, 0.        , 0.00496836, 0.00611302,\n",
       "       0.        , 0.        , 0.        , 0.00431826, 0.00603693,\n",
       "       0.        , 0.        , 0.        , 0.00501789, 0.        ,\n",
       "       0.00844019, 0.00539438, 0.0073541 , 0.00279974, 0.        ,\n",
       "       0.00703867, 0.00581307, 0.01819131, 0.00827802, 0.01361358,\n",
       "       0.00624931], dtype=float32)"
      ]
     },
     "execution_count": 31,
     "metadata": {},
     "output_type": "execute_result"
    }
   ],
   "source": [
    "importance = xgb1.feature_importances_\n",
    "importance"
   ]
  },
  {
   "cell_type": "code",
   "execution_count": 39,
   "id": "79cdd54f-ef70-47bc-b9d4-266cb0af31bb",
   "metadata": {},
   "outputs": [],
   "source": [
    "importance_series = pd.DataFrame(data = {'col1': list(n_train.columns), 'col2': importance})"
   ]
  },
  {
   "cell_type": "code",
   "execution_count": 42,
   "id": "8d0dfe43-53da-43a3-b703-a06cd2d82b6e",
   "metadata": {},
   "outputs": [
    {
     "data": {
      "text/html": [
       "<div>\n",
       "<style scoped>\n",
       "    .dataframe tbody tr th:only-of-type {\n",
       "        vertical-align: middle;\n",
       "    }\n",
       "\n",
       "    .dataframe tbody tr th {\n",
       "        vertical-align: top;\n",
       "    }\n",
       "\n",
       "    .dataframe thead th {\n",
       "        text-align: right;\n",
       "    }\n",
       "</style>\n",
       "<table border=\"1\" class=\"dataframe\">\n",
       "  <thead>\n",
       "    <tr style=\"text-align: right;\">\n",
       "      <th></th>\n",
       "      <th>col1</th>\n",
       "      <th>col2</th>\n",
       "    </tr>\n",
       "  </thead>\n",
       "  <tbody>\n",
       "    <tr>\n",
       "      <th>59</th>\n",
       "      <td>NAME_EDUCATION_TYPE_Higher education</td>\n",
       "      <td>0.081149</td>\n",
       "    </tr>\n",
       "    <tr>\n",
       "      <th>32</th>\n",
       "      <td>EXT_SOURCE_2</td>\n",
       "      <td>0.073543</td>\n",
       "    </tr>\n",
       "    <tr>\n",
       "      <th>33</th>\n",
       "      <td>EXT_SOURCE_3</td>\n",
       "      <td>0.055444</td>\n",
       "    </tr>\n",
       "    <tr>\n",
       "      <th>1</th>\n",
       "      <td>NAME_CONTRACT_TYPE</td>\n",
       "      <td>0.038445</td>\n",
       "    </tr>\n",
       "    <tr>\n",
       "      <th>2</th>\n",
       "      <td>CODE_GENDER</td>\n",
       "      <td>0.029643</td>\n",
       "    </tr>\n",
       "    <tr>\n",
       "      <th>...</th>\n",
       "      <td>...</td>\n",
       "      <td>...</td>\n",
       "    </tr>\n",
       "    <tr>\n",
       "      <th>111</th>\n",
       "      <td>ORGANIZATION_TYPE_Industry: type 2</td>\n",
       "      <td>0.000000</td>\n",
       "    </tr>\n",
       "    <tr>\n",
       "      <th>115</th>\n",
       "      <td>ORGANIZATION_TYPE_Industry: type 6</td>\n",
       "      <td>0.000000</td>\n",
       "    </tr>\n",
       "    <tr>\n",
       "      <th>117</th>\n",
       "      <td>ORGANIZATION_TYPE_Industry: type 8</td>\n",
       "      <td>0.000000</td>\n",
       "    </tr>\n",
       "    <tr>\n",
       "      <th>119</th>\n",
       "      <td>ORGANIZATION_TYPE_Insurance</td>\n",
       "      <td>0.000000</td>\n",
       "    </tr>\n",
       "    <tr>\n",
       "      <th>102</th>\n",
       "      <td>ORGANIZATION_TYPE_Emergency</td>\n",
       "      <td>0.000000</td>\n",
       "    </tr>\n",
       "  </tbody>\n",
       "</table>\n",
       "<p>156 rows × 2 columns</p>\n",
       "</div>"
      ],
      "text/plain": [
       "                                     col1      col2\n",
       "59   NAME_EDUCATION_TYPE_Higher education  0.081149\n",
       "32                           EXT_SOURCE_2  0.073543\n",
       "33                           EXT_SOURCE_3  0.055444\n",
       "1                      NAME_CONTRACT_TYPE  0.038445\n",
       "2                             CODE_GENDER  0.029643\n",
       "..                                    ...       ...\n",
       "111    ORGANIZATION_TYPE_Industry: type 2  0.000000\n",
       "115    ORGANIZATION_TYPE_Industry: type 6  0.000000\n",
       "117    ORGANIZATION_TYPE_Industry: type 8  0.000000\n",
       "119           ORGANIZATION_TYPE_Insurance  0.000000\n",
       "102           ORGANIZATION_TYPE_Emergency  0.000000\n",
       "\n",
       "[156 rows x 2 columns]"
      ]
     },
     "execution_count": 42,
     "metadata": {},
     "output_type": "execute_result"
    }
   ],
   "source": [
    "importance_series.sort_values(by='col2', ascending=False, inplace=True)\n",
    "importance_series"
   ]
  },
  {
   "cell_type": "code",
   "execution_count": 51,
   "id": "191222e4-346f-439e-9ca1-bc6c0718822c",
   "metadata": {},
   "outputs": [
    {
     "data": {
      "text/plain": [
       "59         NAME_EDUCATION_TYPE_Higher education\n",
       "32                                 EXT_SOURCE_2\n",
       "33                                 EXT_SOURCE_3\n",
       "1                            NAME_CONTRACT_TYPE\n",
       "2                                   CODE_GENDER\n",
       "                         ...                   \n",
       "85               OCCUPATION_TYPE_Medicine staff\n",
       "89                  OCCUPATION_TYPE_Secretaries\n",
       "121            ORGANIZATION_TYPE_Legal Services\n",
       "96     ORGANIZATION_TYPE_Business Entity Type 2\n",
       "101               ORGANIZATION_TYPE_Electricity\n",
       "Name: col1, Length: 117, dtype: object"
      ]
     },
     "execution_count": 51,
     "metadata": {},
     "output_type": "execute_result"
    }
   ],
   "source": [
    "importance_series[importance_series['col2']>0].col1"
   ]
  },
  {
   "cell_type": "code",
   "execution_count": 111,
   "id": "df4f77a5-c496-40d1-8ed6-ee8dd946700b",
   "metadata": {},
   "outputs": [
    {
     "data": {
      "text/plain": [
       "(128396, 20)"
      ]
     },
     "execution_count": 111,
     "metadata": {},
     "output_type": "execute_result"
    }
   ],
   "source": [
    "X_train_dp.shape"
   ]
  },
  {
   "cell_type": "code",
   "execution_count": 113,
   "id": "a19c15f4-4ff5-45f5-8cbc-0beb9ba2a8ea",
   "metadata": {},
   "outputs": [],
   "source": [
    "#try different percentage of features\n",
    "ts_dp, vs_dp = [], []#train score and valid score on different percentage of features\n",
    "for s in range(20, 116, 5):\n",
    "    #use the feature importance produced by xgb1, which is trained on n_train\n",
    "    features = list(importance_series[importance_series['col2']>0].col1)[:s]\n",
    "    train_different_per = n_train.copy()[features]\n",
    "    #split\n",
    "    X_train_dp, X_valid_dp, y_train_dp, y_valid_dp = train_test_split(\n",
    "        train_different_per, target, test_size = 0.25, stratify = target, random_state = 42\n",
    "    )\n",
    "    xgb_dp=XGBClassifier(\n",
    "    learning_rate = 0.1, \n",
    "    max_depth = 3, \n",
    "    n_estimators = 550, \n",
    "    gamma=0.5, \n",
    "    reg_lambda =0,\n",
    "    objective = 'binary:logistic',\n",
    "    eval_metric = 'auc',\n",
    "    scale_pos_weight = 1,\n",
    "    min_child_weight = 3\n",
    "    )\n",
    "    \n",
    "    xgb_dp.fit(X_train_dp, y_train_dp)\n",
    "    #produce score\n",
    "    ts_dp.append(roc_auc_score(y_train_dp, xgb_dp.predict_proba(X_train_dp)[:, 1]))\n",
    "    vs_dp.append(roc_auc_score(y_valid_dp, xgb_dp.predict_proba(X_valid_dp)[:, 1]))"
   ]
  },
  {
   "cell_type": "code",
   "execution_count": 140,
   "id": "d4d74817-a058-4aac-bf30-b1f7cd415a18",
   "metadata": {},
   "outputs": [
    {
     "data": {
      "image/png": "[encoded data removed]",
      "text/plain": [
       "<Figure size 800x600 with 1 Axes>"
      ]
     },
     "metadata": {},
     "output_type": "display_data"
    }
   ],
   "source": [
    "fig, ax = plt.subplots(figsize = (8,6))\n",
    "\n",
    "x = [s for s in range(20, 116, 5)]\n",
    "\n",
    "ax.plot(x, ts_dp, label = 'AUC score on train-set', color = 'blue')\n",
    "ax.plot(x, vs_dp, label = 'AUC score on test-set', color = 'yellow')\n",
    "\n",
    "ax.set_title('AUC score VS selected features number')\n",
    "ax.set_xlabel('Features selected')\n",
    "ax.set_ylabel('AUC score')\n",
    "ax.legend()\n",
    "\n",
    "plt.show()"
   ]
  },
  {
   "cell_type": "code",
   "execution_count": 117,
   "id": "a1e4cdbf-a196-40a3-baab-62bfb3db687d",
   "metadata": {},
   "outputs": [
    {
     "data": {
      "text/plain": [
       "2"
      ]
     },
     "execution_count": 117,
     "metadata": {},
     "output_type": "execute_result"
    }
   ],
   "source": [
    "vs_dp.index(max(vs_dp))"
   ]
  },
  {
   "cell_type": "code",
   "execution_count": 123,
   "id": "941b8416-1c4e-447d-8a73-4c2c505cdee8",
   "metadata": {},
   "outputs": [
    {
     "name": "stdout",
     "output_type": "stream",
     "text": [
      "score on train set by 25 features:0.8132176362746131\n",
      "score on train set by 25 features:0.7545468145016769\n"
     ]
    }
   ],
   "source": [
    "X_train_25, X_valid_25, y_train_25, y_valid_25 = train_test_split(\n",
    "    train_different_per, target, test_size = 0.25, stratify = target, random_state = 42\n",
    ")\n",
    "\n",
    "xgb_25=XGBClassifier(\n",
    "learning_rate = 0.1, \n",
    "max_depth = 3, \n",
    "n_estimators = 550, \n",
    "gamma=0.1, \n",
    "reg_lambda =0,\n",
    "objective = 'binary:logistic',\n",
    "eval_metric = 'auc',\n",
    "scale_pos_weight = 1,\n",
    "min_child_weight = 3\n",
    ")\n",
    "\n",
    "xgb_25.fit(X_train_25, y_train_25)\n",
    "\n",
    "print(f'score on train set by 25 features:{roc_auc_score(y_train_25, xgb_25.predict_proba(X_train_25)[:, 1])}')\n",
    "print(f'score on train set by 25 features:{roc_auc_score(y_valid_25, xgb_25.predict_proba(X_valid_25)[:, 1])}')"
   ]
  },
  {
   "cell_type": "code",
   "execution_count": 105,
   "id": "fcd85b26-ec8e-48c2-ab94-550564e352b8",
   "metadata": {},
   "outputs": [
    {
     "data": {
      "text/plain": [
       "100"
      ]
     },
     "execution_count": 105,
     "metadata": {},
     "output_type": "execute_result"
    }
   ],
   "source": [
    "l = list(importance_series[importance_series['col2']>0].col1)[:100]\n",
    "len(l)"
   ]
  },
  {
   "cell_type": "code",
   "execution_count": 106,
   "id": "af1d407c-409c-485b-8c5a-7eabdf056019",
   "metadata": {},
   "outputs": [],
   "source": [
    "s_train, s_test = n_train.copy()[l], n_test.copy()[l]\n",
    "\n",
    "X_train_sel, X_valid_sel, y_train_sel, y_valid_sel = train_test_split(\n",
    "    s_train, target, test_size = 0.3, stratify = target, random_state = 42\n",
    ")"
   ]
  },
  {
   "cell_type": "code",
   "execution_count": 81,
   "id": "ab1d7507-f97e-495c-bd3a-137e6e70efb5",
   "metadata": {},
   "outputs": [
    {
     "name": "stdout",
     "output_type": "stream",
     "text": [
      "Best Parameters: {'alpha': 0.1, 'eval_metric': 'auc', 'gamma': 0.2, 'lambda': 0.5, 'learning_rate': 0.06, 'max_depth': 3, 'n_estimators': 600, 'objective': 'binary:logistic', 'scale_pos_weight': 11.38709}\n",
      "Best AUC Score: 0.7553638007242952\n"
     ]
    }
   ],
   "source": [
    "param_grid = {\n",
    "    'max_depth': [3],\n",
    "    'learning_rate': [0.06, 0.1, 0.15],\n",
    "    'n_estimators': [600, 750,900],\n",
    "    'gamma': [0.1,0.2],\n",
    "    'alpha': [0.1, 0.2],\n",
    "    'lambda': [0.5],\n",
    "    # 'subsample':[0, 0.1,0.5,1],\n",
    "    'scale_pos_weight' : [11.38709],\n",
    "    \n",
    "    'objective':['binary:logistic'],\n",
    "    'eval_metric':['auc']\n",
    "}\n",
    "\n",
    "# \n",
    "grid_search = GridSearchCV(\n",
    "    estimator=xgb3,\n",
    "    param_grid=param_grid,\n",
    "    scoring='roc_auc',\n",
    "    cv=3\n",
    ")\n",
    "\n",
    "# \n",
    "grid_search.fit(X_train_sel, y_train_sel)\n",
    "\n",
    "# \n",
    "print(\"Best Parameters:\", grid_search.best_params_)\n",
    "print(\"Best AUC Score:\", grid_search.best_score_)"
   ]
  },
  {
   "cell_type": "code",
   "execution_count": 124,
   "id": "db755b96-0416-4007-92f4-3b946a2bbb99",
   "metadata": {},
   "outputs": [
    {
     "name": "stdout",
     "output_type": "stream",
     "text": [
      "auc on train is 0.8158341677357501\n",
      "auc on valid is  0.7573371109400656\n"
     ]
    }
   ],
   "source": [
    "xgb3 = XGBClassifier(\n",
    "    learning_rate = 0.1, \n",
    "    max_depth = 3, \n",
    "    n_estimators = 550, \n",
    "    gamma=0.5, \n",
    "    reg_lambda =0,\n",
    "    objective = 'binary:logistic',\n",
    "    eval_metric = 'auc',\n",
    "    scale_pos_weight = 1,\n",
    "    min_child_weight = 3\n",
    ")\n",
    "xgb3.fit(X_train_sel, y_train_sel)\n",
    "\n",
    "train_sel_pred = xgb3.predict_proba(X_train_sel)[:,1]\n",
    "valid_sel_pred = xgb3.predict_proba(X_valid_sel)[:,1]\n",
    "\n",
    "print(f'auc on train is {roc_auc_score(y_train_sel, train_sel_pred)}')\n",
    "print(f'auc on valid is  {roc_auc_score(y_valid_sel, valid_sel_pred)}')"
   ]
  },
  {
   "cell_type": "code",
   "execution_count": 125,
   "id": "77e1c5e6-73c6-43d3-8ca9-b526d4892492",
   "metadata": {},
   "outputs": [],
   "source": [
    "pred_test = xgb3.predict_proba(s_test)[:, 1]"
   ]
  },
  {
   "cell_type": "markdown",
   "id": "e62fd336-8053-46d6-b908-faaea32f051c",
   "metadata": {
    "jp-MarkdownHeadingCollapsed": true
   },
   "source": [
    "# COMP2-1"
   ]
  },
  {
   "cell_type": "code",
   "execution_count": 127,
   "id": "acd61760-427e-47c7-a5db-01aeed4d1b26",
   "metadata": {},
   "outputs": [],
   "source": [
    "train_opu, test_opu = train.copy(), test.copy()"
   ]
  },
  {
   "cell_type": "code",
   "execution_count": 128,
   "id": "9ec65dde-bc65-4c71-bd9d-9a6b3c2ce7c4",
   "metadata": {},
   "outputs": [
    {
     "name": "stdout",
     "output_type": "stream",
     "text": [
      "\n",
      " the value set of NAME_CONTRACT _TYPE is {0, 1}\n",
      "\n",
      " the value set of FLAG_OWN_CAR is {0, 1, 2}\n",
      "\n",
      " the value set of FLAG_OWN_REALTY is {0, 1, 2}\n"
     ]
    }
   ],
   "source": [
    "cols = ['NAME_CONTRACT_TYPE', 'FLAG_OWN_CAR', 'FLAG_OWN_REALTY']\n",
    "\n",
    "#intance\n",
    "le = LabelEncoder()\n",
    "\n",
    "#encode\n",
    "for col in cols:\n",
    "    le.fit(train_opu[col])\n",
    "    train_opu[col] = le.transform(train_opu[col])\n",
    "    test_opu[col] = le.transform(test_opu[col])\n",
    "\n",
    "print('\\n the value set of NAME_CONTRACT _TYPE is {}'.format(set(train_opu['NAME_CONTRACT_TYPE'].values)))\n",
    "print('\\n the value set of FLAG_OWN_CAR is {}'.format(set(train_opu['FLAG_OWN_CAR'].values)))\n",
    "print('\\n the value set of FLAG_OWN_REALTY is {}'.format(set(train_opu['FLAG_OWN_REALTY'].values)))"
   ]
  },
  {
   "cell_type": "code",
   "execution_count": 129,
   "id": "867cbe4b-9b72-414d-b1e1-867d013114fb",
   "metadata": {},
   "outputs": [
    {
     "name": "stdout",
     "output_type": "stream",
     "text": [
      "shape of train data(171202, 154)\n",
      "\n",
      " shape of test data(61500, 151)\n"
     ]
    }
   ],
   "source": [
    "train_opu = pd.get_dummies(train_opu, dtype=float)\n",
    "test_opu = pd.get_dummies(test_opu, dtype=float)\n",
    "print(f'shape of train data{train_opu.shape}')\n",
    "print(f'\\n shape of test data{test_opu.shape}')"
   ]
  },
  {
   "cell_type": "code",
   "execution_count": 130,
   "id": "a7425a7d-a1f9-4b45-87e7-c0e814fdcaf9",
   "metadata": {},
   "outputs": [
    {
     "name": "stdout",
     "output_type": "stream",
     "text": [
      "shape of train data(171202, 152)\n",
      "\n",
      " shape of test data(61500, 151)\n"
     ]
    }
   ],
   "source": [
    "t = train_opu['TARGET']\n",
    "\n",
    "#align\n",
    "train_opu, test_opu = train_opu.align(test_opu, join='inner', axis=1)\n",
    "\n",
    "#add back\n",
    "train_opu['TARGET'] = t\n",
    "\n",
    "print(f'shape of train data{train_opu.shape}')\n",
    "print(f'\\n shape of test data{test_opu.shape}')"
   ]
  },
  {
   "cell_type": "code",
   "execution_count": 131,
   "id": "84a5c0bb-df18-44f3-b58b-989fdf008932",
   "metadata": {},
   "outputs": [],
   "source": [
    "train_opu['CREDIT_INCOME_PERCENT'] = train_opu['AMT_CREDIT'] / train_opu['AMT_INCOME_TOTAL']\n",
    "train_opu['ANNUITY_INCOME_PERCENT'] = train_opu['AMT_ANNUITY'] / train_opu['AMT_INCOME_TOTAL']\n",
    "train_opu['CREDIT_TERM'] = train_opu['AMT_ANNUITY'] / train_opu['AMT_CREDIT']\n",
    "train_opu['DAYS_EMPLOYED_PERCENT'] = train_opu['DAYS_EMPLOYED'] / train_opu['DAYS_BIRTH']\n",
    "test_opu['CREDIT_INCOME_PERCENT'] = test_opu['AMT_CREDIT'] / test_opu['AMT_INCOME_TOTAL']\n",
    "test_opu['ANNUITY_INCOME_PERCENT'] = test_opu['AMT_ANNUITY'] / test_opu['AMT_INCOME_TOTAL']\n",
    "test_opu['CREDIT_TERM'] = test_opu['AMT_ANNUITY'] / test_opu['AMT_CREDIT']\n",
    "test_opu['DAYS_EMPLOYED_PERCENT'] =test_opu['DAYS_EMPLOYED'] / test_opu['DAYS_BIRTH']\n",
    "test_opu['DAYS_EMPLOYED'] = test_opu['DAYS_EMPLOYED'].replace(365243, np.nan)\n",
    "train_opu['DAYS_EMPLOYED'] = train_opu['DAYS_EMPLOYED'].replace(365243, np.nan)"
   ]
  },
  {
   "cell_type": "code",
   "execution_count": 132,
   "id": "cdc8595c-0999-4ec7-af6c-653864cc7c2a",
   "metadata": {},
   "outputs": [],
   "source": [
    "y = train_opu.TARGET\n",
    "X = train_opu.drop(columns = 'TARGET')"
   ]
  },
  {
   "cell_type": "code",
   "execution_count": 133,
   "id": "68c3957a-00a5-4ead-8cad-cf775e295a9d",
   "metadata": {},
   "outputs": [
    {
     "name": "stdout",
     "output_type": "stream",
     "text": [
      "(171202, 155)\n",
      "(171202,)\n"
     ]
    }
   ],
   "source": [
    "print(X.shape)\n",
    "print(y.shape)"
   ]
  },
  {
   "cell_type": "code",
   "execution_count": 134,
   "id": "e5b883c3-7403-4726-9caa-d55ac3c48b37",
   "metadata": {},
   "outputs": [],
   "source": [
    "X_train2, X_valid2, y_train2, y_valid2 = train_test_split(\n",
    "    X, y, stratify = y, test_size = 0.3, random_state = 42\n",
    ")"
   ]
  },
  {
   "cell_type": "code",
   "execution_count": 135,
   "id": "b1e75402-0473-4133-b7e8-ca3e936440fa",
   "metadata": {},
   "outputs": [
    {
     "ename": "KeyboardInterrupt",
     "evalue": "",
     "output_type": "error",
     "traceback": [
      "\u001b[1;31m---------------------------------------------------------------------------\u001b[0m",
      "\u001b[1;31mKeyboardInterrupt\u001b[0m                         Traceback (most recent call last)",
      "Cell \u001b[1;32mIn[135], line 20\u001b[0m\n\u001b[0;32m     12\u001b[0m grid_search \u001b[38;5;241m=\u001b[39m GridSearchCV(\n\u001b[0;32m     13\u001b[0m     estimator\u001b[38;5;241m=\u001b[39mxgb2,\n\u001b[0;32m     14\u001b[0m     param_grid\u001b[38;5;241m=\u001b[39mparam_grid,\n\u001b[0;32m     15\u001b[0m     scoring\u001b[38;5;241m=\u001b[39m\u001b[38;5;124m'\u001b[39m\u001b[38;5;124mroc_auc\u001b[39m\u001b[38;5;124m'\u001b[39m,\n\u001b[0;32m     16\u001b[0m     cv\u001b[38;5;241m=\u001b[39m\u001b[38;5;241m3\u001b[39m\n\u001b[0;32m     17\u001b[0m )\n\u001b[0;32m     19\u001b[0m \u001b[38;5;66;03m# \u001b[39;00m\n\u001b[1;32m---> 20\u001b[0m grid_search\u001b[38;5;241m.\u001b[39mfit(X_train2, y_train2)\n\u001b[0;32m     22\u001b[0m \u001b[38;5;66;03m# \u001b[39;00m\n\u001b[0;32m     23\u001b[0m \u001b[38;5;28mprint\u001b[39m(\u001b[38;5;124m\"\u001b[39m\u001b[38;5;124mBest Parameters:\u001b[39m\u001b[38;5;124m\"\u001b[39m, grid_search\u001b[38;5;241m.\u001b[39mbest_params_)\n",
      "File \u001b[1;32mD:\\Apps\\miniconda3\\envs\\dl\\Lib\\site-packages\\sklearn\\base.py:1473\u001b[0m, in \u001b[0;36m_fit_context.<locals>.decorator.<locals>.wrapper\u001b[1;34m(estimator, *args, **kwargs)\u001b[0m\n\u001b[0;32m   1466\u001b[0m     estimator\u001b[38;5;241m.\u001b[39m_validate_params()\n\u001b[0;32m   1468\u001b[0m \u001b[38;5;28;01mwith\u001b[39;00m config_context(\n\u001b[0;32m   1469\u001b[0m     skip_parameter_validation\u001b[38;5;241m=\u001b[39m(\n\u001b[0;32m   1470\u001b[0m         prefer_skip_nested_validation \u001b[38;5;129;01mor\u001b[39;00m global_skip_validation\n\u001b[0;32m   1471\u001b[0m     )\n\u001b[0;32m   1472\u001b[0m ):\n\u001b[1;32m-> 1473\u001b[0m     \u001b[38;5;28;01mreturn\u001b[39;00m fit_method(estimator, \u001b[38;5;241m*\u001b[39margs, \u001b[38;5;241m*\u001b[39m\u001b[38;5;241m*\u001b[39mkwargs)\n",
      "File \u001b[1;32mD:\\Apps\\miniconda3\\envs\\dl\\Lib\\site-packages\\sklearn\\model_selection\\_search.py:1019\u001b[0m, in \u001b[0;36mBaseSearchCV.fit\u001b[1;34m(self, X, y, **params)\u001b[0m\n\u001b[0;32m   1013\u001b[0m     results \u001b[38;5;241m=\u001b[39m \u001b[38;5;28mself\u001b[39m\u001b[38;5;241m.\u001b[39m_format_results(\n\u001b[0;32m   1014\u001b[0m         all_candidate_params, n_splits, all_out, all_more_results\n\u001b[0;32m   1015\u001b[0m     )\n\u001b[0;32m   1017\u001b[0m     \u001b[38;5;28;01mreturn\u001b[39;00m results\n\u001b[1;32m-> 1019\u001b[0m \u001b[38;5;28mself\u001b[39m\u001b[38;5;241m.\u001b[39m_run_search(evaluate_candidates)\n\u001b[0;32m   1021\u001b[0m \u001b[38;5;66;03m# multimetric is determined here because in the case of a callable\u001b[39;00m\n\u001b[0;32m   1022\u001b[0m \u001b[38;5;66;03m# self.scoring the return type is only known after calling\u001b[39;00m\n\u001b[0;32m   1023\u001b[0m first_test_score \u001b[38;5;241m=\u001b[39m all_out[\u001b[38;5;241m0\u001b[39m][\u001b[38;5;124m\"\u001b[39m\u001b[38;5;124mtest_scores\u001b[39m\u001b[38;5;124m\"\u001b[39m]\n",
      "File \u001b[1;32mD:\\Apps\\miniconda3\\envs\\dl\\Lib\\site-packages\\sklearn\\model_selection\\_search.py:1573\u001b[0m, in \u001b[0;36mGridSearchCV._run_search\u001b[1;34m(self, evaluate_candidates)\u001b[0m\n\u001b[0;32m   1571\u001b[0m \u001b[38;5;28;01mdef\u001b[39;00m \u001b[38;5;21m_run_search\u001b[39m(\u001b[38;5;28mself\u001b[39m, evaluate_candidates):\n\u001b[0;32m   1572\u001b[0m \u001b[38;5;250m    \u001b[39m\u001b[38;5;124;03m\"\"\"Search all candidates in param_grid\"\"\"\u001b[39;00m\n\u001b[1;32m-> 1573\u001b[0m     evaluate_candidates(ParameterGrid(\u001b[38;5;28mself\u001b[39m\u001b[38;5;241m.\u001b[39mparam_grid))\n",
      "File \u001b[1;32mD:\\Apps\\miniconda3\\envs\\dl\\Lib\\site-packages\\sklearn\\model_selection\\_search.py:965\u001b[0m, in \u001b[0;36mBaseSearchCV.fit.<locals>.evaluate_candidates\u001b[1;34m(candidate_params, cv, more_results)\u001b[0m\n\u001b[0;32m    957\u001b[0m \u001b[38;5;28;01mif\u001b[39;00m \u001b[38;5;28mself\u001b[39m\u001b[38;5;241m.\u001b[39mverbose \u001b[38;5;241m>\u001b[39m \u001b[38;5;241m0\u001b[39m:\n\u001b[0;32m    958\u001b[0m     \u001b[38;5;28mprint\u001b[39m(\n\u001b[0;32m    959\u001b[0m         \u001b[38;5;124m\"\u001b[39m\u001b[38;5;124mFitting \u001b[39m\u001b[38;5;132;01m{0}\u001b[39;00m\u001b[38;5;124m folds for each of \u001b[39m\u001b[38;5;132;01m{1}\u001b[39;00m\u001b[38;5;124m candidates,\u001b[39m\u001b[38;5;124m\"\u001b[39m\n\u001b[0;32m    960\u001b[0m         \u001b[38;5;124m\"\u001b[39m\u001b[38;5;124m totalling \u001b[39m\u001b[38;5;132;01m{2}\u001b[39;00m\u001b[38;5;124m fits\u001b[39m\u001b[38;5;124m\"\u001b[39m\u001b[38;5;241m.\u001b[39mformat(\n\u001b[0;32m    961\u001b[0m             n_splits, n_candidates, n_candidates \u001b[38;5;241m*\u001b[39m n_splits\n\u001b[0;32m    962\u001b[0m         )\n\u001b[0;32m    963\u001b[0m     )\n\u001b[1;32m--> 965\u001b[0m out \u001b[38;5;241m=\u001b[39m parallel(\n\u001b[0;32m    966\u001b[0m     delayed(_fit_and_score)(\n\u001b[0;32m    967\u001b[0m         clone(base_estimator),\n\u001b[0;32m    968\u001b[0m         X,\n\u001b[0;32m    969\u001b[0m         y,\n\u001b[0;32m    970\u001b[0m         train\u001b[38;5;241m=\u001b[39mtrain,\n\u001b[0;32m    971\u001b[0m         test\u001b[38;5;241m=\u001b[39mtest,\n\u001b[0;32m    972\u001b[0m         parameters\u001b[38;5;241m=\u001b[39mparameters,\n\u001b[0;32m    973\u001b[0m         split_progress\u001b[38;5;241m=\u001b[39m(split_idx, n_splits),\n\u001b[0;32m    974\u001b[0m         candidate_progress\u001b[38;5;241m=\u001b[39m(cand_idx, n_candidates),\n\u001b[0;32m    975\u001b[0m         \u001b[38;5;241m*\u001b[39m\u001b[38;5;241m*\u001b[39mfit_and_score_kwargs,\n\u001b[0;32m    976\u001b[0m     )\n\u001b[0;32m    977\u001b[0m     \u001b[38;5;28;01mfor\u001b[39;00m (cand_idx, parameters), (split_idx, (train, test)) \u001b[38;5;129;01min\u001b[39;00m product(\n\u001b[0;32m    978\u001b[0m         \u001b[38;5;28menumerate\u001b[39m(candidate_params),\n\u001b[0;32m    979\u001b[0m         \u001b[38;5;28menumerate\u001b[39m(cv\u001b[38;5;241m.\u001b[39msplit(X, y, \u001b[38;5;241m*\u001b[39m\u001b[38;5;241m*\u001b[39mrouted_params\u001b[38;5;241m.\u001b[39msplitter\u001b[38;5;241m.\u001b[39msplit)),\n\u001b[0;32m    980\u001b[0m     )\n\u001b[0;32m    981\u001b[0m )\n\u001b[0;32m    983\u001b[0m \u001b[38;5;28;01mif\u001b[39;00m \u001b[38;5;28mlen\u001b[39m(out) \u001b[38;5;241m<\u001b[39m \u001b[38;5;241m1\u001b[39m:\n\u001b[0;32m    984\u001b[0m     \u001b[38;5;28;01mraise\u001b[39;00m \u001b[38;5;167;01mValueError\u001b[39;00m(\n\u001b[0;32m    985\u001b[0m         \u001b[38;5;124m\"\u001b[39m\u001b[38;5;124mNo fits were performed. \u001b[39m\u001b[38;5;124m\"\u001b[39m\n\u001b[0;32m    986\u001b[0m         \u001b[38;5;124m\"\u001b[39m\u001b[38;5;124mWas the CV iterator empty? \u001b[39m\u001b[38;5;124m\"\u001b[39m\n\u001b[0;32m    987\u001b[0m         \u001b[38;5;124m\"\u001b[39m\u001b[38;5;124mWere there no candidates?\u001b[39m\u001b[38;5;124m\"\u001b[39m\n\u001b[0;32m    988\u001b[0m     )\n",
      "File \u001b[1;32mD:\\Apps\\miniconda3\\envs\\dl\\Lib\\site-packages\\sklearn\\utils\\parallel.py:74\u001b[0m, in \u001b[0;36mParallel.__call__\u001b[1;34m(self, iterable)\u001b[0m\n\u001b[0;32m     69\u001b[0m config \u001b[38;5;241m=\u001b[39m get_config()\n\u001b[0;32m     70\u001b[0m iterable_with_config \u001b[38;5;241m=\u001b[39m (\n\u001b[0;32m     71\u001b[0m     (_with_config(delayed_func, config), args, kwargs)\n\u001b[0;32m     72\u001b[0m     \u001b[38;5;28;01mfor\u001b[39;00m delayed_func, args, kwargs \u001b[38;5;129;01min\u001b[39;00m iterable\n\u001b[0;32m     73\u001b[0m )\n\u001b[1;32m---> 74\u001b[0m \u001b[38;5;28;01mreturn\u001b[39;00m \u001b[38;5;28msuper\u001b[39m()\u001b[38;5;241m.\u001b[39m\u001b[38;5;21m__call__\u001b[39m(iterable_with_config)\n",
      "File \u001b[1;32mD:\\Apps\\miniconda3\\envs\\dl\\Lib\\site-packages\\joblib\\parallel.py:1918\u001b[0m, in \u001b[0;36mParallel.__call__\u001b[1;34m(self, iterable)\u001b[0m\n\u001b[0;32m   1916\u001b[0m     output \u001b[38;5;241m=\u001b[39m \u001b[38;5;28mself\u001b[39m\u001b[38;5;241m.\u001b[39m_get_sequential_output(iterable)\n\u001b[0;32m   1917\u001b[0m     \u001b[38;5;28mnext\u001b[39m(output)\n\u001b[1;32m-> 1918\u001b[0m     \u001b[38;5;28;01mreturn\u001b[39;00m output \u001b[38;5;28;01mif\u001b[39;00m \u001b[38;5;28mself\u001b[39m\u001b[38;5;241m.\u001b[39mreturn_generator \u001b[38;5;28;01melse\u001b[39;00m \u001b[38;5;28mlist\u001b[39m(output)\n\u001b[0;32m   1920\u001b[0m \u001b[38;5;66;03m# Let's create an ID that uniquely identifies the current call. If the\u001b[39;00m\n\u001b[0;32m   1921\u001b[0m \u001b[38;5;66;03m# call is interrupted early and that the same instance is immediately\u001b[39;00m\n\u001b[0;32m   1922\u001b[0m \u001b[38;5;66;03m# re-used, this id will be used to prevent workers that were\u001b[39;00m\n\u001b[0;32m   1923\u001b[0m \u001b[38;5;66;03m# concurrently finalizing a task from the previous call to run the\u001b[39;00m\n\u001b[0;32m   1924\u001b[0m \u001b[38;5;66;03m# callback.\u001b[39;00m\n\u001b[0;32m   1925\u001b[0m \u001b[38;5;28;01mwith\u001b[39;00m \u001b[38;5;28mself\u001b[39m\u001b[38;5;241m.\u001b[39m_lock:\n",
      "File \u001b[1;32mD:\\Apps\\miniconda3\\envs\\dl\\Lib\\site-packages\\joblib\\parallel.py:1847\u001b[0m, in \u001b[0;36mParallel._get_sequential_output\u001b[1;34m(self, iterable)\u001b[0m\n\u001b[0;32m   1845\u001b[0m \u001b[38;5;28mself\u001b[39m\u001b[38;5;241m.\u001b[39mn_dispatched_batches \u001b[38;5;241m+\u001b[39m\u001b[38;5;241m=\u001b[39m \u001b[38;5;241m1\u001b[39m\n\u001b[0;32m   1846\u001b[0m \u001b[38;5;28mself\u001b[39m\u001b[38;5;241m.\u001b[39mn_dispatched_tasks \u001b[38;5;241m+\u001b[39m\u001b[38;5;241m=\u001b[39m \u001b[38;5;241m1\u001b[39m\n\u001b[1;32m-> 1847\u001b[0m res \u001b[38;5;241m=\u001b[39m func(\u001b[38;5;241m*\u001b[39margs, \u001b[38;5;241m*\u001b[39m\u001b[38;5;241m*\u001b[39mkwargs)\n\u001b[0;32m   1848\u001b[0m \u001b[38;5;28mself\u001b[39m\u001b[38;5;241m.\u001b[39mn_completed_tasks \u001b[38;5;241m+\u001b[39m\u001b[38;5;241m=\u001b[39m \u001b[38;5;241m1\u001b[39m\n\u001b[0;32m   1849\u001b[0m \u001b[38;5;28mself\u001b[39m\u001b[38;5;241m.\u001b[39mprint_progress()\n",
      "File \u001b[1;32mD:\\Apps\\miniconda3\\envs\\dl\\Lib\\site-packages\\sklearn\\utils\\parallel.py:136\u001b[0m, in \u001b[0;36m_FuncWrapper.__call__\u001b[1;34m(self, *args, **kwargs)\u001b[0m\n\u001b[0;32m    134\u001b[0m     config \u001b[38;5;241m=\u001b[39m {}\n\u001b[0;32m    135\u001b[0m \u001b[38;5;28;01mwith\u001b[39;00m config_context(\u001b[38;5;241m*\u001b[39m\u001b[38;5;241m*\u001b[39mconfig):\n\u001b[1;32m--> 136\u001b[0m     \u001b[38;5;28;01mreturn\u001b[39;00m \u001b[38;5;28mself\u001b[39m\u001b[38;5;241m.\u001b[39mfunction(\u001b[38;5;241m*\u001b[39margs, \u001b[38;5;241m*\u001b[39m\u001b[38;5;241m*\u001b[39mkwargs)\n",
      "File \u001b[1;32mD:\\Apps\\miniconda3\\envs\\dl\\Lib\\site-packages\\sklearn\\model_selection\\_validation.py:888\u001b[0m, in \u001b[0;36m_fit_and_score\u001b[1;34m(estimator, X, y, scorer, train, test, verbose, parameters, fit_params, score_params, return_train_score, return_parameters, return_n_test_samples, return_times, return_estimator, split_progress, candidate_progress, error_score)\u001b[0m\n\u001b[0;32m    886\u001b[0m         estimator\u001b[38;5;241m.\u001b[39mfit(X_train, \u001b[38;5;241m*\u001b[39m\u001b[38;5;241m*\u001b[39mfit_params)\n\u001b[0;32m    887\u001b[0m     \u001b[38;5;28;01melse\u001b[39;00m:\n\u001b[1;32m--> 888\u001b[0m         estimator\u001b[38;5;241m.\u001b[39mfit(X_train, y_train, \u001b[38;5;241m*\u001b[39m\u001b[38;5;241m*\u001b[39mfit_params)\n\u001b[0;32m    890\u001b[0m \u001b[38;5;28;01mexcept\u001b[39;00m \u001b[38;5;167;01mException\u001b[39;00m:\n\u001b[0;32m    891\u001b[0m     \u001b[38;5;66;03m# Note fit time as time until error\u001b[39;00m\n\u001b[0;32m    892\u001b[0m     fit_time \u001b[38;5;241m=\u001b[39m time\u001b[38;5;241m.\u001b[39mtime() \u001b[38;5;241m-\u001b[39m start_time\n",
      "File \u001b[1;32mD:\\Apps\\miniconda3\\envs\\dl\\Lib\\site-packages\\xgboost\\core.py:726\u001b[0m, in \u001b[0;36mrequire_keyword_args.<locals>.throw_if.<locals>.inner_f\u001b[1;34m(*args, **kwargs)\u001b[0m\n\u001b[0;32m    724\u001b[0m \u001b[38;5;28;01mfor\u001b[39;00m k, arg \u001b[38;5;129;01min\u001b[39;00m \u001b[38;5;28mzip\u001b[39m(sig\u001b[38;5;241m.\u001b[39mparameters, args):\n\u001b[0;32m    725\u001b[0m     kwargs[k] \u001b[38;5;241m=\u001b[39m arg\n\u001b[1;32m--> 726\u001b[0m \u001b[38;5;28;01mreturn\u001b[39;00m func(\u001b[38;5;241m*\u001b[39m\u001b[38;5;241m*\u001b[39mkwargs)\n",
      "File \u001b[1;32mD:\\Apps\\miniconda3\\envs\\dl\\Lib\\site-packages\\xgboost\\sklearn.py:1531\u001b[0m, in \u001b[0;36mXGBClassifier.fit\u001b[1;34m(self, X, y, sample_weight, base_margin, eval_set, verbose, xgb_model, sample_weight_eval_set, base_margin_eval_set, feature_weights)\u001b[0m\n\u001b[0;32m   1511\u001b[0m model, metric, params \u001b[38;5;241m=\u001b[39m \u001b[38;5;28mself\u001b[39m\u001b[38;5;241m.\u001b[39m_configure_fit(xgb_model, params)\n\u001b[0;32m   1512\u001b[0m train_dmatrix, evals \u001b[38;5;241m=\u001b[39m _wrap_evaluation_matrices(\n\u001b[0;32m   1513\u001b[0m     missing\u001b[38;5;241m=\u001b[39m\u001b[38;5;28mself\u001b[39m\u001b[38;5;241m.\u001b[39mmissing,\n\u001b[0;32m   1514\u001b[0m     X\u001b[38;5;241m=\u001b[39mX,\n\u001b[1;32m   (...)\u001b[0m\n\u001b[0;32m   1528\u001b[0m     feature_types\u001b[38;5;241m=\u001b[39m\u001b[38;5;28mself\u001b[39m\u001b[38;5;241m.\u001b[39mfeature_types,\n\u001b[0;32m   1529\u001b[0m )\n\u001b[1;32m-> 1531\u001b[0m \u001b[38;5;28mself\u001b[39m\u001b[38;5;241m.\u001b[39m_Booster \u001b[38;5;241m=\u001b[39m train(\n\u001b[0;32m   1532\u001b[0m     params,\n\u001b[0;32m   1533\u001b[0m     train_dmatrix,\n\u001b[0;32m   1534\u001b[0m     \u001b[38;5;28mself\u001b[39m\u001b[38;5;241m.\u001b[39mget_num_boosting_rounds(),\n\u001b[0;32m   1535\u001b[0m     evals\u001b[38;5;241m=\u001b[39mevals,\n\u001b[0;32m   1536\u001b[0m     early_stopping_rounds\u001b[38;5;241m=\u001b[39m\u001b[38;5;28mself\u001b[39m\u001b[38;5;241m.\u001b[39mearly_stopping_rounds,\n\u001b[0;32m   1537\u001b[0m     evals_result\u001b[38;5;241m=\u001b[39mevals_result,\n\u001b[0;32m   1538\u001b[0m     obj\u001b[38;5;241m=\u001b[39mobj,\n\u001b[0;32m   1539\u001b[0m     custom_metric\u001b[38;5;241m=\u001b[39mmetric,\n\u001b[0;32m   1540\u001b[0m     verbose_eval\u001b[38;5;241m=\u001b[39mverbose,\n\u001b[0;32m   1541\u001b[0m     xgb_model\u001b[38;5;241m=\u001b[39mmodel,\n\u001b[0;32m   1542\u001b[0m     callbacks\u001b[38;5;241m=\u001b[39m\u001b[38;5;28mself\u001b[39m\u001b[38;5;241m.\u001b[39mcallbacks,\n\u001b[0;32m   1543\u001b[0m )\n\u001b[0;32m   1545\u001b[0m \u001b[38;5;28;01mif\u001b[39;00m \u001b[38;5;129;01mnot\u001b[39;00m \u001b[38;5;28mcallable\u001b[39m(\u001b[38;5;28mself\u001b[39m\u001b[38;5;241m.\u001b[39mobjective):\n\u001b[0;32m   1546\u001b[0m     \u001b[38;5;28mself\u001b[39m\u001b[38;5;241m.\u001b[39mobjective \u001b[38;5;241m=\u001b[39m params[\u001b[38;5;124m\"\u001b[39m\u001b[38;5;124mobjective\u001b[39m\u001b[38;5;124m\"\u001b[39m]\n",
      "File \u001b[1;32mD:\\Apps\\miniconda3\\envs\\dl\\Lib\\site-packages\\xgboost\\core.py:726\u001b[0m, in \u001b[0;36mrequire_keyword_args.<locals>.throw_if.<locals>.inner_f\u001b[1;34m(*args, **kwargs)\u001b[0m\n\u001b[0;32m    724\u001b[0m \u001b[38;5;28;01mfor\u001b[39;00m k, arg \u001b[38;5;129;01min\u001b[39;00m \u001b[38;5;28mzip\u001b[39m(sig\u001b[38;5;241m.\u001b[39mparameters, args):\n\u001b[0;32m    725\u001b[0m     kwargs[k] \u001b[38;5;241m=\u001b[39m arg\n\u001b[1;32m--> 726\u001b[0m \u001b[38;5;28;01mreturn\u001b[39;00m func(\u001b[38;5;241m*\u001b[39m\u001b[38;5;241m*\u001b[39mkwargs)\n",
      "File \u001b[1;32mD:\\Apps\\miniconda3\\envs\\dl\\Lib\\site-packages\\xgboost\\training.py:181\u001b[0m, in \u001b[0;36mtrain\u001b[1;34m(params, dtrain, num_boost_round, evals, obj, feval, maximize, early_stopping_rounds, evals_result, verbose_eval, xgb_model, callbacks, custom_metric)\u001b[0m\n\u001b[0;32m    179\u001b[0m \u001b[38;5;28;01mif\u001b[39;00m cb_container\u001b[38;5;241m.\u001b[39mbefore_iteration(bst, i, dtrain, evals):\n\u001b[0;32m    180\u001b[0m     \u001b[38;5;28;01mbreak\u001b[39;00m\n\u001b[1;32m--> 181\u001b[0m bst\u001b[38;5;241m.\u001b[39mupdate(dtrain, iteration\u001b[38;5;241m=\u001b[39mi, fobj\u001b[38;5;241m=\u001b[39mobj)\n\u001b[0;32m    182\u001b[0m \u001b[38;5;28;01mif\u001b[39;00m cb_container\u001b[38;5;241m.\u001b[39mafter_iteration(bst, i, dtrain, evals):\n\u001b[0;32m    183\u001b[0m     \u001b[38;5;28;01mbreak\u001b[39;00m\n",
      "File \u001b[1;32mD:\\Apps\\miniconda3\\envs\\dl\\Lib\\site-packages\\xgboost\\core.py:2101\u001b[0m, in \u001b[0;36mBooster.update\u001b[1;34m(self, dtrain, iteration, fobj)\u001b[0m\n\u001b[0;32m   2097\u001b[0m \u001b[38;5;28mself\u001b[39m\u001b[38;5;241m.\u001b[39m_assign_dmatrix_features(dtrain)\n\u001b[0;32m   2099\u001b[0m \u001b[38;5;28;01mif\u001b[39;00m fobj \u001b[38;5;129;01mis\u001b[39;00m \u001b[38;5;28;01mNone\u001b[39;00m:\n\u001b[0;32m   2100\u001b[0m     _check_call(\n\u001b[1;32m-> 2101\u001b[0m         _LIB\u001b[38;5;241m.\u001b[39mXGBoosterUpdateOneIter(\n\u001b[0;32m   2102\u001b[0m             \u001b[38;5;28mself\u001b[39m\u001b[38;5;241m.\u001b[39mhandle, ctypes\u001b[38;5;241m.\u001b[39mc_int(iteration), dtrain\u001b[38;5;241m.\u001b[39mhandle\n\u001b[0;32m   2103\u001b[0m         )\n\u001b[0;32m   2104\u001b[0m     )\n\u001b[0;32m   2105\u001b[0m \u001b[38;5;28;01melse\u001b[39;00m:\n\u001b[0;32m   2106\u001b[0m     pred \u001b[38;5;241m=\u001b[39m \u001b[38;5;28mself\u001b[39m\u001b[38;5;241m.\u001b[39mpredict(dtrain, output_margin\u001b[38;5;241m=\u001b[39m\u001b[38;5;28;01mTrue\u001b[39;00m, training\u001b[38;5;241m=\u001b[39m\u001b[38;5;28;01mTrue\u001b[39;00m)\n",
      "\u001b[1;31mKeyboardInterrupt\u001b[0m: "
     ]
    }
   ],
   "source": [
    "xgb2 = XGBClassifier()\n",
    "\n",
    "# 定义超参数网格\n",
    "param_grid = {\n",
    "    'max_depth': [3],\n",
    "    'learning_rate': [0.01, 0.05, 0.1, 0.15, 0.2],\n",
    "    'n_estimators': [700, 850, 1000],\n",
    "    'gamma': [0, 0.1, 0.2, 0.3, 0.4],\n",
    "}\n",
    "\n",
    "# \n",
    "grid_search = GridSearchCV(\n",
    "    estimator=xgb2,\n",
    "    param_grid=param_grid,\n",
    "    scoring='roc_auc',\n",
    "    cv=3\n",
    ")\n",
    "\n",
    "# \n",
    "grid_search.fit(X_train2, y_train2)\n",
    "\n",
    "# \n",
    "print(\"Best Parameters:\", grid_search.best_params_)\n",
    "print(\"Best AUC Score:\", grid_search.best_score_)"
   ]
  },
  {
   "cell_type": "code",
   "execution_count": 136,
   "id": "d7d573a0-2e70-43e7-9041-246edb640dfc",
   "metadata": {},
   "outputs": [
    {
     "name": "stdout",
     "output_type": "stream",
     "text": [
      "auc on train is 0.8183105190424167)\n",
      "auc on train is 0.7622913810075012)\n"
     ]
    }
   ],
   "source": [
    "#learning_rate = 0.06, max_depth = 3, n_estimators = 1000, gamma = 0.1->0.7622\n",
    "xgb2 = XGBClassifier(learning_rate = 0.055, max_depth = 3, n_estimators = 1200)\n",
    "\n",
    "xgb2.fit(X_train2, y_train2)\n",
    "\n",
    "pred_train2 = xgb2.predict_proba(X_train2)[:, 1]\n",
    "pred_valid2 = xgb2.predict_proba(X_valid2)[:, 1]\n",
    "\n",
    "print(f'auc on train is {roc_auc_score(y_train2, pred_train2)})')\n",
    "print(f'auc on train is {roc_auc_score(y_valid2, pred_valid2)})')"
   ]
  },
  {
   "cell_type": "code",
   "execution_count": 137,
   "id": "4ce607bf-0273-4e1a-91ad-5b4a9b663017",
   "metadata": {},
   "outputs": [],
   "source": [
    "pred_test2 = xgb2.predict_proba(test_opu)[:,1]"
   ]
  },
  {
   "cell_type": "code",
   "execution_count": 138,
   "id": "78673e0b-3d37-4496-a432-84d9c8e4a25c",
   "metadata": {},
   "outputs": [],
   "source": [
    "pred = 0.4 * pred_test + 0.6 * pred_test2"
   ]
  },
  {
   "cell_type": "code",
   "execution_count": 139,
   "id": "0a36093d-ed32-4eaa-ab05-bb74d1bf5c77",
   "metadata": {},
   "outputs": [],
   "source": [
    "sam = pd.read_csv('./input/sample_submission.csv')\n",
    "sam['TARGET'] = pred\n",
    "sam.to_csv('sub_merge1.csv', index=False)"
   ]
  },
  {
   "cell_type": "markdown",
   "id": "6aa74250-ca3d-4ea7-a8ec-8d4a019c3476",
   "metadata": {
    "jp-MarkdownHeadingCollapsed": true
   },
   "source": [
    "# Pick features without NaN to make prediction"
   ]
  },
  {
   "cell_type": "code",
   "execution_count": 3,
   "id": "7ce984a4-dc32-4543-be1c-b83089e7e327",
   "metadata": {},
   "outputs": [],
   "source": [
    "#nan in train and test\n",
    "nan_feature_train = train.isna().any()\n",
    "nan_feature_test = test.isna().any()"
   ]
  },
  {
   "cell_type": "code",
   "execution_count": 4,
   "id": "4a1aa185-c39e-4078-b872-638c2015169d",
   "metadata": {},
   "outputs": [
    {
     "name": "stdout",
     "output_type": "stream",
     "text": [
      "the number of feature do no contain nan is 31\n",
      "the number of feature do contain nan is 20\n"
     ]
    }
   ],
   "source": [
    "#pick the feature with no NaN included in training data\n",
    "train_goodfea, train_nafea = [], []\n",
    "for index, value in nan_feature_train.items():\n",
    "    #if value is False, which means no NaN included\n",
    "    if not value:\n",
    "        train_goodfea.append(index)\n",
    "    #value is true\n",
    "    elif value:\n",
    "        train_nafea.append(index)\n",
    "        \n",
    "print(f'the number of feature do no contain nan is {len(train_goodfea)}')\n",
    "print(f'the number of feature do contain nan is {len(train_nafea)}')"
   ]
  },
  {
   "cell_type": "code",
   "execution_count": 5,
   "id": "717ad9e5-c16e-4e2c-bcd0-4ab27e83965c",
   "metadata": {},
   "outputs": [
    {
     "name": "stdout",
     "output_type": "stream",
     "text": [
      "the number of feature do no contain nan is 32\n",
      "the number of feature do contain nan is 18\n"
     ]
    }
   ],
   "source": [
    "#pick the feature with no NaN included in testing data\n",
    "test_goodfea, test_nafea = [], []\n",
    "for index, value in nan_feature_test.items():\n",
    "    #if value is False, which means no NaN included\n",
    "    if not value:\n",
    "        test_goodfea.append(index)\n",
    "    #value is true\n",
    "    elif value:\n",
    "        test_nafea.append(index)\n",
    "        \n",
    "print(f'the number of feature do no contain nan is {len(test_goodfea)}')\n",
    "print(f'the number of feature do contain nan is {len(test_nafea)}')"
   ]
  },
  {
   "cell_type": "code",
   "execution_count": 6,
   "id": "e8046ca1-6bea-4c36-aa89-018b00fd46ad",
   "metadata": {},
   "outputs": [
    {
     "name": "stdout",
     "output_type": "stream",
     "text": [
      "{'CNT_FAM_MEMBERS', 'DAYS_LAST_PHONE_CHANGE'} has no nan in test data while has nan in train data\n"
     ]
    }
   ],
   "source": [
    "s1 = set(np.array(train_goodfea))\n",
    "s2 = set(np.array(test_goodfea))\n",
    "print(f'{str(s2-s1)} has no nan in test data while has nan in train data')"
   ]
  },
  {
   "cell_type": "code",
   "execution_count": 7,
   "id": "3fe7e2b3-9a5b-405a-b56b-184bb4dfb515",
   "metadata": {},
   "outputs": [
    {
     "name": "stdout",
     "output_type": "stream",
     "text": [
      "the number of shared features without nan is 30\n",
      "\n",
      " {'FLAG_WORK_PHONE', 'FLAG_EMAIL', 'REG_CITY_NOT_LIVE_CITY', 'NAME_EDUCATION_TYPE', 'ORGANIZATION_TYPE', 'NAME_CONTRACT_TYPE', 'NAME_INCOME_TYPE', 'FLAG_EMP_PHONE', 'DAYS_ID_PUBLISH', 'SK_ID_CURR', 'AMT_INCOME_TOTAL', 'NAME_HOUSING_TYPE', 'REGION_POPULATION_RELATIVE', 'REG_CITY_NOT_WORK_CITY', 'LIVE_CITY_NOT_WORK_CITY', 'CODE_GENDER', 'DAYS_REGISTRATION', 'CNT_CHILDREN', 'FLAG_PHONE', 'NAME_FAMILY_STATUS', 'AMT_CREDIT', 'FLAG_CONT_MOBILE', 'REG_REGION_NOT_WORK_REGION', 'FLAG_MOBIL', 'REG_REGION_NOT_LIVE_REGION', 'REGION_RATING_CLIENT_W_CITY', 'DAYS_BIRTH', 'LIVE_REGION_NOT_WORK_REGION', 'REGION_RATING_CLIENT', 'DAYS_EMPLOYED'}\n"
     ]
    }
   ],
   "source": [
    "s3 = s1 & s2\n",
    "print(f'the number of shared features without nan is {len(list(s3))}')\n",
    "print(f'\\n {s3}')"
   ]
  },
  {
   "cell_type": "code",
   "execution_count": 8,
   "id": "cdc4f67f-7cf2-410b-9a49-549b999622de",
   "metadata": {},
   "outputs": [],
   "source": [
    "contact = ['FLAG_PHONE', 'FLAG_MOBIL', 'FLAG_CONT_MOBILE', 'FLAG_WORK_PHONE', 'FLAG_EMAIL', 'FLAG_EMP_PHONE']"
   ]
  },
  {
   "cell_type": "code",
   "execution_count": 17,
   "id": "ea6b7d3b-e4ac-4fb7-b968-af1605b8de4c",
   "metadata": {},
   "outputs": [
    {
     "name": "stdout",
     "output_type": "stream",
     "text": [
      "['SK_ID_CURR', 'TARGET', 'NAME_CONTRACT_TYPE', 'CODE_GENDER', 'CNT_CHILDREN', 'AMT_INCOME_TOTAL', 'AMT_CREDIT', 'NAME_INCOME_TYPE', 'NAME_EDUCATION_TYPE', 'NAME_FAMILY_STATUS', 'NAME_HOUSING_TYPE', 'REGION_POPULATION_RELATIVE', 'DAYS_BIRTH', 'DAYS_EMPLOYED', 'DAYS_REGISTRATION', 'DAYS_ID_PUBLISH', 'FLAG_MOBIL', 'FLAG_EMP_PHONE', 'FLAG_WORK_PHONE', 'FLAG_CONT_MOBILE', 'FLAG_PHONE', 'FLAG_EMAIL', 'REGION_RATING_CLIENT', 'REGION_RATING_CLIENT_W_CITY', 'REG_REGION_NOT_LIVE_REGION', 'REG_REGION_NOT_WORK_REGION', 'LIVE_REGION_NOT_WORK_REGION', 'REG_CITY_NOT_LIVE_CITY', 'REG_CITY_NOT_WORK_CITY', 'LIVE_CITY_NOT_WORK_CITY', 'ORGANIZATION_TYPE']\n"
     ]
    }
   ],
   "source": [
    "print(train_goodfea)"
   ]
  },
  {
   "cell_type": "code",
   "execution_count": 9,
   "id": "59d2df3d-babb-47c2-9c3d-fcc6b63f7c3e",
   "metadata": {},
   "outputs": [],
   "source": [
    "#pick the target\n",
    "target = train['TARGET']"
   ]
  },
  {
   "cell_type": "code",
   "execution_count": 10,
   "id": "d3a907ea-20cb-4508-b970-17aa3b8e6abc",
   "metadata": {},
   "outputs": [],
   "source": [
    "#pick these good features from test and train data\n",
    "train_encoder = train[list(s3)]\n",
    "test_encoder = test[list(s3)]"
   ]
  },
  {
   "cell_type": "code",
   "execution_count": 11,
   "id": "7a7a6cea-34c2-4d8d-966b-1b4a57e7778d",
   "metadata": {},
   "outputs": [
    {
     "data": {
      "text/plain": [
       "int64      19\n",
       "object      7\n",
       "float64     4\n",
       "Name: count, dtype: int64"
      ]
     },
     "execution_count": 11,
     "metadata": {},
     "output_type": "execute_result"
    }
   ],
   "source": [
    "#check datatypes\n",
    "train_encoder.dtypes.value_counts()"
   ]
  },
  {
   "cell_type": "code",
   "execution_count": 12,
   "id": "350596f1-59e2-4e9b-9f58-0d6fc0ee3cd8",
   "metadata": {},
   "outputs": [
    {
     "data": {
      "text/plain": [
       "int64      19\n",
       "object      7\n",
       "float64     4\n",
       "Name: count, dtype: int64"
      ]
     },
     "execution_count": 12,
     "metadata": {},
     "output_type": "execute_result"
    }
   ],
   "source": [
    "test_encoder.dtypes.value_counts()"
   ]
  },
  {
   "cell_type": "code",
   "execution_count": 25,
   "id": "4c02b5af-1b27-4bb8-9ed6-a5a5166ca353",
   "metadata": {},
   "outputs": [
    {
     "data": {
      "text/plain": [
       "True"
      ]
     },
     "execution_count": 25,
     "metadata": {},
     "output_type": "execute_result"
    }
   ],
   "source": [
    "train_encoder.shape[1]==test_encoder.shape[1]"
   ]
  },
  {
   "cell_type": "code",
   "execution_count": 13,
   "id": "fbd7aafd-89fe-497b-8d1f-d7d8a4bb7970",
   "metadata": {},
   "outputs": [
    {
     "name": "stdout",
     "output_type": "stream",
     "text": [
      "1 features is label encoded\n",
      "\n",
      " 6 features is one hot encoded\n"
     ]
    }
   ],
   "source": [
    "#encode the label and categorical data\n",
    "from sklearn.preprocessing import LabelEncoder\n",
    "le = LabelEncoder()\n",
    "#count how much is encoded\n",
    "le_c, onehot_c = 0, 0 \n",
    "\n",
    "for col in train_encoder:\n",
    "    if train_encoder[col].dtype == 'object':\n",
    "        #if types of label is less than 2\n",
    "        if train_encoder[col].nunique()<=2:\n",
    "            le.fit(train_encoder[col])\n",
    "            train_encoder[col], test_encoder[col] = le.transform(train_encoder[col]), le.transform(test_encoder[col])\n",
    "            le_c += 1\n",
    "        #if types of label is more than 2\n",
    "        else:\n",
    "            train_encoder = pd.get_dummies(train_encoder, columns = [col], dtype = int)\n",
    "            test_encoder = pd.get_dummies(test_encoder, columns = [col], dtype = int)\n",
    "            onehot_c += 1\n",
    "print(f'{le_c} features is label encoded')\n",
    "print('\\n {} features is one hot encoded'.format(onehot_c))"
   ]
  },
  {
   "cell_type": "markdown",
   "id": "d4ad3d77-557b-45ce-b3e6-0bcd93738a1d",
   "metadata": {
    "jp-MarkdownHeadingCollapsed": true
   },
   "source": [
    "## Use the encoded data `(train_enoded, test_encoded, target)` to train on models\n",
    "The `(train_enoded, test_encoded, target)` data picked the shared features that include no `NaN` in both `train` and `test` dataset, and they are further encoded with label encodeing and one-hot encoding."
   ]
  },
  {
   "cell_type": "code",
   "execution_count": 14,
   "id": "60ce4506-e76d-4aea-b3e2-b5b3f67d372e",
   "metadata": {},
   "outputs": [
    {
     "data": {
      "text/plain": [
       "(171202, 110)"
      ]
     },
     "execution_count": 14,
     "metadata": {},
     "output_type": "execute_result"
    }
   ],
   "source": [
    "train_encoder.shape"
   ]
  },
  {
   "cell_type": "code",
   "execution_count": 15,
   "id": "36f6ed85-378b-47f7-b6ba-abc1f73e8866",
   "metadata": {},
   "outputs": [
    {
     "data": {
      "text/plain": [
       "(61500, 108)"
      ]
     },
     "execution_count": 15,
     "metadata": {},
     "output_type": "execute_result"
    }
   ],
   "source": [
    "test_encoder.shape"
   ]
  },
  {
   "cell_type": "markdown",
   "id": "cf24e854-ddc6-4cb1-ab50-b5fedc80f93f",
   "metadata": {},
   "source": [
    "the shape is different, maybe due to one hot encoding. 2 catagories only appeared in train_encoder. "
   ]
  },
  {
   "cell_type": "code",
   "execution_count": 16,
   "id": "8789121d-1197-4416-b38e-19ee6ea20757",
   "metadata": {},
   "outputs": [],
   "source": [
    "#align\n",
    "train_encoder, test_encoder = train_encoder.align(test_encoder, join='inner', axis=1)"
   ]
  },
  {
   "cell_type": "code",
   "execution_count": 17,
   "id": "4790a2ed-21aa-45ec-ab88-7840cdfd4545",
   "metadata": {},
   "outputs": [
    {
     "name": "stdout",
     "output_type": "stream",
     "text": [
      "(171202, 108)\n"
     ]
    }
   ],
   "source": [
    "print(train_encoder.shape)"
   ]
  },
  {
   "cell_type": "markdown",
   "id": "e3aeaae8-ad29-4a4c-9fde-51e89dd92009",
   "metadata": {},
   "source": [
    "**train test split**"
   ]
  },
  {
   "cell_type": "code",
   "execution_count": 18,
   "id": "95ffc39d-72a1-4530-9add-9b3ded4f7b63",
   "metadata": {},
   "outputs": [],
   "source": [
    "X_train_xgb, X_valid_xgb, y_train_xgb, y_valid_xgb = train_test_split(\n",
    "    train_encoder, target, test_size = 0.2, stratify = target, random_state = 42\n",
    ")"
   ]
  },
  {
   "cell_type": "code",
   "execution_count": 19,
   "id": "f0a82595-8ebe-457d-bfe1-4c2d1f8b98e2",
   "metadata": {},
   "outputs": [
    {
     "name": "stdout",
     "output_type": "stream",
     "text": [
      "shape of X_train_xgb is (136961, 108)\n",
      "\n",
      "shape of y_train_xgb is (136961,)\n"
     ]
    }
   ],
   "source": [
    "print(f'shape of X_train_xgb is {X_train_xgb.shape}\\n')\n",
    "print(f'shape of y_train_xgb is {y_train_xgb.shape}')"
   ]
  },
  {
   "cell_type": "markdown",
   "id": "3475433a-ea2f-4cdb-86a6-cd592de32c5e",
   "metadata": {},
   "source": [
    "#### XGBoost"
   ]
  },
  {
   "cell_type": "code",
   "execution_count": 87,
   "id": "4716823e-0e8c-4dba-a3ad-8831a142b371",
   "metadata": {},
   "outputs": [
    {
     "ename": "KeyboardInterrupt",
     "evalue": "",
     "output_type": "error",
     "traceback": [
      "\u001b[1;31m---------------------------------------------------------------------------\u001b[0m",
      "\u001b[1;31mKeyboardInterrupt\u001b[0m                         Traceback (most recent call last)",
      "Cell \u001b[1;32mIn[87], line 20\u001b[0m\n\u001b[0;32m     12\u001b[0m grid_search \u001b[38;5;241m=\u001b[39m GridSearchCV(\n\u001b[0;32m     13\u001b[0m     estimator\u001b[38;5;241m=\u001b[39mxgb,\n\u001b[0;32m     14\u001b[0m     param_grid\u001b[38;5;241m=\u001b[39mparam_grid,\n\u001b[0;32m     15\u001b[0m     scoring\u001b[38;5;241m=\u001b[39m\u001b[38;5;124m'\u001b[39m\u001b[38;5;124mroc_auc\u001b[39m\u001b[38;5;124m'\u001b[39m,\n\u001b[0;32m     16\u001b[0m     cv\u001b[38;5;241m=\u001b[39m\u001b[38;5;241m3\u001b[39m\n\u001b[0;32m     17\u001b[0m )\n\u001b[0;32m     19\u001b[0m \u001b[38;5;66;03m# \u001b[39;00m\n\u001b[1;32m---> 20\u001b[0m grid_search\u001b[38;5;241m.\u001b[39mfit(X_train_xgb, y_train_xgb)\n\u001b[0;32m     22\u001b[0m \u001b[38;5;66;03m# \u001b[39;00m\n\u001b[0;32m     23\u001b[0m \u001b[38;5;28mprint\u001b[39m(\u001b[38;5;124m\"\u001b[39m\u001b[38;5;124mBest Parameters:\u001b[39m\u001b[38;5;124m\"\u001b[39m, grid_search\u001b[38;5;241m.\u001b[39mbest_params_)\n",
      "File \u001b[1;32mD:\\Apps\\miniconda3\\envs\\dl\\Lib\\site-packages\\sklearn\\base.py:1473\u001b[0m, in \u001b[0;36m_fit_context.<locals>.decorator.<locals>.wrapper\u001b[1;34m(estimator, *args, **kwargs)\u001b[0m\n\u001b[0;32m   1466\u001b[0m     estimator\u001b[38;5;241m.\u001b[39m_validate_params()\n\u001b[0;32m   1468\u001b[0m \u001b[38;5;28;01mwith\u001b[39;00m config_context(\n\u001b[0;32m   1469\u001b[0m     skip_parameter_validation\u001b[38;5;241m=\u001b[39m(\n\u001b[0;32m   1470\u001b[0m         prefer_skip_nested_validation \u001b[38;5;129;01mor\u001b[39;00m global_skip_validation\n\u001b[0;32m   1471\u001b[0m     )\n\u001b[0;32m   1472\u001b[0m ):\n\u001b[1;32m-> 1473\u001b[0m     \u001b[38;5;28;01mreturn\u001b[39;00m fit_method(estimator, \u001b[38;5;241m*\u001b[39margs, \u001b[38;5;241m*\u001b[39m\u001b[38;5;241m*\u001b[39mkwargs)\n",
      "File \u001b[1;32mD:\\Apps\\miniconda3\\envs\\dl\\Lib\\site-packages\\sklearn\\model_selection\\_search.py:1019\u001b[0m, in \u001b[0;36mBaseSearchCV.fit\u001b[1;34m(self, X, y, **params)\u001b[0m\n\u001b[0;32m   1013\u001b[0m     results \u001b[38;5;241m=\u001b[39m \u001b[38;5;28mself\u001b[39m\u001b[38;5;241m.\u001b[39m_format_results(\n\u001b[0;32m   1014\u001b[0m         all_candidate_params, n_splits, all_out, all_more_results\n\u001b[0;32m   1015\u001b[0m     )\n\u001b[0;32m   1017\u001b[0m     \u001b[38;5;28;01mreturn\u001b[39;00m results\n\u001b[1;32m-> 1019\u001b[0m \u001b[38;5;28mself\u001b[39m\u001b[38;5;241m.\u001b[39m_run_search(evaluate_candidates)\n\u001b[0;32m   1021\u001b[0m \u001b[38;5;66;03m# multimetric is determined here because in the case of a callable\u001b[39;00m\n\u001b[0;32m   1022\u001b[0m \u001b[38;5;66;03m# self.scoring the return type is only known after calling\u001b[39;00m\n\u001b[0;32m   1023\u001b[0m first_test_score \u001b[38;5;241m=\u001b[39m all_out[\u001b[38;5;241m0\u001b[39m][\u001b[38;5;124m\"\u001b[39m\u001b[38;5;124mtest_scores\u001b[39m\u001b[38;5;124m\"\u001b[39m]\n",
      "File \u001b[1;32mD:\\Apps\\miniconda3\\envs\\dl\\Lib\\site-packages\\sklearn\\model_selection\\_search.py:1573\u001b[0m, in \u001b[0;36mGridSearchCV._run_search\u001b[1;34m(self, evaluate_candidates)\u001b[0m\n\u001b[0;32m   1571\u001b[0m \u001b[38;5;28;01mdef\u001b[39;00m \u001b[38;5;21m_run_search\u001b[39m(\u001b[38;5;28mself\u001b[39m, evaluate_candidates):\n\u001b[0;32m   1572\u001b[0m \u001b[38;5;250m    \u001b[39m\u001b[38;5;124;03m\"\"\"Search all candidates in param_grid\"\"\"\u001b[39;00m\n\u001b[1;32m-> 1573\u001b[0m     evaluate_candidates(ParameterGrid(\u001b[38;5;28mself\u001b[39m\u001b[38;5;241m.\u001b[39mparam_grid))\n",
      "File \u001b[1;32mD:\\Apps\\miniconda3\\envs\\dl\\Lib\\site-packages\\sklearn\\model_selection\\_search.py:965\u001b[0m, in \u001b[0;36mBaseSearchCV.fit.<locals>.evaluate_candidates\u001b[1;34m(candidate_params, cv, more_results)\u001b[0m\n\u001b[0;32m    957\u001b[0m \u001b[38;5;28;01mif\u001b[39;00m \u001b[38;5;28mself\u001b[39m\u001b[38;5;241m.\u001b[39mverbose \u001b[38;5;241m>\u001b[39m \u001b[38;5;241m0\u001b[39m:\n\u001b[0;32m    958\u001b[0m     \u001b[38;5;28mprint\u001b[39m(\n\u001b[0;32m    959\u001b[0m         \u001b[38;5;124m\"\u001b[39m\u001b[38;5;124mFitting \u001b[39m\u001b[38;5;132;01m{0}\u001b[39;00m\u001b[38;5;124m folds for each of \u001b[39m\u001b[38;5;132;01m{1}\u001b[39;00m\u001b[38;5;124m candidates,\u001b[39m\u001b[38;5;124m\"\u001b[39m\n\u001b[0;32m    960\u001b[0m         \u001b[38;5;124m\"\u001b[39m\u001b[38;5;124m totalling \u001b[39m\u001b[38;5;132;01m{2}\u001b[39;00m\u001b[38;5;124m fits\u001b[39m\u001b[38;5;124m\"\u001b[39m\u001b[38;5;241m.\u001b[39mformat(\n\u001b[0;32m    961\u001b[0m             n_splits, n_candidates, n_candidates \u001b[38;5;241m*\u001b[39m n_splits\n\u001b[0;32m    962\u001b[0m         )\n\u001b[0;32m    963\u001b[0m     )\n\u001b[1;32m--> 965\u001b[0m out \u001b[38;5;241m=\u001b[39m parallel(\n\u001b[0;32m    966\u001b[0m     delayed(_fit_and_score)(\n\u001b[0;32m    967\u001b[0m         clone(base_estimator),\n\u001b[0;32m    968\u001b[0m         X,\n\u001b[0;32m    969\u001b[0m         y,\n\u001b[0;32m    970\u001b[0m         train\u001b[38;5;241m=\u001b[39mtrain,\n\u001b[0;32m    971\u001b[0m         test\u001b[38;5;241m=\u001b[39mtest,\n\u001b[0;32m    972\u001b[0m         parameters\u001b[38;5;241m=\u001b[39mparameters,\n\u001b[0;32m    973\u001b[0m         split_progress\u001b[38;5;241m=\u001b[39m(split_idx, n_splits),\n\u001b[0;32m    974\u001b[0m         candidate_progress\u001b[38;5;241m=\u001b[39m(cand_idx, n_candidates),\n\u001b[0;32m    975\u001b[0m         \u001b[38;5;241m*\u001b[39m\u001b[38;5;241m*\u001b[39mfit_and_score_kwargs,\n\u001b[0;32m    976\u001b[0m     )\n\u001b[0;32m    977\u001b[0m     \u001b[38;5;28;01mfor\u001b[39;00m (cand_idx, parameters), (split_idx, (train, test)) \u001b[38;5;129;01min\u001b[39;00m product(\n\u001b[0;32m    978\u001b[0m         \u001b[38;5;28menumerate\u001b[39m(candidate_params),\n\u001b[0;32m    979\u001b[0m         \u001b[38;5;28menumerate\u001b[39m(cv\u001b[38;5;241m.\u001b[39msplit(X, y, \u001b[38;5;241m*\u001b[39m\u001b[38;5;241m*\u001b[39mrouted_params\u001b[38;5;241m.\u001b[39msplitter\u001b[38;5;241m.\u001b[39msplit)),\n\u001b[0;32m    980\u001b[0m     )\n\u001b[0;32m    981\u001b[0m )\n\u001b[0;32m    983\u001b[0m \u001b[38;5;28;01mif\u001b[39;00m \u001b[38;5;28mlen\u001b[39m(out) \u001b[38;5;241m<\u001b[39m \u001b[38;5;241m1\u001b[39m:\n\u001b[0;32m    984\u001b[0m     \u001b[38;5;28;01mraise\u001b[39;00m \u001b[38;5;167;01mValueError\u001b[39;00m(\n\u001b[0;32m    985\u001b[0m         \u001b[38;5;124m\"\u001b[39m\u001b[38;5;124mNo fits were performed. \u001b[39m\u001b[38;5;124m\"\u001b[39m\n\u001b[0;32m    986\u001b[0m         \u001b[38;5;124m\"\u001b[39m\u001b[38;5;124mWas the CV iterator empty? \u001b[39m\u001b[38;5;124m\"\u001b[39m\n\u001b[0;32m    987\u001b[0m         \u001b[38;5;124m\"\u001b[39m\u001b[38;5;124mWere there no candidates?\u001b[39m\u001b[38;5;124m\"\u001b[39m\n\u001b[0;32m    988\u001b[0m     )\n",
      "File \u001b[1;32mD:\\Apps\\miniconda3\\envs\\dl\\Lib\\site-packages\\sklearn\\utils\\parallel.py:74\u001b[0m, in \u001b[0;36mParallel.__call__\u001b[1;34m(self, iterable)\u001b[0m\n\u001b[0;32m     69\u001b[0m config \u001b[38;5;241m=\u001b[39m get_config()\n\u001b[0;32m     70\u001b[0m iterable_with_config \u001b[38;5;241m=\u001b[39m (\n\u001b[0;32m     71\u001b[0m     (_with_config(delayed_func, config), args, kwargs)\n\u001b[0;32m     72\u001b[0m     \u001b[38;5;28;01mfor\u001b[39;00m delayed_func, args, kwargs \u001b[38;5;129;01min\u001b[39;00m iterable\n\u001b[0;32m     73\u001b[0m )\n\u001b[1;32m---> 74\u001b[0m \u001b[38;5;28;01mreturn\u001b[39;00m \u001b[38;5;28msuper\u001b[39m()\u001b[38;5;241m.\u001b[39m\u001b[38;5;21m__call__\u001b[39m(iterable_with_config)\n",
      "File \u001b[1;32mD:\\Apps\\miniconda3\\envs\\dl\\Lib\\site-packages\\joblib\\parallel.py:1918\u001b[0m, in \u001b[0;36mParallel.__call__\u001b[1;34m(self, iterable)\u001b[0m\n\u001b[0;32m   1916\u001b[0m     output \u001b[38;5;241m=\u001b[39m \u001b[38;5;28mself\u001b[39m\u001b[38;5;241m.\u001b[39m_get_sequential_output(iterable)\n\u001b[0;32m   1917\u001b[0m     \u001b[38;5;28mnext\u001b[39m(output)\n\u001b[1;32m-> 1918\u001b[0m     \u001b[38;5;28;01mreturn\u001b[39;00m output \u001b[38;5;28;01mif\u001b[39;00m \u001b[38;5;28mself\u001b[39m\u001b[38;5;241m.\u001b[39mreturn_generator \u001b[38;5;28;01melse\u001b[39;00m \u001b[38;5;28mlist\u001b[39m(output)\n\u001b[0;32m   1920\u001b[0m \u001b[38;5;66;03m# Let's create an ID that uniquely identifies the current call. If the\u001b[39;00m\n\u001b[0;32m   1921\u001b[0m \u001b[38;5;66;03m# call is interrupted early and that the same instance is immediately\u001b[39;00m\n\u001b[0;32m   1922\u001b[0m \u001b[38;5;66;03m# re-used, this id will be used to prevent workers that were\u001b[39;00m\n\u001b[0;32m   1923\u001b[0m \u001b[38;5;66;03m# concurrently finalizing a task from the previous call to run the\u001b[39;00m\n\u001b[0;32m   1924\u001b[0m \u001b[38;5;66;03m# callback.\u001b[39;00m\n\u001b[0;32m   1925\u001b[0m \u001b[38;5;28;01mwith\u001b[39;00m \u001b[38;5;28mself\u001b[39m\u001b[38;5;241m.\u001b[39m_lock:\n",
      "File \u001b[1;32mD:\\Apps\\miniconda3\\envs\\dl\\Lib\\site-packages\\joblib\\parallel.py:1847\u001b[0m, in \u001b[0;36mParallel._get_sequential_output\u001b[1;34m(self, iterable)\u001b[0m\n\u001b[0;32m   1845\u001b[0m \u001b[38;5;28mself\u001b[39m\u001b[38;5;241m.\u001b[39mn_dispatched_batches \u001b[38;5;241m+\u001b[39m\u001b[38;5;241m=\u001b[39m \u001b[38;5;241m1\u001b[39m\n\u001b[0;32m   1846\u001b[0m \u001b[38;5;28mself\u001b[39m\u001b[38;5;241m.\u001b[39mn_dispatched_tasks \u001b[38;5;241m+\u001b[39m\u001b[38;5;241m=\u001b[39m \u001b[38;5;241m1\u001b[39m\n\u001b[1;32m-> 1847\u001b[0m res \u001b[38;5;241m=\u001b[39m func(\u001b[38;5;241m*\u001b[39margs, \u001b[38;5;241m*\u001b[39m\u001b[38;5;241m*\u001b[39mkwargs)\n\u001b[0;32m   1848\u001b[0m \u001b[38;5;28mself\u001b[39m\u001b[38;5;241m.\u001b[39mn_completed_tasks \u001b[38;5;241m+\u001b[39m\u001b[38;5;241m=\u001b[39m \u001b[38;5;241m1\u001b[39m\n\u001b[0;32m   1849\u001b[0m \u001b[38;5;28mself\u001b[39m\u001b[38;5;241m.\u001b[39mprint_progress()\n",
      "File \u001b[1;32mD:\\Apps\\miniconda3\\envs\\dl\\Lib\\site-packages\\sklearn\\utils\\parallel.py:136\u001b[0m, in \u001b[0;36m_FuncWrapper.__call__\u001b[1;34m(self, *args, **kwargs)\u001b[0m\n\u001b[0;32m    134\u001b[0m     config \u001b[38;5;241m=\u001b[39m {}\n\u001b[0;32m    135\u001b[0m \u001b[38;5;28;01mwith\u001b[39;00m config_context(\u001b[38;5;241m*\u001b[39m\u001b[38;5;241m*\u001b[39mconfig):\n\u001b[1;32m--> 136\u001b[0m     \u001b[38;5;28;01mreturn\u001b[39;00m \u001b[38;5;28mself\u001b[39m\u001b[38;5;241m.\u001b[39mfunction(\u001b[38;5;241m*\u001b[39margs, \u001b[38;5;241m*\u001b[39m\u001b[38;5;241m*\u001b[39mkwargs)\n",
      "File \u001b[1;32mD:\\Apps\\miniconda3\\envs\\dl\\Lib\\site-packages\\sklearn\\model_selection\\_validation.py:888\u001b[0m, in \u001b[0;36m_fit_and_score\u001b[1;34m(estimator, X, y, scorer, train, test, verbose, parameters, fit_params, score_params, return_train_score, return_parameters, return_n_test_samples, return_times, return_estimator, split_progress, candidate_progress, error_score)\u001b[0m\n\u001b[0;32m    886\u001b[0m         estimator\u001b[38;5;241m.\u001b[39mfit(X_train, \u001b[38;5;241m*\u001b[39m\u001b[38;5;241m*\u001b[39mfit_params)\n\u001b[0;32m    887\u001b[0m     \u001b[38;5;28;01melse\u001b[39;00m:\n\u001b[1;32m--> 888\u001b[0m         estimator\u001b[38;5;241m.\u001b[39mfit(X_train, y_train, \u001b[38;5;241m*\u001b[39m\u001b[38;5;241m*\u001b[39mfit_params)\n\u001b[0;32m    890\u001b[0m \u001b[38;5;28;01mexcept\u001b[39;00m \u001b[38;5;167;01mException\u001b[39;00m:\n\u001b[0;32m    891\u001b[0m     \u001b[38;5;66;03m# Note fit time as time until error\u001b[39;00m\n\u001b[0;32m    892\u001b[0m     fit_time \u001b[38;5;241m=\u001b[39m time\u001b[38;5;241m.\u001b[39mtime() \u001b[38;5;241m-\u001b[39m start_time\n",
      "File \u001b[1;32mD:\\Apps\\miniconda3\\envs\\dl\\Lib\\site-packages\\xgboost\\core.py:726\u001b[0m, in \u001b[0;36mrequire_keyword_args.<locals>.throw_if.<locals>.inner_f\u001b[1;34m(*args, **kwargs)\u001b[0m\n\u001b[0;32m    724\u001b[0m \u001b[38;5;28;01mfor\u001b[39;00m k, arg \u001b[38;5;129;01min\u001b[39;00m \u001b[38;5;28mzip\u001b[39m(sig\u001b[38;5;241m.\u001b[39mparameters, args):\n\u001b[0;32m    725\u001b[0m     kwargs[k] \u001b[38;5;241m=\u001b[39m arg\n\u001b[1;32m--> 726\u001b[0m \u001b[38;5;28;01mreturn\u001b[39;00m func(\u001b[38;5;241m*\u001b[39m\u001b[38;5;241m*\u001b[39mkwargs)\n",
      "File \u001b[1;32mD:\\Apps\\miniconda3\\envs\\dl\\Lib\\site-packages\\xgboost\\sklearn.py:1531\u001b[0m, in \u001b[0;36mXGBClassifier.fit\u001b[1;34m(self, X, y, sample_weight, base_margin, eval_set, verbose, xgb_model, sample_weight_eval_set, base_margin_eval_set, feature_weights)\u001b[0m\n\u001b[0;32m   1511\u001b[0m model, metric, params \u001b[38;5;241m=\u001b[39m \u001b[38;5;28mself\u001b[39m\u001b[38;5;241m.\u001b[39m_configure_fit(xgb_model, params)\n\u001b[0;32m   1512\u001b[0m train_dmatrix, evals \u001b[38;5;241m=\u001b[39m _wrap_evaluation_matrices(\n\u001b[0;32m   1513\u001b[0m     missing\u001b[38;5;241m=\u001b[39m\u001b[38;5;28mself\u001b[39m\u001b[38;5;241m.\u001b[39mmissing,\n\u001b[0;32m   1514\u001b[0m     X\u001b[38;5;241m=\u001b[39mX,\n\u001b[1;32m   (...)\u001b[0m\n\u001b[0;32m   1528\u001b[0m     feature_types\u001b[38;5;241m=\u001b[39m\u001b[38;5;28mself\u001b[39m\u001b[38;5;241m.\u001b[39mfeature_types,\n\u001b[0;32m   1529\u001b[0m )\n\u001b[1;32m-> 1531\u001b[0m \u001b[38;5;28mself\u001b[39m\u001b[38;5;241m.\u001b[39m_Booster \u001b[38;5;241m=\u001b[39m train(\n\u001b[0;32m   1532\u001b[0m     params,\n\u001b[0;32m   1533\u001b[0m     train_dmatrix,\n\u001b[0;32m   1534\u001b[0m     \u001b[38;5;28mself\u001b[39m\u001b[38;5;241m.\u001b[39mget_num_boosting_rounds(),\n\u001b[0;32m   1535\u001b[0m     evals\u001b[38;5;241m=\u001b[39mevals,\n\u001b[0;32m   1536\u001b[0m     early_stopping_rounds\u001b[38;5;241m=\u001b[39m\u001b[38;5;28mself\u001b[39m\u001b[38;5;241m.\u001b[39mearly_stopping_rounds,\n\u001b[0;32m   1537\u001b[0m     evals_result\u001b[38;5;241m=\u001b[39mevals_result,\n\u001b[0;32m   1538\u001b[0m     obj\u001b[38;5;241m=\u001b[39mobj,\n\u001b[0;32m   1539\u001b[0m     custom_metric\u001b[38;5;241m=\u001b[39mmetric,\n\u001b[0;32m   1540\u001b[0m     verbose_eval\u001b[38;5;241m=\u001b[39mverbose,\n\u001b[0;32m   1541\u001b[0m     xgb_model\u001b[38;5;241m=\u001b[39mmodel,\n\u001b[0;32m   1542\u001b[0m     callbacks\u001b[38;5;241m=\u001b[39m\u001b[38;5;28mself\u001b[39m\u001b[38;5;241m.\u001b[39mcallbacks,\n\u001b[0;32m   1543\u001b[0m )\n\u001b[0;32m   1545\u001b[0m \u001b[38;5;28;01mif\u001b[39;00m \u001b[38;5;129;01mnot\u001b[39;00m \u001b[38;5;28mcallable\u001b[39m(\u001b[38;5;28mself\u001b[39m\u001b[38;5;241m.\u001b[39mobjective):\n\u001b[0;32m   1546\u001b[0m     \u001b[38;5;28mself\u001b[39m\u001b[38;5;241m.\u001b[39mobjective \u001b[38;5;241m=\u001b[39m params[\u001b[38;5;124m\"\u001b[39m\u001b[38;5;124mobjective\u001b[39m\u001b[38;5;124m\"\u001b[39m]\n",
      "File \u001b[1;32mD:\\Apps\\miniconda3\\envs\\dl\\Lib\\site-packages\\xgboost\\core.py:726\u001b[0m, in \u001b[0;36mrequire_keyword_args.<locals>.throw_if.<locals>.inner_f\u001b[1;34m(*args, **kwargs)\u001b[0m\n\u001b[0;32m    724\u001b[0m \u001b[38;5;28;01mfor\u001b[39;00m k, arg \u001b[38;5;129;01min\u001b[39;00m \u001b[38;5;28mzip\u001b[39m(sig\u001b[38;5;241m.\u001b[39mparameters, args):\n\u001b[0;32m    725\u001b[0m     kwargs[k] \u001b[38;5;241m=\u001b[39m arg\n\u001b[1;32m--> 726\u001b[0m \u001b[38;5;28;01mreturn\u001b[39;00m func(\u001b[38;5;241m*\u001b[39m\u001b[38;5;241m*\u001b[39mkwargs)\n",
      "File \u001b[1;32mD:\\Apps\\miniconda3\\envs\\dl\\Lib\\site-packages\\xgboost\\training.py:181\u001b[0m, in \u001b[0;36mtrain\u001b[1;34m(params, dtrain, num_boost_round, evals, obj, feval, maximize, early_stopping_rounds, evals_result, verbose_eval, xgb_model, callbacks, custom_metric)\u001b[0m\n\u001b[0;32m    179\u001b[0m \u001b[38;5;28;01mif\u001b[39;00m cb_container\u001b[38;5;241m.\u001b[39mbefore_iteration(bst, i, dtrain, evals):\n\u001b[0;32m    180\u001b[0m     \u001b[38;5;28;01mbreak\u001b[39;00m\n\u001b[1;32m--> 181\u001b[0m bst\u001b[38;5;241m.\u001b[39mupdate(dtrain, iteration\u001b[38;5;241m=\u001b[39mi, fobj\u001b[38;5;241m=\u001b[39mobj)\n\u001b[0;32m    182\u001b[0m \u001b[38;5;28;01mif\u001b[39;00m cb_container\u001b[38;5;241m.\u001b[39mafter_iteration(bst, i, dtrain, evals):\n\u001b[0;32m    183\u001b[0m     \u001b[38;5;28;01mbreak\u001b[39;00m\n",
      "File \u001b[1;32mD:\\Apps\\miniconda3\\envs\\dl\\Lib\\site-packages\\xgboost\\core.py:2101\u001b[0m, in \u001b[0;36mBooster.update\u001b[1;34m(self, dtrain, iteration, fobj)\u001b[0m\n\u001b[0;32m   2097\u001b[0m \u001b[38;5;28mself\u001b[39m\u001b[38;5;241m.\u001b[39m_assign_dmatrix_features(dtrain)\n\u001b[0;32m   2099\u001b[0m \u001b[38;5;28;01mif\u001b[39;00m fobj \u001b[38;5;129;01mis\u001b[39;00m \u001b[38;5;28;01mNone\u001b[39;00m:\n\u001b[0;32m   2100\u001b[0m     _check_call(\n\u001b[1;32m-> 2101\u001b[0m         _LIB\u001b[38;5;241m.\u001b[39mXGBoosterUpdateOneIter(\n\u001b[0;32m   2102\u001b[0m             \u001b[38;5;28mself\u001b[39m\u001b[38;5;241m.\u001b[39mhandle, ctypes\u001b[38;5;241m.\u001b[39mc_int(iteration), dtrain\u001b[38;5;241m.\u001b[39mhandle\n\u001b[0;32m   2103\u001b[0m         )\n\u001b[0;32m   2104\u001b[0m     )\n\u001b[0;32m   2105\u001b[0m \u001b[38;5;28;01melse\u001b[39;00m:\n\u001b[0;32m   2106\u001b[0m     pred \u001b[38;5;241m=\u001b[39m \u001b[38;5;28mself\u001b[39m\u001b[38;5;241m.\u001b[39mpredict(dtrain, output_margin\u001b[38;5;241m=\u001b[39m\u001b[38;5;28;01mTrue\u001b[39;00m, training\u001b[38;5;241m=\u001b[39m\u001b[38;5;28;01mTrue\u001b[39;00m)\n",
      "\u001b[1;31mKeyboardInterrupt\u001b[0m: "
     ]
    }
   ],
   "source": [
    "from sklearn.model_selection import GridSearchCV\n",
    "xgb = XGBClassifier()\n",
    "\n",
    "# 定义超参数网格\n",
    "param_grid = {\n",
    "    'max_depth': [3,4,5],\n",
    "    'learning_rate': [0.01, 0.05, 0.1, 0.15],\n",
    "    'n_estimators': [250, 300, 350, 400]\n",
    "}\n",
    "\n",
    "# \n",
    "grid_search = GridSearchCV(\n",
    "    estimator=xgb,\n",
    "    param_grid=param_grid,\n",
    "    scoring='roc_auc',\n",
    "    cv=3\n",
    ")\n",
    "\n",
    "# \n",
    "grid_search.fit(X_train_xgb, y_train_xgb)\n",
    "\n",
    "# \n",
    "print(\"Best Parameters:\", grid_search.best_params_)\n",
    "print(\"Best AUC Score:\", grid_search.best_score_)"
   ]
  },
  {
   "cell_type": "code",
   "execution_count": 89,
   "id": "bfccbbd1-16cf-4f9a-9bb6-f13674fc525d",
   "metadata": {},
   "outputs": [
    {
     "name": "stdout",
     "output_type": "stream",
     "text": [
      "Fitting 3 folds for each of 1 candidates, totalling 3 fits\n",
      "[CV] END colsample_bytree=0.7552037744611002, learning_rate=0.02888752759463048, max_depth=3, n_estimators=500, subsample=0.7329554661349822; total time=   2.4s\n",
      "[CV] END colsample_bytree=0.7552037744611002, learning_rate=0.02888752759463048, max_depth=3, n_estimators=500, subsample=0.7329554661349822; total time=   2.3s\n",
      "[CV] END colsample_bytree=0.7552037744611002, learning_rate=0.02888752759463048, max_depth=3, n_estimators=500, subsample=0.7329554661349822; total time=   2.4s\n",
      "Fitting 3 folds for each of 1 candidates, totalling 3 fits\n",
      "[CV] END colsample_bytree=0.965723412046569, learning_rate=0.27534962639030297, max_depth=4, n_estimators=500, subsample=0.6667381337486429; total time=   2.6s\n",
      "[CV] END colsample_bytree=0.965723412046569, learning_rate=0.27534962639030297, max_depth=4, n_estimators=500, subsample=0.6667381337486429; total time=   2.7s\n",
      "[CV] END colsample_bytree=0.965723412046569, learning_rate=0.27534962639030297, max_depth=4, n_estimators=500, subsample=0.6667381337486429; total time=   2.9s\n",
      "Fitting 3 folds for each of 1 candidates, totalling 3 fits\n",
      "[CV] END colsample_bytree=0.7159130448914115, learning_rate=0.011327149814015301, max_depth=4, n_estimators=300, subsample=0.7883525021653155; total time=   1.9s\n",
      "[CV] END colsample_bytree=0.7159130448914115, learning_rate=0.011327149814015301, max_depth=4, n_estimators=300, subsample=0.7883525021653155; total time=   2.0s\n",
      "[CV] END colsample_bytree=0.7159130448914115, learning_rate=0.011327149814015301, max_depth=4, n_estimators=300, subsample=0.7883525021653155; total time=   2.0s\n",
      "Fitting 3 folds for each of 1 candidates, totalling 3 fits\n",
      "[CV] END colsample_bytree=0.6638829362084788, learning_rate=0.09402308738988119, max_depth=4, n_estimators=500, subsample=0.7446453734997818; total time=   2.6s\n",
      "[CV] END colsample_bytree=0.6638829362084788, learning_rate=0.09402308738988119, max_depth=4, n_estimators=500, subsample=0.7446453734997818; total time=   2.6s\n",
      "[CV] END colsample_bytree=0.6638829362084788, learning_rate=0.09402308738988119, max_depth=4, n_estimators=500, subsample=0.7446453734997818; total time=   2.6s\n",
      "Fitting 3 folds for each of 1 candidates, totalling 3 fits\n",
      "[CV] END colsample_bytree=0.7525630306594766, learning_rate=0.0343445893510794, max_depth=4, n_estimators=500, subsample=0.905527299749129; total time=   2.6s\n",
      "[CV] END colsample_bytree=0.7525630306594766, learning_rate=0.0343445893510794, max_depth=4, n_estimators=500, subsample=0.905527299749129; total time=   2.6s\n",
      "[CV] END colsample_bytree=0.7525630306594766, learning_rate=0.0343445893510794, max_depth=4, n_estimators=500, subsample=0.905527299749129; total time=   2.7s\n",
      "Fitting 3 folds for each of 1 candidates, totalling 3 fits\n",
      "[CV] END colsample_bytree=0.9219785846031179, learning_rate=0.01886999867121183, max_depth=4, n_estimators=400, subsample=0.7267063518378547; total time=   2.4s\n",
      "[CV] END colsample_bytree=0.9219785846031179, learning_rate=0.01886999867121183, max_depth=4, n_estimators=400, subsample=0.7267063518378547; total time=   2.4s\n",
      "[CV] END colsample_bytree=0.9219785846031179, learning_rate=0.01886999867121183, max_depth=4, n_estimators=400, subsample=0.7267063518378547; total time=   2.4s\n",
      "Fitting 3 folds for each of 1 candidates, totalling 3 fits\n",
      "[CV] END colsample_bytree=0.9916077696996481, learning_rate=0.016329715789349067, max_depth=4, n_estimators=300, subsample=0.6978175633752797; total time=   1.9s\n",
      "[CV] END colsample_bytree=0.9916077696996481, learning_rate=0.016329715789349067, max_depth=4, n_estimators=300, subsample=0.6978175633752797; total time=   1.9s\n",
      "[CV] END colsample_bytree=0.9916077696996481, learning_rate=0.016329715789349067, max_depth=4, n_estimators=300, subsample=0.6978175633752797; total time=   2.0s\n",
      "Fitting 3 folds for each of 1 candidates, totalling 3 fits\n",
      "[CV] END colsample_bytree=0.6539878097936999, learning_rate=0.011509561389741404, max_depth=4, n_estimators=500, subsample=0.6032545766012722; total time=   2.9s\n",
      "[CV] END colsample_bytree=0.6539878097936999, learning_rate=0.011509561389741404, max_depth=4, n_estimators=500, subsample=0.6032545766012722; total time=   2.9s\n",
      "[CV] END colsample_bytree=0.6539878097936999, learning_rate=0.011509561389741404, max_depth=4, n_estimators=500, subsample=0.6032545766012722; total time=   3.1s\n",
      "Fitting 3 folds for each of 1 candidates, totalling 3 fits\n",
      "[CV] END colsample_bytree=0.7410256891786806, learning_rate=0.115212690986733, max_depth=4, n_estimators=400, subsample=0.8964124226367907; total time=   2.1s\n",
      "[CV] END colsample_bytree=0.7410256891786806, learning_rate=0.115212690986733, max_depth=4, n_estimators=400, subsample=0.8964124226367907; total time=   2.3s\n",
      "[CV] END colsample_bytree=0.7410256891786806, learning_rate=0.115212690986733, max_depth=4, n_estimators=400, subsample=0.8964124226367907; total time=   2.1s\n",
      "Fitting 3 folds for each of 1 candidates, totalling 3 fits\n",
      "[CV] END colsample_bytree=0.7437738456945016, learning_rate=0.03792088726465272, max_depth=4, n_estimators=500, subsample=0.9904332174056689; total time=   2.6s\n",
      "[CV] END colsample_bytree=0.7437738456945016, learning_rate=0.03792088726465272, max_depth=4, n_estimators=500, subsample=0.9904332174056689; total time=   3.0s\n",
      "[CV] END colsample_bytree=0.7437738456945016, learning_rate=0.03792088726465272, max_depth=4, n_estimators=500, subsample=0.9904332174056689; total time=   3.1s\n",
      "Fitting 3 folds for each of 1 candidates, totalling 3 fits\n",
      "[CV] END colsample_bytree=0.5057198217872895, learning_rate=0.2801480116369889, max_depth=4, n_estimators=400, subsample=0.5476319330104485; total time=   2.4s\n",
      "[CV] END colsample_bytree=0.5057198217872895, learning_rate=0.2801480116369889, max_depth=4, n_estimators=400, subsample=0.5476319330104485; total time=   2.4s\n",
      "[CV] END colsample_bytree=0.5057198217872895, learning_rate=0.2801480116369889, max_depth=4, n_estimators=400, subsample=0.5476319330104485; total time=   2.2s\n",
      "Fitting 3 folds for each of 1 candidates, totalling 3 fits\n",
      "[CV] END colsample_bytree=0.5, learning_rate=0.020850636330339786, max_depth=5, n_estimators=300, subsample=0.8518844718445457; total time=   2.3s\n",
      "[CV] END colsample_bytree=0.5, learning_rate=0.020850636330339786, max_depth=5, n_estimators=300, subsample=0.8518844718445457; total time=   2.5s\n",
      "[CV] END colsample_bytree=0.5, learning_rate=0.020850636330339786, max_depth=5, n_estimators=300, subsample=0.8518844718445457; total time=   2.6s\n",
      "Fitting 3 folds for each of 1 candidates, totalling 3 fits\n",
      "[CV] END colsample_bytree=0.9350825064857092, learning_rate=0.08745119745535944, max_depth=4, n_estimators=500, subsample=0.8828460193191868; total time=   3.1s\n",
      "[CV] END colsample_bytree=0.9350825064857092, learning_rate=0.08745119745535944, max_depth=4, n_estimators=500, subsample=0.8828460193191868; total time=   2.6s\n",
      "[CV] END colsample_bytree=0.9350825064857092, learning_rate=0.08745119745535944, max_depth=4, n_estimators=500, subsample=0.8828460193191868; total time=   2.6s\n",
      "Fitting 3 folds for each of 1 candidates, totalling 3 fits\n",
      "[CV] END colsample_bytree=0.9110105981189105, learning_rate=0.2161592366924144, max_depth=3, n_estimators=400, subsample=0.5514019064751081; total time=   1.9s\n",
      "[CV] END colsample_bytree=0.9110105981189105, learning_rate=0.2161592366924144, max_depth=3, n_estimators=400, subsample=0.5514019064751081; total time=   2.1s\n",
      "[CV] END colsample_bytree=0.9110105981189105, learning_rate=0.2161592366924144, max_depth=3, n_estimators=400, subsample=0.5514019064751081; total time=   2.0s\n",
      "Fitting 3 folds for each of 1 candidates, totalling 3 fits\n",
      "[CV] END colsample_bytree=0.9412498506231557, learning_rate=0.010108180815928434, max_depth=3, n_estimators=400, subsample=0.6489602257769223; total time=   2.2s\n",
      "[CV] END colsample_bytree=0.9412498506231557, learning_rate=0.010108180815928434, max_depth=3, n_estimators=400, subsample=0.6489602257769223; total time=   2.2s\n",
      "[CV] END colsample_bytree=0.9412498506231557, learning_rate=0.010108180815928434, max_depth=3, n_estimators=400, subsample=0.6489602257769223; total time=   2.3s\n",
      "Fitting 3 folds for each of 1 candidates, totalling 3 fits\n",
      "[CV] END colsample_bytree=0.5474643857729148, learning_rate=0.16163037577992814, max_depth=3, n_estimators=400, subsample=0.9526709380008465; total time=   2.1s\n",
      "[CV] END colsample_bytree=0.5474643857729148, learning_rate=0.16163037577992814, max_depth=3, n_estimators=400, subsample=0.9526709380008465; total time=   1.9s\n",
      "[CV] END colsample_bytree=0.5474643857729148, learning_rate=0.16163037577992814, max_depth=3, n_estimators=400, subsample=0.9526709380008465; total time=   2.0s\n",
      "Fitting 3 folds for each of 1 candidates, totalling 3 fits\n",
      "[CV] END colsample_bytree=0.59350276889201, learning_rate=0.07051088123654653, max_depth=3, n_estimators=300, subsample=0.5; total time=   1.5s\n",
      "[CV] END colsample_bytree=0.59350276889201, learning_rate=0.07051088123654653, max_depth=3, n_estimators=300, subsample=0.5; total time=   1.6s\n",
      "[CV] END colsample_bytree=0.59350276889201, learning_rate=0.07051088123654653, max_depth=3, n_estimators=300, subsample=0.5; total time=   1.6s\n",
      "Fitting 3 folds for each of 1 candidates, totalling 3 fits\n",
      "[CV] END colsample_bytree=0.5204880810820491, learning_rate=0.11108723704425673, max_depth=5, n_estimators=400, subsample=0.9161398584452858; total time=   2.4s\n",
      "[CV] END colsample_bytree=0.5204880810820491, learning_rate=0.11108723704425673, max_depth=5, n_estimators=400, subsample=0.9161398584452858; total time=   2.6s\n",
      "[CV] END colsample_bytree=0.5204880810820491, learning_rate=0.11108723704425673, max_depth=5, n_estimators=400, subsample=0.9161398584452858; total time=   2.4s\n",
      "Fitting 3 folds for each of 1 candidates, totalling 3 fits\n",
      "[CV] END colsample_bytree=0.9843509109175221, learning_rate=0.05083424673557645, max_depth=5, n_estimators=400, subsample=0.7879788781759072; total time=   2.5s\n",
      "[CV] END colsample_bytree=0.9843509109175221, learning_rate=0.05083424673557645, max_depth=5, n_estimators=400, subsample=0.7879788781759072; total time=   2.6s\n",
      "[CV] END colsample_bytree=0.9843509109175221, learning_rate=0.05083424673557645, max_depth=5, n_estimators=400, subsample=0.7879788781759072; total time=   2.5s\n",
      "Fitting 3 folds for each of 1 candidates, totalling 3 fits\n",
      "[CV] END colsample_bytree=0.997219666182821, learning_rate=0.01822433284404829, max_depth=5, n_estimators=500, subsample=1.0; total time=   3.2s\n",
      "[CV] END colsample_bytree=0.997219666182821, learning_rate=0.01822433284404829, max_depth=5, n_estimators=500, subsample=1.0; total time=   3.4s\n",
      "[CV] END colsample_bytree=0.997219666182821, learning_rate=0.01822433284404829, max_depth=5, n_estimators=500, subsample=1.0; total time=   3.1s\n",
      "Fitting 3 folds for each of 1 candidates, totalling 3 fits\n",
      "[CV] END colsample_bytree=0.6089963866544782, learning_rate=0.029003998116824872, max_depth=5, n_estimators=400, subsample=0.5507978924226039; total time=   2.7s\n",
      "[CV] END colsample_bytree=0.6089963866544782, learning_rate=0.029003998116824872, max_depth=5, n_estimators=400, subsample=0.5507978924226039; total time=   3.1s\n",
      "[CV] END colsample_bytree=0.6089963866544782, learning_rate=0.029003998116824872, max_depth=5, n_estimators=400, subsample=0.5507978924226039; total time=   2.9s\n",
      "Fitting 3 folds for each of 1 candidates, totalling 3 fits\n",
      "[CV] END colsample_bytree=0.6782017298164205, learning_rate=0.013320178600394755, max_depth=5, n_estimators=400, subsample=0.9617175971094387; total time=   3.3s\n",
      "[CV] END colsample_bytree=0.6782017298164205, learning_rate=0.013320178600394755, max_depth=5, n_estimators=400, subsample=0.9617175971094387; total time=   3.4s\n",
      "[CV] END colsample_bytree=0.6782017298164205, learning_rate=0.013320178600394755, max_depth=5, n_estimators=400, subsample=0.9617175971094387; total time=   3.6s\n",
      "Fitting 3 folds for each of 1 candidates, totalling 3 fits\n",
      "[CV] END colsample_bytree=0.7202993389609642, learning_rate=0.09301041652055306, max_depth=4, n_estimators=400, subsample=0.9698176853583786; total time=   2.3s\n",
      "[CV] END colsample_bytree=0.7202993389609642, learning_rate=0.09301041652055306, max_depth=4, n_estimators=400, subsample=0.9698176853583786; total time=   2.2s\n",
      "[CV] END colsample_bytree=0.7202993389609642, learning_rate=0.09301041652055306, max_depth=4, n_estimators=400, subsample=0.9698176853583786; total time=   2.3s\n",
      "Fitting 3 folds for each of 1 candidates, totalling 3 fits\n",
      "[CV] END colsample_bytree=0.5013932859348438, learning_rate=0.0507671618254404, max_depth=4, n_estimators=300, subsample=0.5152654670580605; total time=   2.0s\n",
      "[CV] END colsample_bytree=0.5013932859348438, learning_rate=0.0507671618254404, max_depth=4, n_estimators=300, subsample=0.5152654670580605; total time=   1.8s\n",
      "[CV] END colsample_bytree=0.5013932859348438, learning_rate=0.0507671618254404, max_depth=4, n_estimators=300, subsample=0.5152654670580605; total time=   2.0s\n",
      "Fitting 3 folds for each of 1 candidates, totalling 3 fits\n",
      "[CV] END colsample_bytree=0.6506337311755445, learning_rate=0.09142456513739218, max_depth=5, n_estimators=400, subsample=0.9766497015205198; total time=   2.7s\n",
      "[CV] END colsample_bytree=0.6506337311755445, learning_rate=0.09142456513739218, max_depth=5, n_estimators=400, subsample=0.9766497015205198; total time=   2.6s\n",
      "[CV] END colsample_bytree=0.6506337311755445, learning_rate=0.09142456513739218, max_depth=5, n_estimators=400, subsample=0.9766497015205198; total time=   2.5s\n",
      "Best parameters: OrderedDict([('colsample_bytree', 0.7552037744611002), ('learning_rate', 0.02888752759463048), ('max_depth', 3), ('n_estimators', 500), ('subsample', 0.7329554661349822)])\n",
      "Best score: 0.9192689890802775\n"
     ]
    }
   ],
   "source": [
    "#bayesian optim\n",
    "# Define search space\n",
    "search_space = {\n",
    "    'max_depth': Integer(3, 5),\n",
    "    'learning_rate': Real(0.01, 0.3, prior='log-uniform'),\n",
    "    'subsample': Real(0.5, 1.0),\n",
    "    'colsample_bytree': Real(0.5, 1.0),\n",
    "    'n_estimators': Categorical([400,500,300])\n",
    "}\n",
    "\n",
    "# Create XGBoost classifier\n",
    "xgb = XGBClassifier(objective='binary:logistic', random_state=42)\n",
    "\n",
    "# Perform Bayesian optimization\n",
    "bayes_search = BayesSearchCV(estimator=xgb, search_spaces=search_space, n_iter=25, cv=3, n_jobs=1, verbose=2)\n",
    "bayes_search.fit(X_train_xgb, y_train_xgb)\n",
    "\n",
    "# Print best parameters\n",
    "print(f\"Best parameters: {bayes_search.best_params_}\")\n",
    "print(f\"Best score: {bayes_search.best_score_}\")"
   ]
  },
  {
   "cell_type": "code",
   "execution_count": 20,
   "id": "7e32ff59-18e6-45ae-8166-09f80604328c",
   "metadata": {},
   "outputs": [
    {
     "name": "stdout",
     "output_type": "stream",
     "text": [
      "score on train set os 0.7510789216664722\n",
      "score on valid set os 0.6735852992516485\n"
     ]
    }
   ],
   "source": [
    "xgb = XGBClassifier(learning_rate = 0.15, max_depth = 3, n_estimators = 600, \n",
    "                   )\n",
    "\n",
    "xgb.fit(X_train_xgb, y_train_xgb)\n",
    "\n",
    "pred_train_xgb = xgb.predict_proba(X_train_xgb)[:, 1]\n",
    "pred_valid_xgb = xgb.predict_proba(X_valid_xgb)[:, 1]\n",
    "\n",
    "print(f'score on train set os {roc_auc_score(y_train_xgb, pred_train_xgb)}')\n",
    "print(f'score on valid set os {roc_auc_score(y_valid_xgb, pred_valid_xgb)}')"
   ]
  },
  {
   "cell_type": "markdown",
   "id": "0a60395d-77fa-4c7d-88b2-cf23b10d150a",
   "metadata": {},
   "source": [
    "#### LinearRegression"
   ]
  },
  {
   "cell_type": "code",
   "execution_count": 21,
   "id": "6c7ef7ac-1dad-4675-b2e5-2c1beb9852ac",
   "metadata": {},
   "outputs": [],
   "source": [
    "#LR model data\n",
    "X_train_lr, X_valid_lr, y_train_lr, y_valid_lr = X_train_xgb.copy(), X_valid_xgb.copy(), y_train_xgb.copy(), y_valid_xgb.copy()"
   ]
  },
  {
   "cell_type": "code",
   "execution_count": 22,
   "id": "d041eb7c-28de-42a5-b16a-b6f5df9c7cee",
   "metadata": {},
   "outputs": [
    {
     "data": {
      "text/plain": [
       "Series([], dtype: int64)"
      ]
     },
     "execution_count": 22,
     "metadata": {},
     "output_type": "execute_result"
    }
   ],
   "source": [
    "X_train_lr.isna().sum()[X_train_lr.isna().sum() != 0]"
   ]
  },
  {
   "cell_type": "code",
   "execution_count": 26,
   "id": "51be5d44-5845-4de5-b993-06118b83bc92",
   "metadata": {},
   "outputs": [
    {
     "name": "stdout",
     "output_type": "stream",
     "text": [
      "AUC on train set is 0.617\n",
      "AUC on valid set is 0.620\n"
     ]
    },
    {
     "name": "stderr",
     "output_type": "stream",
     "text": [
      "D:\\Apps\\miniconda3\\envs\\dl\\Lib\\site-packages\\sklearn\\linear_model\\_logistic.py:469: ConvergenceWarning: lbfgs failed to converge (status=1):\n",
      "STOP: TOTAL NO. of ITERATIONS REACHED LIMIT.\n",
      "\n",
      "Increase the number of iterations (max_iter) or scale the data as shown in:\n",
      "    https://scikit-learn.org/stable/modules/preprocessing.html\n",
      "Please also refer to the documentation for alternative solver options:\n",
      "    https://scikit-learn.org/stable/modules/linear_model.html#logistic-regression\n",
      "  n_iter_i = _check_optimize_result(\n"
     ]
    }
   ],
   "source": [
    "\n",
    "model = LogisticRegression()\n",
    "model.fit(X_train_lr, y_train_lr)\n",
    "\n",
    "y_pred_valid = model.predict_proba(X_valid_lr)[:, 1]\n",
    "y_pred_train = model.predict_proba(X_train_lr)[:, 1]\n",
    "\n",
    "print(\"AUC on train set is {:.3f}\".format(roc_auc_score(y_train_lr, y_pred_train)))\n",
    "print(\"AUC on valid set is {:.3f}\".format(roc_auc_score(y_valid_lr, y_pred_valid)))"
   ]
  },
  {
   "cell_type": "code",
   "execution_count": 28,
   "id": "e98162f1-f8b9-4476-a22a-3edbf5e442b8",
   "metadata": {},
   "outputs": [
    {
     "name": "stdout",
     "output_type": "stream",
     "text": [
      "AUC by merging on valid set is 0.668\n"
     ]
    }
   ],
   "source": [
    "merge_pred = (y_pred_valid + pred_valid_xgb)/2\n",
    "print(\"AUC by merging on valid set is {:.3f}\".format(roc_auc_score(y_valid_lr, merge_pred)))"
   ]
  }
 ],
 "metadata": {
  "kernelspec": {
   "display_name": "dl",
   "language": "python",
   "name": "dl"
  },
  "language_info": {
   "codemirror_mode": {
    "name": "ipython",
    "version": 3
   },
   "file_extension": ".py",
   "mimetype": "text/x-python",
   "name": "python",
   "nbconvert_exporter": "python",
   "pygments_lexer": "ipython3",
   "version": "3.11.10"
  }
 },
 "nbformat": 4,
 "nbformat_minor": 5
}
